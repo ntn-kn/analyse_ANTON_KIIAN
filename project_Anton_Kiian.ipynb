{
 "cells": [
  {
   "cell_type": "markdown",
   "id": "e7f897ca",
   "metadata": {
    "id": "e7f897ca"
   },
   "source": [
    "# Анализ лояльности пользователей Яндекс Афиши"
   ]
  },
  {
   "cell_type": "markdown",
   "id": "1b3b08ae",
   "metadata": {},
   "source": [
    "- Автор: Киян Антон\n",
    "- Дата: 25.10.2025\n",
    "\n",
    "### Цели и задачи проекта\n",
    "\n",
    "Исследовательский анализ данных, чтобы выяснить, какие пользователи с большей вероятностью возвращаются на платформу и делают заказы повторно. "
   ]
  },
  {
   "cell_type": "markdown",
   "id": "0344c09c",
   "metadata": {},
   "source": [
    "### Этапы выполнения проекта\n",
    "\n",
    "#### 1. Загрузка данных из БД и их предобработка\n",
    "#### 2. Предобработка данных\n",
    "#### 3. Создание профиля пользователя\n",
    "####  4. Исследовательский анализ данных\n",
    "##### 4.1. Исследование признаков первого заказа и их связи с возвращением на платформу\n",
    "##### 4.2. Исследование поведения пользователей через показатели выручки и состава заказа\n",
    "##### 4.3. Исследование временных характеристик первого заказа и их влияния на повторные покупки\n",
    "##### 4.4. Корреляционный анализ количества покупок и признаков пользователя\n",
    "#### 5. Общий вывод и рекомендации"
   ]
  },
  {
   "cell_type": "markdown",
   "id": "ab3b93fd",
   "metadata": {
    "id": "ab3b93fd"
   },
   "source": [
    "## Этапы выполнения проекта\n",
    "\n",
    "### 1. Загрузка данных и их предобработка\n",
    "\n",
    "---\n",
    "\n",
    "**Задача 1.1:** Напишите SQL-запрос, выгружающий в датафрейм pandas необходимые данные. Используйте следующие параметры для подключения к базе данных `data-analyst-afisha`:\n",
    "\n",
    "Для выгрузки используйте запрос из предыдущего урока и библиотеку SQLAlchemy.\n",
    "\n",
    "Выгрузка из базы данных SQL должна позволить собрать следующие данные:\n",
    "\n",
    "- `user_id` — уникальный идентификатор пользователя, совершившего заказ;\n",
    "- `device_type_canonical` — тип устройства, с которого был оформлен заказ (`mobile` — мобильные устройства, `desktop` — стационарные);\n",
    "- `order_id` — уникальный идентификатор заказа;\n",
    "- `order_dt` — дата создания заказа (используйте данные `created_dt_msk`);\n",
    "- `order_ts` — дата и время создания заказа (используйте данные `created_ts_msk`);\n",
    "- `currency_code` — валюта оплаты;\n",
    "- `revenue` — выручка от заказа;\n",
    "- `tickets_count` — количество купленных билетов;\n",
    "- `days_since_prev` — количество дней от предыдущей покупки пользователя, для пользователей с одной покупкой — значение пропущено;\n",
    "- `event_id` — уникальный идентификатор мероприятия;\n",
    "- `service_name` — название билетного оператора;\n",
    "- `event_type_main` — основной тип мероприятия (театральная постановка, концерт и так далее);\n",
    "- `region_name` — название региона, в котором прошло мероприятие;\n",
    "- `city_name` — название города, в котором прошло мероприятие.\n",
    "\n",
    "---\n"
   ]
  },
  {
   "cell_type": "markdown",
   "id": "97eaec8e",
   "metadata": {},
   "source": []
  },
  {
   "cell_type": "code",
   "execution_count": 1,
   "id": "0424ff10",
   "metadata": {},
   "outputs": [
    {
     "name": "stdout",
     "output_type": "stream",
     "text": [
      "Requirement already satisfied: sqlalchemy in /opt/conda/lib/python3.9/site-packages (1.4.20)\n",
      "Requirement already satisfied: greenlet!=0.4.17 in /opt/conda/lib/python3.9/site-packages (from sqlalchemy) (1.1.0)\n",
      "Requirement already satisfied: psycopg2-binary in /opt/conda/lib/python3.9/site-packages (2.9.2)\n",
      "Requirement already satisfied: phik in /opt/conda/lib/python3.9/site-packages (0.12.5)\n",
      "Requirement already satisfied: matplotlib>=2.2.3 in /opt/conda/lib/python3.9/site-packages (from phik) (3.3.4)\n",
      "Requirement already satisfied: numpy>=1.18.0 in /opt/conda/lib/python3.9/site-packages (from phik) (1.21.1)\n",
      "Requirement already satisfied: joblib>=0.14.1 in /opt/conda/lib/python3.9/site-packages (from phik) (1.1.0)\n",
      "Requirement already satisfied: pandas>=0.25.1 in /opt/conda/lib/python3.9/site-packages (from phik) (1.2.4)\n",
      "Requirement already satisfied: scipy>=1.5.2 in /opt/conda/lib/python3.9/site-packages (from phik) (1.9.1)\n",
      "Requirement already satisfied: pyparsing!=2.0.4,!=2.1.2,!=2.1.6,>=2.0.3 in /opt/conda/lib/python3.9/site-packages (from matplotlib>=2.2.3->phik) (2.4.7)\n",
      "Requirement already satisfied: cycler>=0.10 in /opt/conda/lib/python3.9/site-packages (from matplotlib>=2.2.3->phik) (0.11.0)\n",
      "Requirement already satisfied: kiwisolver>=1.0.1 in /opt/conda/lib/python3.9/site-packages (from matplotlib>=2.2.3->phik) (1.4.4)\n",
      "Requirement already satisfied: python-dateutil>=2.1 in /opt/conda/lib/python3.9/site-packages (from matplotlib>=2.2.3->phik) (2.8.1)\n",
      "Requirement already satisfied: pillow>=6.2.0 in /opt/conda/lib/python3.9/site-packages (from matplotlib>=2.2.3->phik) (8.4.0)\n",
      "Requirement already satisfied: pytz>=2017.3 in /opt/conda/lib/python3.9/site-packages (from pandas>=0.25.1->phik) (2021.1)\n",
      "Requirement already satisfied: six>=1.5 in /opt/conda/lib/python3.9/site-packages (from python-dateutil>=2.1->matplotlib>=2.2.3->phik) (1.16.0)\n",
      "Requirement already satisfied: dotenv in /opt/conda/lib/python3.9/site-packages (0.9.9)\n",
      "Requirement already satisfied: python-dotenv in /opt/conda/lib/python3.9/site-packages (from dotenv) (1.1.1)\n"
     ]
    }
   ],
   "source": [
    "!pip install sqlalchemy\n",
    "!pip install psycopg2-binary\n",
    "!pip install phik\n",
    "!pip install dotenv\n",
    "import os\n",
    "import dotenv\n",
    "import pandas as pd\n",
    "from sqlalchemy import create_engine\n",
    "\n",
    "# Загружаем библиотеки для визуализации данных\n",
    "import matplotlib.pyplot as plt\n",
    "import seaborn as sns\n",
    "\n",
    "# Загружаем библиотеку для расчёта коэффициента корреляции phi_k\n",
    "from phik import phik_matrix"
   ]
  },
  {
   "cell_type": "code",
   "execution_count": 2,
   "id": "6e024204",
   "metadata": {
    "id": "6e024204"
   },
   "outputs": [],
   "source": [
    "load_dotenv() # автоматически ищет .env в текущей директории\n",
    "\n",
    "connection_string = 'postgresql://{}:{}@{}:{}/{}'.format(\n",
    "    os.getenv('DB_USER'),\n",
    "    os.getenv('DB_PASSWORD'),\n",
    "    os.getenv('DB_HOST'),\n",
    "    os.getenv('DB_PORT'),\n",
    "    os.getenv('DB_NAME'),\n",
    ")\n",
    "\n",
    "engine = create_engine(connection_string)"
   ]
  },
  {
   "cell_type": "code",
   "execution_count": 3,
   "id": "67ecab94",
   "metadata": {
    "id": "67ecab94"
   },
   "outputs": [],
   "source": [
    "query = '''\n",
    "WITH set_config_precode AS (\n",
    "  SELECT set_config('synchronize_seqscans', 'off', true)\n",
    ")\n",
    "SELECT user_id,\n",
    "       device_type_canonical,\n",
    "       order_id,\n",
    "       created_dt_msk as order_dt,\n",
    "       created_ts_msk as order_ts,\n",
    "       currency_code,\n",
    "       revenue,\n",
    "       tickets_count,\n",
    "       days_since_prev,\n",
    "       event_id,\n",
    "       service_name,\n",
    "       event_type_main,\n",
    "       region_name,\n",
    "       city_name\n",
    "FROM(\n",
    "SELECT user_id,\n",
    "       device_type_canonical,\n",
    "       order_id,\n",
    "       created_dt_msk,\n",
    "       created_ts_msk,\n",
    "       currency_code,\n",
    "       revenue,\n",
    "       tickets_count,\n",
    "       event_id,\n",
    "       event_name_code,\n",
    "       service_name,\n",
    "       event_type_main,\n",
    "       region_name,\n",
    "       city_name,\n",
    "       LAG(created_dt_msk,1) OVER (PARTITION BY user_id ORDER BY created_dt_msk) as drt,\n",
    "       created_dt_msk::date - LAG(created_dt_msk::date) OVER (PARTITION BY user_id ORDER BY created_dt_msk) as days_since_prev\n",
    "FROM afisha.purchases\n",
    "LEFT JOIN afisha.events USING (event_id)\n",
    "LEFT JOIN afisha.city USING (city_id)\n",
    "LEFT JOIN afisha.regions USING (region_id)\n",
    "WHERE (device_type_canonical = 'mobile' or device_type_canonical = 'desktop') AND event_type_main != 'фильм'\n",
    "ORDER BY user_id) as ttt\n",
    "'''\n",
    "df = pd.read_sql_query(query, con=engine)"
   ]
  },
  {
   "cell_type": "markdown",
   "id": "120237b6",
   "metadata": {
    "id": "120237b6"
   },
   "source": [
    "---\n",
    "\n",
    "**Задача 1.2:** Изучите общую информацию о выгруженных данных. Оцените корректность выгрузки и объём полученных данных.\n",
    "\n",
    "Предположите, какие шаги необходимо сделать на стадии предобработки данных — например, скорректировать типы данных.\n",
    "\n",
    "Зафиксируйте основную информацию о данных в кратком промежуточном выводе.\n",
    "\n",
    "---"
   ]
  },
  {
   "cell_type": "code",
   "execution_count": 4,
   "id": "6f638939",
   "metadata": {
    "id": "6f638939"
   },
   "outputs": [
    {
     "name": "stdout",
     "output_type": "stream",
     "text": [
      "<class 'pandas.core.frame.DataFrame'>\n",
      "RangeIndex: 290611 entries, 0 to 290610\n",
      "Data columns (total 14 columns):\n",
      " #   Column                 Non-Null Count   Dtype         \n",
      "---  ------                 --------------   -----         \n",
      " 0   user_id                290611 non-null  object        \n",
      " 1   device_type_canonical  290611 non-null  object        \n",
      " 2   order_id               290611 non-null  int64         \n",
      " 3   order_dt               290611 non-null  datetime64[ns]\n",
      " 4   order_ts               290611 non-null  datetime64[ns]\n",
      " 5   currency_code          290611 non-null  object        \n",
      " 6   revenue                290611 non-null  float64       \n",
      " 7   tickets_count          290611 non-null  int64         \n",
      " 8   days_since_prev        268678 non-null  float64       \n",
      " 9   event_id               290611 non-null  int64         \n",
      " 10  service_name           290611 non-null  object        \n",
      " 11  event_type_main        290611 non-null  object        \n",
      " 12  region_name            290611 non-null  object        \n",
      " 13  city_name              290611 non-null  object        \n",
      "dtypes: datetime64[ns](2), float64(2), int64(3), object(7)\n",
      "memory usage: 31.0+ MB\n",
      "None\n"
     ]
    }
   ],
   "source": [
    "print(df.info())"
   ]
  },
  {
   "cell_type": "code",
   "execution_count": 5,
   "id": "e8c6517f",
   "metadata": {
    "id": "e8c6517f"
   },
   "outputs": [
    {
     "data": {
      "text/html": [
       "<div>\n",
       "<style scoped>\n",
       "    .dataframe tbody tr th:only-of-type {\n",
       "        vertical-align: middle;\n",
       "    }\n",
       "\n",
       "    .dataframe tbody tr th {\n",
       "        vertical-align: top;\n",
       "    }\n",
       "\n",
       "    .dataframe thead th {\n",
       "        text-align: right;\n",
       "    }\n",
       "</style>\n",
       "<table border=\"1\" class=\"dataframe\">\n",
       "  <thead>\n",
       "    <tr style=\"text-align: right;\">\n",
       "      <th></th>\n",
       "      <th>user_id</th>\n",
       "      <th>device_type_canonical</th>\n",
       "      <th>order_id</th>\n",
       "      <th>order_dt</th>\n",
       "      <th>order_ts</th>\n",
       "      <th>currency_code</th>\n",
       "      <th>revenue</th>\n",
       "      <th>tickets_count</th>\n",
       "      <th>days_since_prev</th>\n",
       "      <th>event_id</th>\n",
       "      <th>service_name</th>\n",
       "      <th>event_type_main</th>\n",
       "      <th>region_name</th>\n",
       "      <th>city_name</th>\n",
       "    </tr>\n",
       "  </thead>\n",
       "  <tbody>\n",
       "    <tr>\n",
       "      <th>0</th>\n",
       "      <td>0002849b70a3ce2</td>\n",
       "      <td>mobile</td>\n",
       "      <td>4359165</td>\n",
       "      <td>2024-08-20</td>\n",
       "      <td>2024-08-20 16:08:03</td>\n",
       "      <td>rub</td>\n",
       "      <td>1521.94</td>\n",
       "      <td>4</td>\n",
       "      <td>NaN</td>\n",
       "      <td>169230</td>\n",
       "      <td>Край билетов</td>\n",
       "      <td>театр</td>\n",
       "      <td>Каменевский регион</td>\n",
       "      <td>Глиногорск</td>\n",
       "    </tr>\n",
       "    <tr>\n",
       "      <th>1</th>\n",
       "      <td>0005ca5e93f2cf4</td>\n",
       "      <td>mobile</td>\n",
       "      <td>7965605</td>\n",
       "      <td>2024-07-23</td>\n",
       "      <td>2024-07-23 18:36:24</td>\n",
       "      <td>rub</td>\n",
       "      <td>289.45</td>\n",
       "      <td>2</td>\n",
       "      <td>NaN</td>\n",
       "      <td>237325</td>\n",
       "      <td>Мой билет</td>\n",
       "      <td>выставки</td>\n",
       "      <td>Каменевский регион</td>\n",
       "      <td>Глиногорск</td>\n",
       "    </tr>\n",
       "    <tr>\n",
       "      <th>2</th>\n",
       "      <td>0005ca5e93f2cf4</td>\n",
       "      <td>mobile</td>\n",
       "      <td>7292370</td>\n",
       "      <td>2024-10-06</td>\n",
       "      <td>2024-10-06 13:56:02</td>\n",
       "      <td>rub</td>\n",
       "      <td>1258.57</td>\n",
       "      <td>4</td>\n",
       "      <td>75.0</td>\n",
       "      <td>578454</td>\n",
       "      <td>За билетом!</td>\n",
       "      <td>другое</td>\n",
       "      <td>Каменевский регион</td>\n",
       "      <td>Глиногорск</td>\n",
       "    </tr>\n",
       "    <tr>\n",
       "      <th>3</th>\n",
       "      <td>000898990054619</td>\n",
       "      <td>mobile</td>\n",
       "      <td>1139875</td>\n",
       "      <td>2024-07-13</td>\n",
       "      <td>2024-07-13 19:40:48</td>\n",
       "      <td>rub</td>\n",
       "      <td>8.49</td>\n",
       "      <td>2</td>\n",
       "      <td>NaN</td>\n",
       "      <td>387271</td>\n",
       "      <td>Лови билет!</td>\n",
       "      <td>другое</td>\n",
       "      <td>Североярская область</td>\n",
       "      <td>Озёрск</td>\n",
       "    </tr>\n",
       "    <tr>\n",
       "      <th>4</th>\n",
       "      <td>000898990054619</td>\n",
       "      <td>mobile</td>\n",
       "      <td>972400</td>\n",
       "      <td>2024-10-04</td>\n",
       "      <td>2024-10-04 22:33:15</td>\n",
       "      <td>rub</td>\n",
       "      <td>1390.41</td>\n",
       "      <td>3</td>\n",
       "      <td>83.0</td>\n",
       "      <td>509453</td>\n",
       "      <td>Билеты без проблем</td>\n",
       "      <td>стендап</td>\n",
       "      <td>Озернинский край</td>\n",
       "      <td>Родниковецк</td>\n",
       "    </tr>\n",
       "  </tbody>\n",
       "</table>\n",
       "</div>"
      ],
      "text/plain": [
       "           user_id device_type_canonical  order_id   order_dt  \\\n",
       "0  0002849b70a3ce2                mobile   4359165 2024-08-20   \n",
       "1  0005ca5e93f2cf4                mobile   7965605 2024-07-23   \n",
       "2  0005ca5e93f2cf4                mobile   7292370 2024-10-06   \n",
       "3  000898990054619                mobile   1139875 2024-07-13   \n",
       "4  000898990054619                mobile    972400 2024-10-04   \n",
       "\n",
       "             order_ts currency_code  revenue  tickets_count  days_since_prev  \\\n",
       "0 2024-08-20 16:08:03           rub  1521.94              4              NaN   \n",
       "1 2024-07-23 18:36:24           rub   289.45              2              NaN   \n",
       "2 2024-10-06 13:56:02           rub  1258.57              4             75.0   \n",
       "3 2024-07-13 19:40:48           rub     8.49              2              NaN   \n",
       "4 2024-10-04 22:33:15           rub  1390.41              3             83.0   \n",
       "\n",
       "   event_id        service_name event_type_main           region_name  \\\n",
       "0    169230        Край билетов           театр    Каменевский регион   \n",
       "1    237325           Мой билет        выставки    Каменевский регион   \n",
       "2    578454         За билетом!          другое    Каменевский регион   \n",
       "3    387271         Лови билет!          другое  Североярская область   \n",
       "4    509453  Билеты без проблем         стендап      Озернинский край   \n",
       "\n",
       "     city_name  \n",
       "0   Глиногорск  \n",
       "1   Глиногорск  \n",
       "2   Глиногорск  \n",
       "3       Озёрск  \n",
       "4  Родниковецк  "
      ]
     },
     "metadata": {},
     "output_type": "display_data"
    }
   ],
   "source": [
    "display(df.head())"
   ]
  },
  {
   "cell_type": "markdown",
   "id": "32804799",
   "metadata": {
    "id": "fcfca89a"
   },
   "source": [
    "**Промежуточный вывод 1.2**\n",
    "\n",
    "Всего в данных 14 столбцов и 290 611 строк. Пропуски есть только в столбце `days_since_prev` - это связано с тем, что не все пользователи совершали повторные покупки и для первой покупки значение отсутствует."
   ]
  },
  {
   "cell_type": "markdown",
   "id": "167e42ac",
   "metadata": {
    "id": "6b7d2d83"
   },
   "source": [
    "**Формат данных**\n",
    "\n",
    "1) `order_dt` - представлен datetime64[ns]. Можно скорректировать `order_dt` - до дней\n",
    "\n",
    "2) `order_id` и `event_id` - это идентификаторы и числовых операций не будет, поэтому исправление на формат 'object'\n",
    "\n",
    "3) размерность всех int64 и float64 уменьшить"
   ]
  },
  {
   "cell_type": "markdown",
   "id": "66945343",
   "metadata": {
    "id": "66945343"
   },
   "source": [
    "---\n",
    "\n",
    "###  2. Предобработка данных\n",
    "\n",
    "Выполните все стандартные действия по предобработке данных:\n",
    "\n",
    "---\n",
    "\n",
    "**Задача 2.1:** Данные о выручке сервиса представлены в российских рублях и казахстанских тенге. Приведите выручку к единой валюте — российскому рублю.\n",
    "\n",
    "Для этого используйте датасет с информацией о курсе казахстанского тенге по отношению к российскому рублю за 2024 год — `final_tickets_tenge_df.csv`. Его можно загрузить по пути `https://code.s3.yandex.net/datasets/final_tickets_tenge_df.csv')`\n",
    "\n",
    "Значения в рублях представлено для 100 тенге.\n",
    "\n",
    "Результаты преобразования сохраните в новый столбец `revenue_rub`.\n",
    "\n",
    "---\n"
   ]
  },
  {
   "cell_type": "markdown",
   "id": "be518dfa",
   "metadata": {},
   "source": [
    "Выгрузка данных, изменение формата в дату для дальнейшего присоедения"
   ]
  },
  {
   "cell_type": "code",
   "execution_count": 6,
   "id": "c7ed8a0b",
   "metadata": {
    "id": "c7ed8a0b"
   },
   "outputs": [],
   "source": [
    "tenge_df = pd.read_csv('https://code.s3.yandex.net/datasets/final_tickets_tenge_df.csv')"
   ]
  },
  {
   "cell_type": "code",
   "execution_count": 7,
   "id": "0a8fe5e2",
   "metadata": {},
   "outputs": [
    {
     "name": "stdout",
     "output_type": "stream",
     "text": [
      "<class 'pandas.core.frame.DataFrame'>\n",
      "RangeIndex: 357 entries, 0 to 356\n",
      "Data columns (total 4 columns):\n",
      " #   Column   Non-Null Count  Dtype         \n",
      "---  ------   --------------  -----         \n",
      " 0   data     357 non-null    datetime64[ns]\n",
      " 1   nominal  357 non-null    int64         \n",
      " 2   curs     357 non-null    float64       \n",
      " 3   cdx      357 non-null    object        \n",
      "dtypes: datetime64[ns](1), float64(1), int64(1), object(1)\n",
      "memory usage: 11.3+ KB\n",
      "None\n",
      "        data  nominal     curs  cdx\n",
      "0 2024-01-10      100  19.9391  kzt\n",
      "1 2024-01-11      100  19.7255  kzt\n",
      "2 2024-01-12      100  19.5839  kzt\n",
      "3 2024-01-13      100  19.4501  kzt\n",
      "4 2024-01-14      100  19.4501  kzt\n"
     ]
    }
   ],
   "source": [
    "tenge_df['data']=pd.to_datetime(tenge_df['data'])\n",
    "print(tenge_df.info())\n",
    "print(tenge_df.head())\n"
   ]
  },
  {
   "cell_type": "markdown",
   "id": "9b884536",
   "metadata": {},
   "source": [
    "Присоединение датафреймов с входной и выходной проверкой количества данных"
   ]
  },
  {
   "cell_type": "code",
   "execution_count": 8,
   "id": "4e7b154c",
   "metadata": {},
   "outputs": [
    {
     "data": {
      "text/plain": [
       "290611"
      ]
     },
     "execution_count": 8,
     "metadata": {},
     "output_type": "execute_result"
    }
   ],
   "source": [
    "temp = df.copy() \n",
    "len(temp)"
   ]
  },
  {
   "cell_type": "code",
   "execution_count": 9,
   "id": "48e5ef83",
   "metadata": {
    "id": "48e5ef83"
   },
   "outputs": [],
   "source": [
    "df_df = pd.merge(df, tenge_df, left_on='order_dt',right_on='data', how='left')"
   ]
  },
  {
   "cell_type": "code",
   "execution_count": 10,
   "id": "887667f3",
   "metadata": {
    "id": "887667f3"
   },
   "outputs": [
    {
     "data": {
      "text/plain": [
       "290611"
      ]
     },
     "execution_count": 10,
     "metadata": {},
     "output_type": "execute_result"
    }
   ],
   "source": [
    "temp = df_df.copy() \n",
    "len(temp)"
   ]
  },
  {
   "cell_type": "markdown",
   "id": "4f4bc7ac",
   "metadata": {},
   "source": [
    "Перевод валюты по отношению к дате совершения сделки"
   ]
  },
  {
   "cell_type": "code",
   "execution_count": 11,
   "id": "6794dd40",
   "metadata": {},
   "outputs": [],
   "source": [
    "df_df['revenue_rub'] = df_df.apply(lambda row: row['revenue'] if row['currency_code'] == 'rub' else row['revenue']/100*row['curs'], axis=1)"
   ]
  },
  {
   "cell_type": "markdown",
   "id": "2496c861",
   "metadata": {},
   "source": [
    "Удаление лишних столбцов и проверка"
   ]
  },
  {
   "cell_type": "code",
   "execution_count": 12,
   "id": "d9a6f531",
   "metadata": {},
   "outputs": [],
   "source": [
    "df = df_df.drop(['data', 'nominal', 'curs', 'cdx'], axis=1)"
   ]
  },
  {
   "cell_type": "code",
   "execution_count": 13,
   "id": "da8affd7",
   "metadata": {},
   "outputs": [
    {
     "name": "stdout",
     "output_type": "stream",
     "text": [
      "             user_id device_type_canonical  order_id   order_dt  \\\n",
      "70   0033403583a55ed                mobile   7850214 2024-09-17   \n",
      "89   0040e12d70fae81               desktop   8634925 2024-09-02   \n",
      "96   0054b38b2653e6e                mobile   7625522 2024-09-09   \n",
      "277  00f4f5244501ce6                mobile    720419 2024-06-11   \n",
      "460  01370a0e9c1a7d5                mobile   2229811 2024-06-04   \n",
      "\n",
      "               order_ts currency_code   revenue  tickets_count  \\\n",
      "70  2024-09-17 16:52:06           kzt    518.10              4   \n",
      "89  2024-09-02 19:49:14           kzt    347.18              3   \n",
      "96  2024-09-09 18:06:04           kzt    328.77              4   \n",
      "277 2024-06-11 20:15:57           kzt  22021.55              5   \n",
      "460 2024-06-04 13:19:47           kzt   7397.66              4   \n",
      "\n",
      "     days_since_prev  event_id        service_name event_type_main  \\\n",
      "70              20.0    559919  Билеты без проблем          другое   \n",
      "89              39.0    559476  Билеты без проблем          другое   \n",
      "96               NaN    559582  Билеты без проблем          другое   \n",
      "277              NaN    536826           Мой билет        концерты   \n",
      "460              1.0    533803           Мой билет        концерты   \n",
      "\n",
      "             region_name   city_name  revenue_rub  \n",
      "70   Верхоречная область  Серебрянка    98.503762  \n",
      "89   Верхоречная область  Серебрянка    65.731589  \n",
      "96   Верхоречная область  Серебрянка    61.148261  \n",
      "277  Верхоречная область  Серебрянка  4380.702898  \n",
      "460     Шанырский регион   Широковка  1478.296591  \n"
     ]
    }
   ],
   "source": [
    "print(df[df['currency_code'] != 'rub'].head())"
   ]
  },
  {
   "cell_type": "markdown",
   "id": "d9867bfe",
   "metadata": {
    "id": "d9867bfe"
   },
   "source": [
    "---\n",
    "\n",
    "**Задача 2.2:**\n",
    "\n",
    "- Проверьте данные на пропущенные значения. Если выгрузка из SQL была успешной, то пропуски должны быть только в столбце `days_since_prev`.\n",
    "- Преобразуйте типы данных в некоторых столбцах, если это необходимо. Обратите внимание на данные с датой и временем, а также на числовые данные, размерность которых можно сократить.\n",
    "- Изучите значения в ключевых столбцах. Обработайте ошибки, если обнаружите их.\n",
    "    - Проверьте, какие категории указаны в столбцах с номинальными данными. Есть ли среди категорий такие, что обозначают пропуски в данных или отсутствие информации? Проведите нормализацию данных, если это необходимо.\n",
    "    - Проверьте распределение численных данных и наличие в них выбросов. Для этого используйте статистические показатели, гистограммы распределения значений или диаграммы размаха.\n",
    "        \n",
    "        Важные показатели в рамках поставленной задачи — это выручка с заказа (`revenue_rub`) и количество билетов в заказе (`tickets_count`), поэтому в первую очередь проверьте данные в этих столбцах.\n",
    "        \n",
    "        Если обнаружите выбросы в поле `revenue_rub`, то отфильтруйте значения по 99 перцентилю.\n",
    "\n",
    "После предобработки проверьте, были ли отфильтрованы данные. Если были, то оцените, в каком объёме. Сформулируйте промежуточный вывод, зафиксировав основные действия и описания новых столбцов.\n",
    "\n",
    "---"
   ]
  },
  {
   "cell_type": "code",
   "execution_count": 14,
   "id": "ded41ad2",
   "metadata": {},
   "outputs": [
    {
     "data": {
      "text/plain": [
       "0"
      ]
     },
     "execution_count": 14,
     "metadata": {},
     "output_type": "execute_result"
    }
   ],
   "source": [
    "df.duplicated().sum()"
   ]
  },
  {
   "cell_type": "code",
   "execution_count": 15,
   "id": "fc2edfbe",
   "metadata": {},
   "outputs": [
    {
     "data": {
      "text/plain": [
       "0"
      ]
     },
     "execution_count": 15,
     "metadata": {},
     "output_type": "execute_result"
    }
   ],
   "source": [
    "df.duplicated(subset='order_id').sum()"
   ]
  },
  {
   "cell_type": "code",
   "execution_count": 16,
   "id": "3446ad0c",
   "metadata": {},
   "outputs": [
    {
     "data": {
      "text/plain": [
       "64405"
      ]
     },
     "execution_count": 16,
     "metadata": {},
     "output_type": "execute_result"
    }
   ],
   "source": [
    "df.duplicated(subset=['user_id','device_type_canonical','currency_code','revenue','tickets_count','event_id','service_name','event_type_main','region_name','city_name','revenue_rub']).sum()"
   ]
  },
  {
   "cell_type": "code",
   "execution_count": 17,
   "id": "bda4e82a",
   "metadata": {},
   "outputs": [
    {
     "data": {
      "text/html": [
       "<div>\n",
       "<style scoped>\n",
       "    .dataframe tbody tr th:only-of-type {\n",
       "        vertical-align: middle;\n",
       "    }\n",
       "\n",
       "    .dataframe tbody tr th {\n",
       "        vertical-align: top;\n",
       "    }\n",
       "\n",
       "    .dataframe thead th {\n",
       "        text-align: right;\n",
       "    }\n",
       "</style>\n",
       "<table border=\"1\" class=\"dataframe\">\n",
       "  <thead>\n",
       "    <tr style=\"text-align: right;\">\n",
       "      <th></th>\n",
       "      <th>user_id</th>\n",
       "      <th>device_type_canonical</th>\n",
       "      <th>order_id</th>\n",
       "      <th>order_dt</th>\n",
       "      <th>order_ts</th>\n",
       "      <th>currency_code</th>\n",
       "      <th>revenue</th>\n",
       "      <th>tickets_count</th>\n",
       "      <th>days_since_prev</th>\n",
       "      <th>event_id</th>\n",
       "      <th>service_name</th>\n",
       "      <th>event_type_main</th>\n",
       "      <th>region_name</th>\n",
       "      <th>city_name</th>\n",
       "      <th>revenue_rub</th>\n",
       "    </tr>\n",
       "  </thead>\n",
       "  <tbody>\n",
       "    <tr>\n",
       "      <th>12</th>\n",
       "      <td>000cf0659a9f40f</td>\n",
       "      <td>mobile</td>\n",
       "      <td>6818104</td>\n",
       "      <td>2024-06-20</td>\n",
       "      <td>2024-06-20 12:46:11</td>\n",
       "      <td>rub</td>\n",
       "      <td>710.95</td>\n",
       "      <td>2</td>\n",
       "      <td>0.0</td>\n",
       "      <td>516728</td>\n",
       "      <td>Лови билет!</td>\n",
       "      <td>концерты</td>\n",
       "      <td>Широковская область</td>\n",
       "      <td>Радужнополье</td>\n",
       "      <td>710.95</td>\n",
       "    </tr>\n",
       "    <tr>\n",
       "      <th>13</th>\n",
       "      <td>000cf0659a9f40f</td>\n",
       "      <td>mobile</td>\n",
       "      <td>6818075</td>\n",
       "      <td>2024-06-20</td>\n",
       "      <td>2024-06-20 12:42:12</td>\n",
       "      <td>rub</td>\n",
       "      <td>1421.91</td>\n",
       "      <td>4</td>\n",
       "      <td>0.0</td>\n",
       "      <td>516728</td>\n",
       "      <td>Лови билет!</td>\n",
       "      <td>концерты</td>\n",
       "      <td>Широковская область</td>\n",
       "      <td>Радужнополье</td>\n",
       "      <td>1421.91</td>\n",
       "    </tr>\n",
       "    <tr>\n",
       "      <th>14</th>\n",
       "      <td>000cf0659a9f40f</td>\n",
       "      <td>mobile</td>\n",
       "      <td>6818046</td>\n",
       "      <td>2024-06-20</td>\n",
       "      <td>2024-06-20 12:40:27</td>\n",
       "      <td>rub</td>\n",
       "      <td>1421.91</td>\n",
       "      <td>4</td>\n",
       "      <td>0.0</td>\n",
       "      <td>516728</td>\n",
       "      <td>Лови билет!</td>\n",
       "      <td>концерты</td>\n",
       "      <td>Широковская область</td>\n",
       "      <td>Радужнополье</td>\n",
       "      <td>1421.91</td>\n",
       "    </tr>\n",
       "    <tr>\n",
       "      <th>15</th>\n",
       "      <td>000cf0659a9f40f</td>\n",
       "      <td>mobile</td>\n",
       "      <td>6818220</td>\n",
       "      <td>2024-06-20</td>\n",
       "      <td>2024-06-20 10:56:16</td>\n",
       "      <td>rub</td>\n",
       "      <td>1421.91</td>\n",
       "      <td>4</td>\n",
       "      <td>0.0</td>\n",
       "      <td>516728</td>\n",
       "      <td>Лови билет!</td>\n",
       "      <td>концерты</td>\n",
       "      <td>Широковская область</td>\n",
       "      <td>Радужнополье</td>\n",
       "      <td>1421.91</td>\n",
       "    </tr>\n",
       "    <tr>\n",
       "      <th>16</th>\n",
       "      <td>000cf0659a9f40f</td>\n",
       "      <td>mobile</td>\n",
       "      <td>6818017</td>\n",
       "      <td>2024-06-20</td>\n",
       "      <td>2024-06-20 10:35:26</td>\n",
       "      <td>rub</td>\n",
       "      <td>1421.91</td>\n",
       "      <td>4</td>\n",
       "      <td>0.0</td>\n",
       "      <td>516728</td>\n",
       "      <td>Лови билет!</td>\n",
       "      <td>концерты</td>\n",
       "      <td>Широковская область</td>\n",
       "      <td>Радужнополье</td>\n",
       "      <td>1421.91</td>\n",
       "    </tr>\n",
       "    <tr>\n",
       "      <th>...</th>\n",
       "      <td>...</td>\n",
       "      <td>...</td>\n",
       "      <td>...</td>\n",
       "      <td>...</td>\n",
       "      <td>...</td>\n",
       "      <td>...</td>\n",
       "      <td>...</td>\n",
       "      <td>...</td>\n",
       "      <td>...</td>\n",
       "      <td>...</td>\n",
       "      <td>...</td>\n",
       "      <td>...</td>\n",
       "      <td>...</td>\n",
       "      <td>...</td>\n",
       "      <td>...</td>\n",
       "    </tr>\n",
       "    <tr>\n",
       "      <th>290581</th>\n",
       "      <td>fffcd3dde79eb2c</td>\n",
       "      <td>mobile</td>\n",
       "      <td>3260036</td>\n",
       "      <td>2024-08-04</td>\n",
       "      <td>2024-08-04 11:16:39</td>\n",
       "      <td>rub</td>\n",
       "      <td>213.81</td>\n",
       "      <td>3</td>\n",
       "      <td>0.0</td>\n",
       "      <td>554265</td>\n",
       "      <td>Лучшие билеты</td>\n",
       "      <td>спорт</td>\n",
       "      <td>Каменевский регион</td>\n",
       "      <td>Глиногорск</td>\n",
       "      <td>213.81</td>\n",
       "    </tr>\n",
       "    <tr>\n",
       "      <th>290582</th>\n",
       "      <td>fffcd3dde79eb2c</td>\n",
       "      <td>mobile</td>\n",
       "      <td>3260065</td>\n",
       "      <td>2024-08-04</td>\n",
       "      <td>2024-08-04 11:14:13</td>\n",
       "      <td>rub</td>\n",
       "      <td>213.81</td>\n",
       "      <td>3</td>\n",
       "      <td>0.0</td>\n",
       "      <td>554265</td>\n",
       "      <td>Лучшие билеты</td>\n",
       "      <td>спорт</td>\n",
       "      <td>Каменевский регион</td>\n",
       "      <td>Глиногорск</td>\n",
       "      <td>213.81</td>\n",
       "    </tr>\n",
       "    <tr>\n",
       "      <th>290586</th>\n",
       "      <td>fffcd3dde79eb2c</td>\n",
       "      <td>mobile</td>\n",
       "      <td>8064727</td>\n",
       "      <td>2024-08-21</td>\n",
       "      <td>2024-08-21 21:30:50</td>\n",
       "      <td>rub</td>\n",
       "      <td>814.51</td>\n",
       "      <td>3</td>\n",
       "      <td>0.0</td>\n",
       "      <td>516365</td>\n",
       "      <td>Лови билет!</td>\n",
       "      <td>концерты</td>\n",
       "      <td>Яблоневская область</td>\n",
       "      <td>Светополье</td>\n",
       "      <td>814.51</td>\n",
       "    </tr>\n",
       "    <tr>\n",
       "      <th>290587</th>\n",
       "      <td>fffcd3dde79eb2c</td>\n",
       "      <td>mobile</td>\n",
       "      <td>8064814</td>\n",
       "      <td>2024-08-21</td>\n",
       "      <td>2024-08-21 21:40:02</td>\n",
       "      <td>rub</td>\n",
       "      <td>814.51</td>\n",
       "      <td>3</td>\n",
       "      <td>0.0</td>\n",
       "      <td>516365</td>\n",
       "      <td>Лови билет!</td>\n",
       "      <td>концерты</td>\n",
       "      <td>Яблоневская область</td>\n",
       "      <td>Светополье</td>\n",
       "      <td>814.51</td>\n",
       "    </tr>\n",
       "    <tr>\n",
       "      <th>290607</th>\n",
       "      <td>fffcd3dde79eb2c</td>\n",
       "      <td>mobile</td>\n",
       "      <td>368591</td>\n",
       "      <td>2024-10-27</td>\n",
       "      <td>2024-10-27 17:54:52</td>\n",
       "      <td>rub</td>\n",
       "      <td>965.57</td>\n",
       "      <td>4</td>\n",
       "      <td>0.0</td>\n",
       "      <td>33189</td>\n",
       "      <td>Весь в билетах</td>\n",
       "      <td>другое</td>\n",
       "      <td>Каменевский регион</td>\n",
       "      <td>Глиногорск</td>\n",
       "      <td>965.57</td>\n",
       "    </tr>\n",
       "  </tbody>\n",
       "</table>\n",
       "<p>64405 rows × 15 columns</p>\n",
       "</div>"
      ],
      "text/plain": [
       "                user_id device_type_canonical  order_id   order_dt  \\\n",
       "12      000cf0659a9f40f                mobile   6818104 2024-06-20   \n",
       "13      000cf0659a9f40f                mobile   6818075 2024-06-20   \n",
       "14      000cf0659a9f40f                mobile   6818046 2024-06-20   \n",
       "15      000cf0659a9f40f                mobile   6818220 2024-06-20   \n",
       "16      000cf0659a9f40f                mobile   6818017 2024-06-20   \n",
       "...                 ...                   ...       ...        ...   \n",
       "290581  fffcd3dde79eb2c                mobile   3260036 2024-08-04   \n",
       "290582  fffcd3dde79eb2c                mobile   3260065 2024-08-04   \n",
       "290586  fffcd3dde79eb2c                mobile   8064727 2024-08-21   \n",
       "290587  fffcd3dde79eb2c                mobile   8064814 2024-08-21   \n",
       "290607  fffcd3dde79eb2c                mobile    368591 2024-10-27   \n",
       "\n",
       "                  order_ts currency_code  revenue  tickets_count  \\\n",
       "12     2024-06-20 12:46:11           rub   710.95              2   \n",
       "13     2024-06-20 12:42:12           rub  1421.91              4   \n",
       "14     2024-06-20 12:40:27           rub  1421.91              4   \n",
       "15     2024-06-20 10:56:16           rub  1421.91              4   \n",
       "16     2024-06-20 10:35:26           rub  1421.91              4   \n",
       "...                    ...           ...      ...            ...   \n",
       "290581 2024-08-04 11:16:39           rub   213.81              3   \n",
       "290582 2024-08-04 11:14:13           rub   213.81              3   \n",
       "290586 2024-08-21 21:30:50           rub   814.51              3   \n",
       "290587 2024-08-21 21:40:02           rub   814.51              3   \n",
       "290607 2024-10-27 17:54:52           rub   965.57              4   \n",
       "\n",
       "        days_since_prev  event_id    service_name event_type_main  \\\n",
       "12                  0.0    516728     Лови билет!        концерты   \n",
       "13                  0.0    516728     Лови билет!        концерты   \n",
       "14                  0.0    516728     Лови билет!        концерты   \n",
       "15                  0.0    516728     Лови билет!        концерты   \n",
       "16                  0.0    516728     Лови билет!        концерты   \n",
       "...                 ...       ...             ...             ...   \n",
       "290581              0.0    554265   Лучшие билеты           спорт   \n",
       "290582              0.0    554265   Лучшие билеты           спорт   \n",
       "290586              0.0    516365     Лови билет!        концерты   \n",
       "290587              0.0    516365     Лови билет!        концерты   \n",
       "290607              0.0     33189  Весь в билетах          другое   \n",
       "\n",
       "                region_name     city_name  revenue_rub  \n",
       "12      Широковская область  Радужнополье       710.95  \n",
       "13      Широковская область  Радужнополье      1421.91  \n",
       "14      Широковская область  Радужнополье      1421.91  \n",
       "15      Широковская область  Радужнополье      1421.91  \n",
       "16      Широковская область  Радужнополье      1421.91  \n",
       "...                     ...           ...          ...  \n",
       "290581   Каменевский регион    Глиногорск       213.81  \n",
       "290582   Каменевский регион    Глиногорск       213.81  \n",
       "290586  Яблоневская область    Светополье       814.51  \n",
       "290587  Яблоневская область    Светополье       814.51  \n",
       "290607   Каменевский регион    Глиногорск       965.57  \n",
       "\n",
       "[64405 rows x 15 columns]"
      ]
     },
     "execution_count": 17,
     "metadata": {},
     "output_type": "execute_result"
    }
   ],
   "source": [
    "df[df.duplicated(subset=['user_id','device_type_canonical','currency_code','revenue','tickets_count','event_id','service_name','event_type_main','region_name','city_name','revenue_rub'], keep='first')]"
   ]
  },
  {
   "cell_type": "code",
   "execution_count": 18,
   "id": "295e3f6a",
   "metadata": {},
   "outputs": [],
   "source": [
    "df=df.drop_duplicates(subset=['user_id','device_type_canonical','currency_code','revenue','tickets_count','event_id','service_name','event_type_main','region_name','city_name','revenue_rub']).copy()"
   ]
  },
  {
   "cell_type": "code",
   "execution_count": 19,
   "id": "67891b97",
   "metadata": {},
   "outputs": [
    {
     "data": {
      "text/plain": [
       "226206"
      ]
     },
     "execution_count": 19,
     "metadata": {},
     "output_type": "execute_result"
    }
   ],
   "source": [
    "temp = df.copy() \n",
    "len(temp)"
   ]
  },
  {
   "cell_type": "markdown",
   "id": "58a3355e",
   "metadata": {},
   "source": [
    "Проверка пропусков"
   ]
  },
  {
   "cell_type": "code",
   "execution_count": 20,
   "id": "e68c5629",
   "metadata": {
    "id": "e68c5629"
   },
   "outputs": [
    {
     "data": {
      "text/plain": [
       "user_id                      0\n",
       "device_type_canonical        0\n",
       "order_id                     0\n",
       "order_dt                     0\n",
       "order_ts                     0\n",
       "currency_code                0\n",
       "revenue                      0\n",
       "tickets_count                0\n",
       "days_since_prev          21933\n",
       "event_id                     0\n",
       "service_name                 0\n",
       "event_type_main              0\n",
       "region_name                  0\n",
       "city_name                    0\n",
       "revenue_rub                  0\n",
       "dtype: int64"
      ]
     },
     "execution_count": 20,
     "metadata": {},
     "output_type": "execute_result"
    }
   ],
   "source": [
    "df.isna().sum()"
   ]
  },
  {
   "cell_type": "code",
   "execution_count": 21,
   "id": "19da3d6b",
   "metadata": {
    "id": "19da3d6b"
   },
   "outputs": [
    {
     "data": {
      "text/plain": [
       "user_id                  0.00000\n",
       "device_type_canonical    0.00000\n",
       "order_id                 0.00000\n",
       "order_dt                 0.00000\n",
       "order_ts                 0.00000\n",
       "currency_code            0.00000\n",
       "revenue                  0.00000\n",
       "tickets_count            0.00000\n",
       "days_since_prev          0.09696\n",
       "event_id                 0.00000\n",
       "service_name             0.00000\n",
       "event_type_main          0.00000\n",
       "region_name              0.00000\n",
       "city_name                0.00000\n",
       "revenue_rub              0.00000\n",
       "dtype: float64"
      ]
     },
     "execution_count": 21,
     "metadata": {},
     "output_type": "execute_result"
    }
   ],
   "source": [
    "df.isna().sum() / df.shape[0]"
   ]
  },
  {
   "cell_type": "markdown",
   "id": "afe25132",
   "metadata": {},
   "source": [
    "Корректировка типов данных (наносекунды я пытался сократить, данные превращались в object, поэтому переделывать не стал)"
   ]
  },
  {
   "cell_type": "code",
   "execution_count": 22,
   "id": "46758cc4",
   "metadata": {},
   "outputs": [
    {
     "data": {
      "text/plain": [
       "user_id                          object\n",
       "device_type_canonical            object\n",
       "order_id                          int64\n",
       "order_dt                 datetime64[ns]\n",
       "order_ts                 datetime64[ns]\n",
       "currency_code                    object\n",
       "revenue                         float64\n",
       "tickets_count                     int64\n",
       "days_since_prev                 float64\n",
       "event_id                          int64\n",
       "service_name                     object\n",
       "event_type_main                  object\n",
       "region_name                      object\n",
       "city_name                        object\n",
       "revenue_rub                     float64\n",
       "dtype: object"
      ]
     },
     "execution_count": 22,
     "metadata": {},
     "output_type": "execute_result"
    }
   ],
   "source": [
    "df.dtypes"
   ]
  },
  {
   "cell_type": "code",
   "execution_count": 23,
   "id": "d31ebfc8",
   "metadata": {
    "id": "d31ebfc8"
   },
   "outputs": [],
   "source": [
    "for column in ['tickets_count']:\n",
    "    df[column] = pd.to_numeric(df[column], downcast='integer')\n",
    "\n",
    "for column in ['revenue','revenue_rub','days_since_prev']:\n",
    "    df[column] = pd.to_numeric(df[column], downcast='float')\n",
    "    \n",
    "df['order_id'] = df['order_id'].astype(object)\n",
    "df['event_id'] = df['event_id'].astype(object)"
   ]
  },
  {
   "cell_type": "code",
   "execution_count": 24,
   "id": "2bd0064f",
   "metadata": {},
   "outputs": [
    {
     "data": {
      "text/plain": [
       "user_id                          object\n",
       "device_type_canonical            object\n",
       "order_id                         object\n",
       "order_dt                 datetime64[ns]\n",
       "order_ts                 datetime64[ns]\n",
       "currency_code                    object\n",
       "revenue                         float32\n",
       "tickets_count                      int8\n",
       "days_since_prev                 float32\n",
       "event_id                         object\n",
       "service_name                     object\n",
       "event_type_main                  object\n",
       "region_name                      object\n",
       "city_name                        object\n",
       "revenue_rub                     float32\n",
       "dtype: object"
      ]
     },
     "execution_count": 24,
     "metadata": {},
     "output_type": "execute_result"
    }
   ],
   "source": [
    "df.dtypes"
   ]
  },
  {
   "cell_type": "markdown",
   "id": "90c50363",
   "metadata": {},
   "source": [
    "Вывод уникальных значений в категориях"
   ]
  },
  {
   "cell_type": "code",
   "execution_count": 25,
   "id": "86721f82",
   "metadata": {},
   "outputs": [
    {
     "data": {
      "text/plain": [
       "array(['mobile', 'desktop'], dtype=object)"
      ]
     },
     "execution_count": 25,
     "metadata": {},
     "output_type": "execute_result"
    }
   ],
   "source": [
    "df['device_type_canonical'].unique()"
   ]
  },
  {
   "cell_type": "code",
   "execution_count": 26,
   "id": "4764be72",
   "metadata": {},
   "outputs": [
    {
     "data": {
      "text/plain": [
       "array(['rub', 'kzt'], dtype=object)"
      ]
     },
     "execution_count": 26,
     "metadata": {},
     "output_type": "execute_result"
    }
   ],
   "source": [
    "df['currency_code'].unique()"
   ]
  },
  {
   "cell_type": "code",
   "execution_count": 27,
   "id": "6367a05a",
   "metadata": {},
   "outputs": [
    {
     "data": {
      "text/plain": [
       "array(['театр', 'выставки', 'другое', 'стендап', 'концерты', 'спорт',\n",
       "       'ёлки'], dtype=object)"
      ]
     },
     "execution_count": 27,
     "metadata": {},
     "output_type": "execute_result"
    }
   ],
   "source": [
    "df['event_type_main'].unique()"
   ]
  },
  {
   "cell_type": "markdown",
   "id": "0d0f38c4",
   "metadata": {},
   "source": [
    "Вывод статистических значений и отчистка от выбросов"
   ]
  },
  {
   "cell_type": "code",
   "execution_count": 28,
   "id": "8c81b544",
   "metadata": {},
   "outputs": [
    {
     "data": {
      "text/plain": [
       "count    226206.000000\n",
       "mean        566.934204\n",
       "std         893.116150\n",
       "min         -90.760002\n",
       "25%         126.190002\n",
       "50%         369.820007\n",
       "75%         812.140015\n",
       "max       81174.539062\n",
       "Name: revenue_rub, dtype: float64"
      ]
     },
     "execution_count": 28,
     "metadata": {},
     "output_type": "execute_result"
    }
   ],
   "source": [
    "df['revenue_rub'].describe()"
   ]
  },
  {
   "cell_type": "code",
   "execution_count": 29,
   "id": "f4b11892",
   "metadata": {},
   "outputs": [
    {
     "data": {
      "image/png": "[encoded data removed]",
      "text/plain": [
       "<Figure size 504x144 with 1 Axes>"
      ]
     },
     "metadata": {
      "needs_background": "light"
     },
     "output_type": "display_data"
    }
   ],
   "source": [
    "# Создаём контейнер графика matplotlib и задаём его размер\n",
    "plt.figure(figsize=(7, 2))\n",
    "\n",
    "# Строим диаграмму размаха значений в столбце score\n",
    "df.boxplot(column='revenue_rub', vert=False)\n",
    "\n",
    "# Добавляем заголовок и метки оси\n",
    "plt.title('Распределение выручки в рублях')\n",
    "plt.xlabel('Общий чек')\n",
    "\n",
    "# Выводим график\n",
    "plt.show()"
   ]
  },
  {
   "cell_type": "code",
   "execution_count": 30,
   "id": "3626f084",
   "metadata": {},
   "outputs": [
    {
     "name": "stdout",
     "output_type": "stream",
     "text": [
      "2607.162109375\n"
     ]
    }
   ],
   "source": [
    "revenue_rub_99=df['revenue_rub'].quantile(0.99)\n",
    "print(revenue_rub_99)"
   ]
  },
  {
   "cell_type": "code",
   "execution_count": 31,
   "id": "ad626181",
   "metadata": {},
   "outputs": [
    {
     "data": {
      "text/plain": [
       "count    226206.000000\n",
       "mean          2.761501\n",
       "std           1.181264\n",
       "min           1.000000\n",
       "25%           2.000000\n",
       "50%           3.000000\n",
       "75%           4.000000\n",
       "max          57.000000\n",
       "Name: tickets_count, dtype: float64"
      ]
     },
     "execution_count": 31,
     "metadata": {},
     "output_type": "execute_result"
    }
   ],
   "source": [
    "df['tickets_count'].describe()"
   ]
  },
  {
   "cell_type": "code",
   "execution_count": 32,
   "id": "80475a0d",
   "metadata": {},
   "outputs": [
    {
     "data": {
      "image/png": "[encoded data removed]",
      "text/plain": [
       "<Figure size 504x144 with 1 Axes>"
      ]
     },
     "metadata": {
      "needs_background": "light"
     },
     "output_type": "display_data"
    }
   ],
   "source": [
    "# Создаём контейнер графика matplotlib и задаём его размер\n",
    "plt.figure(figsize=(7, 2))\n",
    "\n",
    "# Строим диаграмму размаха значений в столбце score\n",
    "df.boxplot(column='tickets_count', vert=False)\n",
    "\n",
    "# Добавляем заголовок и метки оси\n",
    "plt.title('Распределение количества билетов в заказе')\n",
    "plt.xlabel('Количество билетов в заказе')\n",
    "\n",
    "# Выводим график\n",
    "plt.show()"
   ]
  },
  {
   "cell_type": "code",
   "execution_count": 33,
   "id": "514bada2",
   "metadata": {},
   "outputs": [
    {
     "name": "stdout",
     "output_type": "stream",
     "text": [
      "6.0\n"
     ]
    }
   ],
   "source": [
    "tickets_count_99=df['tickets_count'].quantile(0.99)\n",
    "print(tickets_count_99)"
   ]
  },
  {
   "cell_type": "code",
   "execution_count": 34,
   "id": "c0c1b2c6",
   "metadata": {},
   "outputs": [
    {
     "data": {
      "text/plain": [
       "user_id                  320\n",
       "device_type_canonical    320\n",
       "order_id                 320\n",
       "order_dt                 320\n",
       "order_ts                 320\n",
       "currency_code            320\n",
       "revenue                  320\n",
       "tickets_count            320\n",
       "days_since_prev          284\n",
       "event_id                 320\n",
       "service_name             320\n",
       "event_type_main          320\n",
       "region_name              320\n",
       "city_name                320\n",
       "revenue_rub              320\n",
       "dtype: int64"
      ]
     },
     "execution_count": 34,
     "metadata": {},
     "output_type": "execute_result"
    }
   ],
   "source": [
    "df.loc[df['revenue_rub'] <0].count()"
   ]
  },
  {
   "cell_type": "code",
   "execution_count": 35,
   "id": "9517ce8e",
   "metadata": {},
   "outputs": [],
   "source": [
    "new_df = df.loc[(df['revenue_rub'] <= revenue_rub_99) & (df['revenue_rub'] > 0) & (df['tickets_count'] <= tickets_count_99)]"
   ]
  },
  {
   "cell_type": "code",
   "execution_count": 36,
   "id": "69fe05f3",
   "metadata": {},
   "outputs": [
    {
     "data": {
      "text/plain": [
       "count    219895.000000\n",
       "mean        537.278625\n",
       "std         507.506500\n",
       "min           0.020000\n",
       "25%         134.129997\n",
       "50%         374.410004\n",
       "75%         805.345001\n",
       "max        2607.162109\n",
       "Name: revenue_rub, dtype: float64"
      ]
     },
     "execution_count": 36,
     "metadata": {},
     "output_type": "execute_result"
    }
   ],
   "source": [
    "new_df['revenue_rub'].describe()"
   ]
  },
  {
   "cell_type": "code",
   "execution_count": 37,
   "id": "29d18f08",
   "metadata": {},
   "outputs": [
    {
     "data": {
      "text/plain": [
       "count    219895.000000\n",
       "mean          2.745433\n",
       "std           1.145030\n",
       "min           1.000000\n",
       "25%           2.000000\n",
       "50%           3.000000\n",
       "75%           4.000000\n",
       "max           6.000000\n",
       "Name: tickets_count, dtype: float64"
      ]
     },
     "execution_count": 37,
     "metadata": {},
     "output_type": "execute_result"
    }
   ],
   "source": [
    "new_df['tickets_count'].describe()"
   ]
  },
  {
   "cell_type": "code",
   "execution_count": 38,
   "id": "0cdd9b74",
   "metadata": {},
   "outputs": [
    {
     "data": {
      "text/plain": [
       "219895"
      ]
     },
     "execution_count": 38,
     "metadata": {},
     "output_type": "execute_result"
    }
   ],
   "source": [
    "temp2 = new_df.copy() \n",
    "len(temp2)"
   ]
  },
  {
   "cell_type": "code",
   "execution_count": 39,
   "id": "4a43228c",
   "metadata": {},
   "outputs": [
    {
     "name": "stdout",
     "output_type": "stream",
     "text": [
      "6311 0.02789934838156371\n"
     ]
    }
   ],
   "source": [
    "poterya=len(temp)-len(temp2)\n",
    "skolko=poterya/len(temp)\n",
    "print(poterya,skolko)"
   ]
  },
  {
   "cell_type": "code",
   "execution_count": 40,
   "id": "4962a9f2",
   "metadata": {},
   "outputs": [
    {
     "name": "stdout",
     "output_type": "stream",
     "text": [
      "<class 'pandas.core.frame.DataFrame'>\n",
      "Int64Index: 219895 entries, 0 to 290610\n",
      "Data columns (total 15 columns):\n",
      " #   Column                 Non-Null Count   Dtype         \n",
      "---  ------                 --------------   -----         \n",
      " 0   user_id                219895 non-null  object        \n",
      " 1   device_type_canonical  219895 non-null  object        \n",
      " 2   order_id               219895 non-null  object        \n",
      " 3   order_dt               219895 non-null  datetime64[ns]\n",
      " 4   order_ts               219895 non-null  datetime64[ns]\n",
      " 5   currency_code          219895 non-null  object        \n",
      " 6   revenue                219895 non-null  float32       \n",
      " 7   tickets_count          219895 non-null  int8          \n",
      " 8   days_since_prev        198547 non-null  float32       \n",
      " 9   event_id               219895 non-null  object        \n",
      " 10  service_name           219895 non-null  object        \n",
      " 11  event_type_main        219895 non-null  object        \n",
      " 12  region_name            219895 non-null  object        \n",
      " 13  city_name              219895 non-null  object        \n",
      " 14  revenue_rub            219895 non-null  float32       \n",
      "dtypes: datetime64[ns](2), float32(3), int8(1), object(9)\n",
      "memory usage: 22.9+ MB\n",
      "None\n"
     ]
    }
   ],
   "source": [
    "print(new_df.info())"
   ]
  },
  {
   "cell_type": "markdown",
   "id": "0de5609d",
   "metadata": {},
   "source": [
    "**Вывод предобработки данных.**\n",
    "\n",
    "Были пробразованы типы данных столбцов:\n",
    "`order_dt`, `event_id` - в object\n",
    "`revenue`, `tickets_count`, `days_since_prev` - уменьшена размерность\n",
    "\n",
    "`revenue_rub` - добавлен столбец с выручкой в рублях (тенге переведены по курсу на день совершения сделки)\n",
    "\n",
    "`revenue_rub`, `tickets_count` - проверены статистические данные, произошла фильтрация по 99 процентилю из-за сильных выбросов влияющих на общую статистику\n",
    "Эти данные составили 1% от общего числа строк.\n",
    "\n",
    "Данные сохранены в `new_df` "
   ]
  },
  {
   "cell_type": "markdown",
   "id": "621c1db9",
   "metadata": {
    "id": "621c1db9"
   },
   "source": [
    "---\n",
    "\n",
    "### 3. Создание профиля пользователя\n",
    "\n",
    "В будущем отдел маркетинга планирует создать модель для прогнозирования возврата пользователей. Поэтому сейчас они просят вас построить агрегированные признаки, описывающие поведение и профиль каждого пользователя.\n",
    "\n",
    "---\n",
    "\n",
    "**Задача 3.1.** Постройте профиль пользователя — для каждого пользователя найдите:\n",
    "\n",
    "- дату первого и последнего заказа;\n",
    "- устройство, с которого был сделан первый заказ;\n",
    "- регион, в котором был сделан первый заказ;\n",
    "- билетного партнёра, к которому обращались при первом заказе;\n",
    "- жанр первого посещённого мероприятия (используйте поле `event_type_main`);\n",
    "- общее количество заказов;\n",
    "- средняя выручка с одного заказа в рублях;\n",
    "- среднее количество билетов в заказе;\n",
    "- среднее время между заказами.\n",
    "\n",
    "После этого добавьте два бинарных признака:\n",
    "\n",
    "- `is_two` — совершил ли пользователь 2 и более заказа;\n",
    "- `is_five` — совершил ли пользователь 5 и более заказов.\n",
    "\n",
    "**Рекомендация:** перед тем как строить профиль, отсортируйте данные по времени совершения заказа.\n",
    "\n",
    "---\n"
   ]
  },
  {
   "cell_type": "code",
   "execution_count": 41,
   "id": "d480abf2",
   "metadata": {},
   "outputs": [
    {
     "name": "stdout",
     "output_type": "stream",
     "text": [
      "0beb8fc0c0a9ce1    7130\n",
      "18e9aead0a393e7    3097\n",
      "8187dac4be757a0    2815\n",
      "3ee7dc2e115847f    2772\n",
      "1c2a2133e1df1b4    2565\n",
      "                   ... \n",
      "25287c1e5ce204a       1\n",
      "ecc0b3dd4cb8b04       1\n",
      "ae453c840126764       1\n",
      "c92c958acb3e120       1\n",
      "7ec0c5fa40186ea       1\n",
      "Name: user_id, Length: 21679, dtype: int64\n"
     ]
    }
   ],
   "source": [
    "new_df = new_df.sort_values(by='order_dt', ascending=False).copy()\n",
    "value_counts = new_df['user_id'].value_counts()\n",
    "print(value_counts)"
   ]
  },
  {
   "cell_type": "code",
   "execution_count": 42,
   "id": "e374ef11",
   "metadata": {
    "id": "e374ef11"
   },
   "outputs": [],
   "source": [
    "predfinal_df = new_df.groupby('user_id').agg(\n",
    "    first_order=('order_ts', 'min'),\n",
    "    last_order=('order_ts', 'max'),\n",
    "    device_type_canonical=('device_type_canonical','first'),\n",
    "    region_name=('region_name','first'),\n",
    "    service_name=('service_name','first'),\n",
    "    event_type_main=('event_type_main','first'),\n",
    "    order_count=('order_id', 'count'),\n",
    "    avg_revenue=('revenue_rub', 'mean'),\n",
    "    avg_tickets=('tickets_count', 'mean'),\n",
    "    avg_days=('days_since_prev', 'mean')\n",
    ").reset_index()"
   ]
  },
  {
   "cell_type": "code",
   "execution_count": 43,
   "id": "ccba8254",
   "metadata": {},
   "outputs": [],
   "source": [
    "#temp = grouped_df.copy() \n",
    "#len(temp)"
   ]
  },
  {
   "cell_type": "code",
   "execution_count": 44,
   "id": "d351239c",
   "metadata": {
    "id": "d351239c"
   },
   "outputs": [],
   "source": [
    "#new_df2 = pd.merge(grouped_df, new_df, left_on=['user_id', 'first_order'], right_on=['user_id', 'order_ts'], how='left')"
   ]
  },
  {
   "cell_type": "code",
   "execution_count": 45,
   "id": "fe05ce70",
   "metadata": {},
   "outputs": [],
   "source": [
    "#temp = new_df2.copy() \n",
    "#len(temp)"
   ]
  },
  {
   "cell_type": "code",
   "execution_count": 46,
   "id": "65e2a758",
   "metadata": {
    "id": "65e2a758"
   },
   "outputs": [],
   "source": [
    "#predfinal_df = new_df2[['user_id', 'first_order', 'last_order', 'device_type_canonical', 'region_name', 'service_name', 'event_type_main', 'order_count', 'avg_revenue', 'avg_tickets','avg_days']].copy()"
   ]
  },
  {
   "cell_type": "code",
   "execution_count": 47,
   "id": "7bab23b7",
   "metadata": {},
   "outputs": [],
   "source": [
    "y=0\n",
    "def create_is_y(x):\n",
    "    if x>y:\n",
    "        return 1\n",
    "    return 0"
   ]
  },
  {
   "cell_type": "code",
   "execution_count": 48,
   "id": "5e0fde65",
   "metadata": {},
   "outputs": [],
   "source": [
    "y=1\n",
    "predfinal_df['is_two'] = predfinal_df['order_count'].apply(create_is_y)"
   ]
  },
  {
   "cell_type": "code",
   "execution_count": 49,
   "id": "ce406099",
   "metadata": {},
   "outputs": [],
   "source": [
    "y=4\n",
    "predfinal_df['is_five'] = predfinal_df['order_count'].apply(create_is_y)"
   ]
  },
  {
   "cell_type": "code",
   "execution_count": 50,
   "id": "06253be6",
   "metadata": {},
   "outputs": [
    {
     "data": {
      "text/html": [
       "<div>\n",
       "<style scoped>\n",
       "    .dataframe tbody tr th:only-of-type {\n",
       "        vertical-align: middle;\n",
       "    }\n",
       "\n",
       "    .dataframe tbody tr th {\n",
       "        vertical-align: top;\n",
       "    }\n",
       "\n",
       "    .dataframe thead th {\n",
       "        text-align: right;\n",
       "    }\n",
       "</style>\n",
       "<table border=\"1\" class=\"dataframe\">\n",
       "  <thead>\n",
       "    <tr style=\"text-align: right;\">\n",
       "      <th></th>\n",
       "      <th>user_id</th>\n",
       "      <th>first_order</th>\n",
       "      <th>last_order</th>\n",
       "      <th>device_type_canonical</th>\n",
       "      <th>region_name</th>\n",
       "      <th>service_name</th>\n",
       "      <th>event_type_main</th>\n",
       "      <th>order_count</th>\n",
       "      <th>avg_revenue</th>\n",
       "      <th>avg_tickets</th>\n",
       "      <th>avg_days</th>\n",
       "      <th>is_two</th>\n",
       "      <th>is_five</th>\n",
       "    </tr>\n",
       "  </thead>\n",
       "  <tbody>\n",
       "    <tr>\n",
       "      <th>0</th>\n",
       "      <td>0002849b70a3ce2</td>\n",
       "      <td>2024-08-20 16:08:03</td>\n",
       "      <td>2024-08-20 16:08:03</td>\n",
       "      <td>mobile</td>\n",
       "      <td>Каменевский регион</td>\n",
       "      <td>Край билетов</td>\n",
       "      <td>театр</td>\n",
       "      <td>1</td>\n",
       "      <td>1521.939941</td>\n",
       "      <td>4.000000</td>\n",
       "      <td>NaN</td>\n",
       "      <td>0</td>\n",
       "      <td>0</td>\n",
       "    </tr>\n",
       "    <tr>\n",
       "      <th>1</th>\n",
       "      <td>0005ca5e93f2cf4</td>\n",
       "      <td>2024-07-23 18:36:24</td>\n",
       "      <td>2024-10-06 13:56:02</td>\n",
       "      <td>mobile</td>\n",
       "      <td>Каменевский регион</td>\n",
       "      <td>За билетом!</td>\n",
       "      <td>другое</td>\n",
       "      <td>2</td>\n",
       "      <td>774.010010</td>\n",
       "      <td>3.000000</td>\n",
       "      <td>75.0</td>\n",
       "      <td>1</td>\n",
       "      <td>0</td>\n",
       "    </tr>\n",
       "    <tr>\n",
       "      <th>2</th>\n",
       "      <td>000898990054619</td>\n",
       "      <td>2024-07-13 19:40:48</td>\n",
       "      <td>2024-10-23 15:12:00</td>\n",
       "      <td>mobile</td>\n",
       "      <td>Лугоградская область</td>\n",
       "      <td>Облачко</td>\n",
       "      <td>концерты</td>\n",
       "      <td>3</td>\n",
       "      <td>767.213318</td>\n",
       "      <td>2.666667</td>\n",
       "      <td>51.0</td>\n",
       "      <td>1</td>\n",
       "      <td>0</td>\n",
       "    </tr>\n",
       "    <tr>\n",
       "      <th>3</th>\n",
       "      <td>00096d1f542ab2b</td>\n",
       "      <td>2024-08-15 16:48:48</td>\n",
       "      <td>2024-08-15 16:48:48</td>\n",
       "      <td>desktop</td>\n",
       "      <td>Каменевский регион</td>\n",
       "      <td>Край билетов</td>\n",
       "      <td>театр</td>\n",
       "      <td>1</td>\n",
       "      <td>917.830017</td>\n",
       "      <td>4.000000</td>\n",
       "      <td>NaN</td>\n",
       "      <td>0</td>\n",
       "      <td>0</td>\n",
       "    </tr>\n",
       "    <tr>\n",
       "      <th>4</th>\n",
       "      <td>000a55a418c128c</td>\n",
       "      <td>2024-09-29 19:39:12</td>\n",
       "      <td>2024-10-15 10:29:04</td>\n",
       "      <td>mobile</td>\n",
       "      <td>Поленовский край</td>\n",
       "      <td>Лучшие билеты</td>\n",
       "      <td>театр</td>\n",
       "      <td>2</td>\n",
       "      <td>61.309998</td>\n",
       "      <td>1.500000</td>\n",
       "      <td>16.0</td>\n",
       "      <td>1</td>\n",
       "      <td>0</td>\n",
       "    </tr>\n",
       "  </tbody>\n",
       "</table>\n",
       "</div>"
      ],
      "text/plain": [
       "           user_id         first_order          last_order  \\\n",
       "0  0002849b70a3ce2 2024-08-20 16:08:03 2024-08-20 16:08:03   \n",
       "1  0005ca5e93f2cf4 2024-07-23 18:36:24 2024-10-06 13:56:02   \n",
       "2  000898990054619 2024-07-13 19:40:48 2024-10-23 15:12:00   \n",
       "3  00096d1f542ab2b 2024-08-15 16:48:48 2024-08-15 16:48:48   \n",
       "4  000a55a418c128c 2024-09-29 19:39:12 2024-10-15 10:29:04   \n",
       "\n",
       "  device_type_canonical           region_name   service_name event_type_main  \\\n",
       "0                mobile    Каменевский регион   Край билетов           театр   \n",
       "1                mobile    Каменевский регион    За билетом!          другое   \n",
       "2                mobile  Лугоградская область        Облачко        концерты   \n",
       "3               desktop    Каменевский регион   Край билетов           театр   \n",
       "4                mobile      Поленовский край  Лучшие билеты           театр   \n",
       "\n",
       "   order_count  avg_revenue  avg_tickets  avg_days  is_two  is_five  \n",
       "0            1  1521.939941     4.000000       NaN       0        0  \n",
       "1            2   774.010010     3.000000      75.0       1        0  \n",
       "2            3   767.213318     2.666667      51.0       1        0  \n",
       "3            1   917.830017     4.000000       NaN       0        0  \n",
       "4            2    61.309998     1.500000      16.0       1        0  "
      ]
     },
     "metadata": {},
     "output_type": "display_data"
    }
   ],
   "source": [
    "display(predfinal_df.head())"
   ]
  },
  {
   "cell_type": "markdown",
   "id": "1LGZVL7FhrmD",
   "metadata": {
    "id": "1LGZVL7FhrmD"
   },
   "source": [
    "---\n",
    "\n",
    "**Задача 3.2.** Прежде чем проводить исследовательский анализ данных и делать выводы, важно понять, с какими данными вы работаете: насколько они репрезентативны и нет ли в них аномалий.\n",
    "\n",
    "Используя данные о профилях пользователей, рассчитайте:\n",
    "\n",
    "- общее число пользователей в выборке;\n",
    "- среднюю выручку с одного заказа;\n",
    "- долю пользователей, совершивших 2 и более заказа;\n",
    "- долю пользователей, совершивших 5 и более заказов.\n",
    "\n",
    "Также изучите статистические показатели:\n",
    "\n",
    "- по общему числу заказов;\n",
    "- по среднему числу билетов в заказе;\n",
    "- по среднему количеству дней между покупками.\n",
    "\n",
    "По результатам оцените данные: достаточно ли их по объёму, есть ли аномальные значения в данных о количестве заказов и среднем количестве билетов?\n",
    "\n",
    "Если вы найдёте аномальные значения, опишите их и примите обоснованное решение о том, как с ними поступить:\n",
    "\n",
    "- Оставить и учитывать их при анализе?\n",
    "- Отфильтровать данные по какому-то значению, например, по 95-му или 99-му перцентилю?\n",
    "\n",
    "Если вы проведёте фильтрацию, то вычислите объём отфильтрованных данных и выведите статистические показатели по обновлённому датасету."
   ]
  },
  {
   "cell_type": "code",
   "execution_count": 51,
   "id": "557be834",
   "metadata": {
    "id": "557be834"
   },
   "outputs": [
    {
     "name": "stdout",
     "output_type": "stream",
     "text": [
      "общее число пользователей в выборке: 21679\n"
     ]
    }
   ],
   "source": [
    "value_counts = predfinal_df['user_id'].value_counts()\n",
    "print(f'общее число пользователей в выборке: {value_counts.count()}')"
   ]
  },
  {
   "cell_type": "code",
   "execution_count": 52,
   "id": "b1eee99f",
   "metadata": {
    "id": "b1eee99f"
   },
   "outputs": [
    {
     "name": "stdout",
     "output_type": "stream",
     "text": [
      "средняя выручка с одного заказа: 549.489990234375\n"
     ]
    }
   ],
   "source": [
    "value_mean = predfinal_df['avg_revenue'].mean()\n",
    "print(f'средняя выручка с одного заказа: {round(value_mean,2)}')"
   ]
  },
  {
   "cell_type": "code",
   "execution_count": 53,
   "id": "ff28dc17",
   "metadata": {
    "id": "ff28dc17"
   },
   "outputs": [
    {
     "name": "stdout",
     "output_type": "stream",
     "text": [
      "доля пользователей, совершивших 2 и более заказа: 0.59\n"
     ]
    }
   ],
   "source": [
    "is_two_mean = predfinal_df['is_two'].mean()\n",
    "print(f'доля пользователей, совершивших 2 и более заказа: {round(is_two_mean,2)}')"
   ]
  },
  {
   "cell_type": "code",
   "execution_count": 54,
   "id": "3a7b73d5",
   "metadata": {},
   "outputs": [
    {
     "name": "stdout",
     "output_type": "stream",
     "text": [
      "доля пользователей, совершивших 5 и более заказов: 0.24\n"
     ]
    }
   ],
   "source": [
    "is_five_mean = predfinal_df['is_five'].mean()\n",
    "print(f'доля пользователей, совершивших 5 и более заказов: {round(is_five_mean,2)}')"
   ]
  },
  {
   "cell_type": "code",
   "execution_count": 55,
   "id": "29dac1ed",
   "metadata": {},
   "outputs": [
    {
     "data": {
      "text/plain": [
       "21679"
      ]
     },
     "execution_count": 55,
     "metadata": {},
     "output_type": "execute_result"
    }
   ],
   "source": [
    "temp_predfinal = predfinal_df.copy() \n",
    "len(temp_predfinal)"
   ]
  },
  {
   "cell_type": "code",
   "execution_count": 56,
   "id": "405d94d5",
   "metadata": {},
   "outputs": [
    {
     "data": {
      "text/html": [
       "<div>\n",
       "<style scoped>\n",
       "    .dataframe tbody tr th:only-of-type {\n",
       "        vertical-align: middle;\n",
       "    }\n",
       "\n",
       "    .dataframe tbody tr th {\n",
       "        vertical-align: top;\n",
       "    }\n",
       "\n",
       "    .dataframe thead th {\n",
       "        text-align: right;\n",
       "    }\n",
       "</style>\n",
       "<table border=\"1\" class=\"dataframe\">\n",
       "  <thead>\n",
       "    <tr style=\"text-align: right;\">\n",
       "      <th></th>\n",
       "      <th>order_count</th>\n",
       "      <th>avg_days</th>\n",
       "      <th>avg_tickets</th>\n",
       "      <th>avg_revenue</th>\n",
       "    </tr>\n",
       "  </thead>\n",
       "  <tbody>\n",
       "    <tr>\n",
       "      <th>count</th>\n",
       "      <td>21679.000000</td>\n",
       "      <td>12857.000000</td>\n",
       "      <td>21679.000000</td>\n",
       "      <td>21679.000000</td>\n",
       "    </tr>\n",
       "    <tr>\n",
       "      <th>mean</th>\n",
       "      <td>10.143226</td>\n",
       "      <td>18.454838</td>\n",
       "      <td>2.741939</td>\n",
       "      <td>549.491516</td>\n",
       "    </tr>\n",
       "    <tr>\n",
       "      <th>std</th>\n",
       "      <td>87.990538</td>\n",
       "      <td>23.529388</td>\n",
       "      <td>0.897708</td>\n",
       "      <td>423.621796</td>\n",
       "    </tr>\n",
       "    <tr>\n",
       "      <th>min</th>\n",
       "      <td>1.000000</td>\n",
       "      <td>0.000000</td>\n",
       "      <td>1.000000</td>\n",
       "      <td>0.070000</td>\n",
       "    </tr>\n",
       "    <tr>\n",
       "      <th>25%</th>\n",
       "      <td>1.000000</td>\n",
       "      <td>2.220588</td>\n",
       "      <td>2.000000</td>\n",
       "      <td>222.474556</td>\n",
       "    </tr>\n",
       "    <tr>\n",
       "      <th>50%</th>\n",
       "      <td>2.000000</td>\n",
       "      <td>10.600000</td>\n",
       "      <td>2.750000</td>\n",
       "      <td>480.954010</td>\n",
       "    </tr>\n",
       "    <tr>\n",
       "      <th>75%</th>\n",
       "      <td>4.000000</td>\n",
       "      <td>24.666666</td>\n",
       "      <td>3.000000</td>\n",
       "      <td>763.943726</td>\n",
       "    </tr>\n",
       "    <tr>\n",
       "      <th>max</th>\n",
       "      <td>7130.000000</td>\n",
       "      <td>148.000000</td>\n",
       "      <td>6.000000</td>\n",
       "      <td>2607.162109</td>\n",
       "    </tr>\n",
       "  </tbody>\n",
       "</table>\n",
       "</div>"
      ],
      "text/plain": [
       "        order_count      avg_days   avg_tickets   avg_revenue\n",
       "count  21679.000000  12857.000000  21679.000000  21679.000000\n",
       "mean      10.143226     18.454838      2.741939    549.491516\n",
       "std       87.990538     23.529388      0.897708    423.621796\n",
       "min        1.000000      0.000000      1.000000      0.070000\n",
       "25%        1.000000      2.220588      2.000000    222.474556\n",
       "50%        2.000000     10.600000      2.750000    480.954010\n",
       "75%        4.000000     24.666666      3.000000    763.943726\n",
       "max     7130.000000    148.000000      6.000000   2607.162109"
      ]
     },
     "execution_count": 56,
     "metadata": {},
     "output_type": "execute_result"
    }
   ],
   "source": [
    "predfinal_df[['order_count','avg_days','avg_tickets','avg_revenue']].describe()"
   ]
  },
  {
   "cell_type": "code",
   "execution_count": 57,
   "id": "12522133",
   "metadata": {},
   "outputs": [
    {
     "data": {
      "image/png": "[encoded data removed]",
      "text/plain": [
       "<Figure size 720x144 with 1 Axes>"
      ]
     },
     "metadata": {
      "needs_background": "light"
     },
     "output_type": "display_data"
    }
   ],
   "source": [
    "# Создаём контейнер графика matplotlib и задаём его размер\n",
    "plt.figure(figsize=(10, 2))\n",
    "\n",
    "# Строим диаграмму размаха значений в столбце score\n",
    "predfinal_df.boxplot(column='order_count', vert=False)\n",
    "\n",
    "# Добавляем заголовок и метки оси\n",
    "plt.title('Распределение количества заказов')\n",
    "plt.xlabel('Количество заказов')\n",
    "\n",
    "# Выводим график\n",
    "plt.show()"
   ]
  },
  {
   "cell_type": "code",
   "execution_count": 58,
   "id": "c6ee08cc",
   "metadata": {},
   "outputs": [
    {
     "name": "stdout",
     "output_type": "stream",
     "text": [
      "24.0\n"
     ]
    }
   ],
   "source": [
    "count_95=predfinal_df['order_count'].quantile(0.95)\n",
    "print(count_95)"
   ]
  },
  {
   "cell_type": "code",
   "execution_count": 59,
   "id": "41f86a65",
   "metadata": {},
   "outputs": [
    {
     "data": {
      "image/png": "[encoded data removed]",
      "text/plain": [
       "<Figure size 720x144 with 1 Axes>"
      ]
     },
     "metadata": {
      "needs_background": "light"
     },
     "output_type": "display_data"
    }
   ],
   "source": [
    "# Создаём контейнер графика matplotlib и задаём его размер\n",
    "plt.figure(figsize=(10, 2))\n",
    "\n",
    "# Строим диаграмму размаха значений в столбце score\n",
    "predfinal_df.boxplot(column='avg_tickets', vert=False)\n",
    "\n",
    "# Добавляем заголовок и метки оси\n",
    "plt.title('Распределение среднего количества билетов в заказе')\n",
    "plt.xlabel('Среднее количество билетов в заказе')\n",
    "\n",
    "# Выводим график\n",
    "plt.show()"
   ]
  },
  {
   "cell_type": "code",
   "execution_count": 60,
   "id": "90ab05f1",
   "metadata": {},
   "outputs": [
    {
     "name": "stdout",
     "output_type": "stream",
     "text": [
      "5.0\n"
     ]
    }
   ],
   "source": [
    "tickets_99=predfinal_df['avg_tickets'].quantile(0.99)\n",
    "print(tickets_99)"
   ]
  },
  {
   "cell_type": "code",
   "execution_count": 61,
   "id": "f406b821",
   "metadata": {},
   "outputs": [
    {
     "data": {
      "image/png": "[encoded data removed]",
      "text/plain": [
       "<Figure size 720x144 with 1 Axes>"
      ]
     },
     "metadata": {
      "needs_background": "light"
     },
     "output_type": "display_data"
    }
   ],
   "source": [
    "# Создаём контейнер графика matplotlib и задаём его размер\n",
    "plt.figure(figsize=(10, 2))\n",
    "\n",
    "# Строим диаграмму размаха значений в столбце score\n",
    "predfinal_df.boxplot(column='avg_days', vert=False)\n",
    "\n",
    "# Добавляем заголовок и метки оси\n",
    "plt.title('Распределение среднего количества дней между заказами')\n",
    "plt.xlabel('Среднее количество дней между заказами')\n",
    "\n",
    "# Выводим график\n",
    "plt.show()"
   ]
  },
  {
   "cell_type": "code",
   "execution_count": 62,
   "id": "13a56612",
   "metadata": {},
   "outputs": [
    {
     "data": {
      "image/png": "[encoded data removed]",
      "text/plain": [
       "<Figure size 720x360 with 1 Axes>"
      ]
     },
     "metadata": {
      "needs_background": "light"
     },
     "output_type": "display_data"
    }
   ],
   "source": [
    "plt.figure(figsize=(10, 5))\n",
    "\n",
    "predfinal_df['avg_days'].plot(\n",
    "                kind='hist',\n",
    "                bins=40,\n",
    "                alpha=0.75,\n",
    "                edgecolor='black',\n",
    "                rot=0,\n",
    "    \n",
    ")\n",
    "\n",
    "# Настраиваем оформление графика\n",
    "plt.title('Распределение среднего количества дней между заказами')\n",
    "plt.xlabel('Среднее количество дней между заказами')\n",
    "plt.ylabel('Частота')\n",
    "# Добавляем сетку графика\n",
    "plt.grid()\n",
    "\n",
    "# Выводим график\n",
    "plt.show()"
   ]
  },
  {
   "cell_type": "code",
   "execution_count": 63,
   "id": "bb085c23",
   "metadata": {},
   "outputs": [
    {
     "name": "stdout",
     "output_type": "stream",
     "text": [
      "116.44\n"
     ]
    }
   ],
   "source": [
    "days_99=predfinal_df['avg_days'].quantile(0.99)\n",
    "print(days_99)"
   ]
  },
  {
   "cell_type": "markdown",
   "id": "1398e567",
   "metadata": {},
   "source": [
    "Данных достаточно по объёму\n",
    "\n",
    "В среднем количестве билетов в заказе аномалий не обнаружено, в среднем количестве дней между заказами может показаться, что в данных также есть аномалии, но распределение похоже на нормальное.\n",
    "\n",
    "В количестве заказов обнаружено анамально большие значения. Принято решение отфильтровать по 95-му перцентилю. "
   ]
  },
  {
   "cell_type": "code",
   "execution_count": 64,
   "id": "a2d5927c",
   "metadata": {},
   "outputs": [],
   "source": [
    "final_df = predfinal_df.loc[predfinal_df['order_count'] < count_95]"
   ]
  },
  {
   "cell_type": "code",
   "execution_count": 65,
   "id": "f4c86a13",
   "metadata": {},
   "outputs": [
    {
     "data": {
      "text/plain": [
       "20567"
      ]
     },
     "execution_count": 65,
     "metadata": {},
     "output_type": "execute_result"
    }
   ],
   "source": [
    "temp_final = final_df.copy() \n",
    "len(temp_final)"
   ]
  },
  {
   "cell_type": "code",
   "execution_count": 66,
   "id": "1060717a",
   "metadata": {},
   "outputs": [
    {
     "data": {
      "text/plain": [
       "0.05129387886895152"
      ]
     },
     "execution_count": 66,
     "metadata": {},
     "output_type": "execute_result"
    }
   ],
   "source": [
    "(len(temp_predfinal)-len(temp_final))/len(temp_predfinal)"
   ]
  },
  {
   "cell_type": "markdown",
   "id": "63c04ea2",
   "metadata": {},
   "source": [
    "Итоговый набор данных был сокращен на 5%, что составляет 20594 значений."
   ]
  },
  {
   "cell_type": "code",
   "execution_count": 67,
   "id": "c219a031",
   "metadata": {},
   "outputs": [
    {
     "data": {
      "text/html": [
       "<div>\n",
       "<style scoped>\n",
       "    .dataframe tbody tr th:only-of-type {\n",
       "        vertical-align: middle;\n",
       "    }\n",
       "\n",
       "    .dataframe tbody tr th {\n",
       "        vertical-align: top;\n",
       "    }\n",
       "\n",
       "    .dataframe thead th {\n",
       "        text-align: right;\n",
       "    }\n",
       "</style>\n",
       "<table border=\"1\" class=\"dataframe\">\n",
       "  <thead>\n",
       "    <tr style=\"text-align: right;\">\n",
       "      <th></th>\n",
       "      <th>order_count</th>\n",
       "      <th>avg_days</th>\n",
       "      <th>avg_tickets</th>\n",
       "      <th>avg_revenue</th>\n",
       "    </tr>\n",
       "  </thead>\n",
       "  <tbody>\n",
       "    <tr>\n",
       "      <th>count</th>\n",
       "      <td>20567.000000</td>\n",
       "      <td>11745.000000</td>\n",
       "      <td>20567.000000</td>\n",
       "      <td>20567.000000</td>\n",
       "    </tr>\n",
       "    <tr>\n",
       "      <th>mean</th>\n",
       "      <td>3.290903</td>\n",
       "      <td>19.925608</td>\n",
       "      <td>2.742316</td>\n",
       "      <td>550.266052</td>\n",
       "    </tr>\n",
       "    <tr>\n",
       "      <th>std</th>\n",
       "      <td>3.814327</td>\n",
       "      <td>24.099144</td>\n",
       "      <td>0.920194</td>\n",
       "      <td>433.801239</td>\n",
       "    </tr>\n",
       "    <tr>\n",
       "      <th>min</th>\n",
       "      <td>1.000000</td>\n",
       "      <td>0.000000</td>\n",
       "      <td>1.000000</td>\n",
       "      <td>0.070000</td>\n",
       "    </tr>\n",
       "    <tr>\n",
       "      <th>25%</th>\n",
       "      <td>1.000000</td>\n",
       "      <td>3.000000</td>\n",
       "      <td>2.000000</td>\n",
       "      <td>211.625000</td>\n",
       "    </tr>\n",
       "    <tr>\n",
       "      <th>50%</th>\n",
       "      <td>2.000000</td>\n",
       "      <td>12.500000</td>\n",
       "      <td>2.750000</td>\n",
       "      <td>468.479980</td>\n",
       "    </tr>\n",
       "    <tr>\n",
       "      <th>75%</th>\n",
       "      <td>4.000000</td>\n",
       "      <td>27.000000</td>\n",
       "      <td>3.111111</td>\n",
       "      <td>780.936920</td>\n",
       "    </tr>\n",
       "    <tr>\n",
       "      <th>max</th>\n",
       "      <td>23.000000</td>\n",
       "      <td>148.000000</td>\n",
       "      <td>6.000000</td>\n",
       "      <td>2607.162109</td>\n",
       "    </tr>\n",
       "  </tbody>\n",
       "</table>\n",
       "</div>"
      ],
      "text/plain": [
       "        order_count      avg_days   avg_tickets   avg_revenue\n",
       "count  20567.000000  11745.000000  20567.000000  20567.000000\n",
       "mean       3.290903     19.925608      2.742316    550.266052\n",
       "std        3.814327     24.099144      0.920194    433.801239\n",
       "min        1.000000      0.000000      1.000000      0.070000\n",
       "25%        1.000000      3.000000      2.000000    211.625000\n",
       "50%        2.000000     12.500000      2.750000    468.479980\n",
       "75%        4.000000     27.000000      3.111111    780.936920\n",
       "max       23.000000    148.000000      6.000000   2607.162109"
      ]
     },
     "execution_count": 67,
     "metadata": {},
     "output_type": "execute_result"
    }
   ],
   "source": [
    "final_df[['order_count','avg_days','avg_tickets','avg_revenue']].describe()"
   ]
  },
  {
   "cell_type": "markdown",
   "id": "6yhiv3t1mPNU",
   "metadata": {
    "id": "6yhiv3t1mPNU"
   },
   "source": [
    "---\n",
    "\n",
    "### 4. Исследовательский анализ данных\n",
    "\n",
    "Следующий этап — исследование признаков, влияющих на возврат пользователей, то есть на совершение повторного заказа. Для этого используйте профили пользователей."
   ]
  },
  {
   "cell_type": "markdown",
   "id": "6fe731c3",
   "metadata": {
    "id": "6fe731c3"
   },
   "source": [
    "\n",
    "\n",
    "#### 4.1. Исследование признаков первого заказа и их связи с возвращением на платформу\n",
    "\n",
    "Исследуйте признаки, описывающие первый заказ пользователя, и выясните, влияют ли они на вероятность возвращения пользователя.\n",
    "\n",
    "---\n",
    "\n",
    "**Задача 4.1.1.** Изучите распределение пользователей по признакам.\n",
    "\n",
    "- Сгруппируйте пользователей:\n",
    "    - по типу их первого мероприятия;\n",
    "    - по типу устройства, с которого совершена первая покупка;\n",
    "    - по региону проведения мероприятия из первого заказа;\n",
    "    - по билетному оператору, продавшему билеты на первый заказ.\n",
    "- Подсчитайте общее количество пользователей в каждом сегменте и их долю в разрезе каждого признака. Сегмент — это группа пользователей, объединённых определённым признаком, то есть объединённые принадлежностью к категории. Например, все клиенты, сделавшие первый заказ с мобильного телефона, — это сегмент.\n",
    "- Ответьте на вопрос: равномерно ли распределены пользователи по сегментам или есть выраженные «точки входа» — сегменты с наибольшим числом пользователей?\n",
    "\n",
    "---\n"
   ]
  },
  {
   "cell_type": "code",
   "execution_count": 68,
   "id": "a3eb8de8",
   "metadata": {},
   "outputs": [
    {
     "name": "stdout",
     "output_type": "stream",
     "text": [
      "Распределение количества по типам мероприятий:\n",
      "концерты    8797\n",
      "другое      4801\n",
      "театр       4379\n",
      "стендап     1013\n",
      "спорт        966\n",
      "выставки     418\n",
      "ёлки         193\n",
      "Name: event_type_main, dtype: int64\n",
      "Доля по типам мероприятий:\n",
      "концерты    0.427724\n",
      "другое      0.233432\n",
      "театр       0.212914\n",
      "стендап     0.049254\n",
      "спорт       0.046968\n",
      "выставки    0.020324\n",
      "ёлки        0.009384\n",
      "Name: event_type_main, dtype: float64\n"
     ]
    }
   ],
   "source": [
    "colich_event_type_main=final_df['event_type_main'].value_counts()\n",
    "print(f'Распределение количества по типам мероприятий:\\n{colich_event_type_main}')\n",
    "dolya_event_type_main=final_df['event_type_main'].value_counts()/len(final_df)\n",
    "print(f'Доля по типам мероприятий:\\n{dolya_event_type_main}')"
   ]
  },
  {
   "cell_type": "code",
   "execution_count": 69,
   "id": "a8228a03",
   "metadata": {
    "id": "a8228a03"
   },
   "outputs": [
    {
     "data": {
      "image/png": "[encoded data removed]",
      "text/plain": [
       "<Figure size 504x216 with 1 Axes>"
      ]
     },
     "metadata": {
      "needs_background": "light"
     },
     "output_type": "display_data"
    }
   ],
   "source": [
    "plt.figure(figsize=(7, 3))\n",
    "\n",
    "# Строим столбчатую диаграмму с помощью pandas через plot(kind='bar')\n",
    "colich_event_type_main.plot(\n",
    "               kind='bar', # Тип графика - столбчатая диаграмма\n",
    "               rot=45, # Градус вращения подписи по оси Х\n",
    "               legend=False, # Выключаем легенду\n",
    "               title=f'Распределение количества по типам мероприятий'\n",
    ")\n",
    "\n",
    "# Настраиваем оформление графика\n",
    "plt.xlabel('Тип мероприятия')\n",
    "plt.ylabel('Количество')\n",
    "\n",
    "# Выводим график\n",
    "plt.show()"
   ]
  },
  {
   "cell_type": "code",
   "execution_count": 70,
   "id": "4cc37aa1",
   "metadata": {},
   "outputs": [
    {
     "data": {
      "image/png": "[encoded data removed]",
      "text/plain": [
       "<Figure size 504x216 with 1 Axes>"
      ]
     },
     "metadata": {
      "needs_background": "light"
     },
     "output_type": "display_data"
    }
   ],
   "source": [
    "plt.figure(figsize=(7, 3))\n",
    "\n",
    "# Строим столбчатую диаграмму с помощью pandas через plot(kind='bar')\n",
    "dolya_event_type_main.plot(\n",
    "               kind='bar', # Тип графика - столбчатая диаграмма\n",
    "               rot=0, # Градус вращения подписи по оси Х\n",
    "               legend=False, # Выключаем легенду\n",
    "               title=f'Распределение доли по типам мероприятий'\n",
    ")\n",
    "\n",
    "# Настраиваем оформление графика\n",
    "plt.xlabel('Тип мероприятия')\n",
    "plt.ylabel('Доля')\n",
    "\n",
    "# Выводим график\n",
    "plt.show()"
   ]
  },
  {
   "cell_type": "code",
   "execution_count": 71,
   "id": "6aeece2a",
   "metadata": {},
   "outputs": [
    {
     "name": "stdout",
     "output_type": "stream",
     "text": [
      "Распределение количества по типам устройств:\n",
      "mobile     17086\n",
      "desktop     3481\n",
      "Name: device_type_canonical, dtype: int64\n",
      "Доля по типам устройств:\n",
      "mobile     0.830748\n",
      "desktop    0.169252\n",
      "Name: device_type_canonical, dtype: float64\n"
     ]
    }
   ],
   "source": [
    "colich_device_type_canonical=final_df['device_type_canonical'].value_counts()\n",
    "print(f'Распределение количества по типам устройств:\\n{colich_device_type_canonical}')\n",
    "dolya_device_type_canonical=final_df['device_type_canonical'].value_counts()/len(final_df)\n",
    "print(f'Доля по типам устройств:\\n{dolya_device_type_canonical}')"
   ]
  },
  {
   "cell_type": "code",
   "execution_count": 72,
   "id": "8a1e6d24",
   "metadata": {},
   "outputs": [
    {
     "data": {
      "image/png": "[encoded data removed]",
      "text/plain": [
       "<Figure size 504x216 with 1 Axes>"
      ]
     },
     "metadata": {
      "needs_background": "light"
     },
     "output_type": "display_data"
    }
   ],
   "source": [
    "plt.figure(figsize=(7, 3))\n",
    "\n",
    "# Строим столбчатую диаграмму с помощью pandas через plot(kind='bar')\n",
    "colich_device_type_canonical.plot(\n",
    "               kind='bar', # Тип графика - столбчатая диаграмма\n",
    "               rot=0, # Градус вращения подписи по оси Х\n",
    "               legend=False, # Выключаем легенду\n",
    "               title=f'Распределение количества по типам устройств'\n",
    ")\n",
    "\n",
    "# Настраиваем оформление графика\n",
    "plt.xlabel('Тип устройств')\n",
    "plt.ylabel('Количество')\n",
    "\n",
    "# Выводим график\n",
    "plt.show()"
   ]
  },
  {
   "cell_type": "code",
   "execution_count": 73,
   "id": "b5e97b12",
   "metadata": {
    "id": "b5e97b12"
   },
   "outputs": [
    {
     "data": {
      "image/png": "[encoded data removed]",
      "text/plain": [
       "<Figure size 504x216 with 1 Axes>"
      ]
     },
     "metadata": {
      "needs_background": "light"
     },
     "output_type": "display_data"
    }
   ],
   "source": [
    "plt.figure(figsize=(7, 3))\n",
    "\n",
    "# Строим столбчатую диаграмму с помощью pandas через plot(kind='bar')\n",
    "dolya_device_type_canonical.plot(\n",
    "               kind='bar', # Тип графика - столбчатая диаграмма\n",
    "               rot=0, # Градус вращения подписи по оси Х\n",
    "               legend=False, # Выключаем легенду\n",
    "               title=f'Распределение доли по типам устройств'\n",
    ")\n",
    "\n",
    "# Настраиваем оформление графика\n",
    "plt.xlabel('Тип устройства')\n",
    "plt.ylabel('Доля')\n",
    "\n",
    "# Выводим график\n",
    "plt.show()"
   ]
  },
  {
   "cell_type": "code",
   "execution_count": 74,
   "id": "02aedf63",
   "metadata": {
    "id": "02aedf63"
   },
   "outputs": [
    {
     "name": "stdout",
     "output_type": "stream",
     "text": [
      "Распределение количества по типам мероприятий:\n",
      "Каменевский регион          6526\n",
      "Североярская область        3206\n",
      "Широковская область         1111\n",
      "Озернинский край             802\n",
      "Малиновоярский округ         567\n",
      "                            ... \n",
      "Яснопольский округ             1\n",
      "Светолесский край              1\n",
      "Сосноводолинская область       1\n",
      "Верхозёрский край              1\n",
      "Верховинская область           1\n",
      "Name: region_name, Length: 81, dtype: int64\n",
      "Доля по типам мероприятий:\n",
      "Каменевский регион          0.317304\n",
      "Североярская область        0.155881\n",
      "Широковская область         0.054019\n",
      "Озернинский край            0.038995\n",
      "Малиновоярский округ        0.027568\n",
      "                              ...   \n",
      "Яснопольский округ          0.000049\n",
      "Светолесский край           0.000049\n",
      "Сосноводолинская область    0.000049\n",
      "Верхозёрский край           0.000049\n",
      "Верховинская область        0.000049\n",
      "Name: region_name, Length: 81, dtype: float64\n"
     ]
    }
   ],
   "source": [
    "colich_region_name=final_df['region_name'].value_counts()\n",
    "print(f'Распределение количества по типам мероприятий:\\n{colich_region_name}')\n",
    "dolya_region_name=final_df['region_name'].value_counts()/len(final_df)\n",
    "print(f'Доля по типам мероприятий:\\n{dolya_region_name}')"
   ]
  },
  {
   "cell_type": "code",
   "execution_count": 75,
   "id": "c3d3f0d2",
   "metadata": {},
   "outputs": [
    {
     "data": {
      "image/png": "[encoded data removed]",
      "text/plain": [
       "<Figure size 1080x432 with 1 Axes>"
      ]
     },
     "metadata": {
      "needs_background": "light"
     },
     "output_type": "display_data"
    }
   ],
   "source": [
    "plt.figure(figsize=(15, 6))\n",
    "\n",
    "# Строим столбчатую диаграмму с помощью pandas через plot(kind='bar')\n",
    "colich_region_name.plot(\n",
    "               kind='bar', # Тип графика - столбчатая диаграмма\n",
    "               rot=90, # Градус вращения подписи по оси Х\n",
    "               legend=False, # Выключаем легенду\n",
    "               title=f'Распределение количества по регионам'\n",
    ")\n",
    "\n",
    "# Настраиваем оформление графика\n",
    "plt.xlabel('Регион')\n",
    "plt.ylabel('Количество')\n",
    "\n",
    "# Выводим график\n",
    "plt.show()"
   ]
  },
  {
   "cell_type": "code",
   "execution_count": 76,
   "id": "a6ad68e3",
   "metadata": {},
   "outputs": [
    {
     "data": {
      "image/png": "[encoded data removed]",
      "text/plain": [
       "<Figure size 1080x432 with 1 Axes>"
      ]
     },
     "metadata": {
      "needs_background": "light"
     },
     "output_type": "display_data"
    }
   ],
   "source": [
    "plt.figure(figsize=(15, 6))\n",
    "\n",
    "# Строим столбчатую диаграмму с помощью pandas через plot(kind='bar')\n",
    "dolya_region_name.plot(\n",
    "               kind='bar', # Тип графика - столбчатая диаграмма\n",
    "               rot=90, # Градус вращения подписи по оси Х\n",
    "               legend=False, # Выключаем легенду\n",
    "               title=f'Доля по регионам'\n",
    ")\n",
    "\n",
    "# Настраиваем оформление графика\n",
    "plt.xlabel('Регион')\n",
    "plt.ylabel('Доля')\n",
    "\n",
    "# Выводим график\n",
    "plt.show()"
   ]
  },
  {
   "cell_type": "code",
   "execution_count": 77,
   "id": "06b0a472",
   "metadata": {},
   "outputs": [
    {
     "name": "stdout",
     "output_type": "stream",
     "text": [
      "Распределение количества по билетному оператору:\n",
      "Билеты без проблем        4523\n",
      "Лови билет!               2834\n",
      "Мой билет                 2797\n",
      "Билеты в руки             2304\n",
      "Облачко                   2125\n",
      "Лучшие билеты             1314\n",
      "Весь в билетах            1220\n",
      "Прачечная                  566\n",
      "Яблоко                     392\n",
      "Край билетов               391\n",
      "Тебе билет!                370\n",
      "Дом культуры               290\n",
      "Городской дом культуры     235\n",
      "За билетом!                216\n",
      "Мир касс                   182\n",
      "Быстробилет                174\n",
      "Show_ticket                140\n",
      "Выступления.ру             128\n",
      "Восьмёрка                   59\n",
      "Радио ticket                57\n",
      "Crazy ticket!               54\n",
      "Шоу начинается!             45\n",
      "Телебилет                   35\n",
      "Росбилет                    30\n",
      "Быстрый кассир              16\n",
      "Кино билет                  14\n",
      "КарандашРУ                  13\n",
      "Цвет и билет                13\n",
      "Реестр                       9\n",
      "Билет по телефону            8\n",
      "Вперёд!                      8\n",
      "Тех билет                    2\n",
      "Дырокол                      2\n",
      "Лимоны                       1\n",
      "Name: service_name, dtype: int64\n",
      "Доля по билетному оператору:\n",
      "Билеты без проблем        0.219915\n",
      "Лови билет!               0.137794\n",
      "Мой билет                 0.135995\n",
      "Билеты в руки             0.112024\n",
      "Облачко                   0.103321\n",
      "Лучшие билеты             0.063889\n",
      "Весь в билетах            0.059318\n",
      "Прачечная                 0.027520\n",
      "Яблоко                    0.019060\n",
      "Край билетов              0.019011\n",
      "Тебе билет!               0.017990\n",
      "Дом культуры              0.014100\n",
      "Городской дом культуры    0.011426\n",
      "За билетом!               0.010502\n",
      "Мир касс                  0.008849\n",
      "Быстробилет               0.008460\n",
      "Show_ticket               0.006807\n",
      "Выступления.ру            0.006224\n",
      "Восьмёрка                 0.002869\n",
      "Радио ticket              0.002771\n",
      "Crazy ticket!             0.002626\n",
      "Шоу начинается!           0.002188\n",
      "Телебилет                 0.001702\n",
      "Росбилет                  0.001459\n",
      "Быстрый кассир            0.000778\n",
      "Кино билет                0.000681\n",
      "КарандашРУ                0.000632\n",
      "Цвет и билет              0.000632\n",
      "Реестр                    0.000438\n",
      "Билет по телефону         0.000389\n",
      "Вперёд!                   0.000389\n",
      "Тех билет                 0.000097\n",
      "Дырокол                   0.000097\n",
      "Лимоны                    0.000049\n",
      "Name: service_name, dtype: float64\n"
     ]
    }
   ],
   "source": [
    "colich_service_name=final_df['service_name'].value_counts()\n",
    "print(f'Распределение количества по билетному оператору:\\n{colich_service_name}')\n",
    "dolya_service_name=final_df['service_name'].value_counts()/len(final_df)\n",
    "print(f'Доля по билетному оператору:\\n{dolya_service_name}')"
   ]
  },
  {
   "cell_type": "code",
   "execution_count": 78,
   "id": "d48db276",
   "metadata": {},
   "outputs": [
    {
     "data": {
      "image/png": "[encoded data removed]",
      "text/plain": [
       "<Figure size 936x432 with 1 Axes>"
      ]
     },
     "metadata": {
      "needs_background": "light"
     },
     "output_type": "display_data"
    }
   ],
   "source": [
    "plt.figure(figsize=(13, 6))\n",
    "\n",
    "# Строим столбчатую диаграмму с помощью pandas через plot(kind='bar')\n",
    "colich_service_name.plot(\n",
    "               kind='bar', # Тип графика - столбчатая диаграмма\n",
    "               rot=90, # Градус вращения подписи по оси Х\n",
    "               legend=False, # Выключаем легенду\n",
    "               title=f'Распределение количества по билетному оператору'\n",
    ")\n",
    "\n",
    "# Настраиваем оформление графика\n",
    "plt.xlabel('Билетный оператор')\n",
    "plt.ylabel('Количество')\n",
    "\n",
    "# Выводим график\n",
    "plt.show()"
   ]
  },
  {
   "cell_type": "code",
   "execution_count": 79,
   "id": "23b747b4",
   "metadata": {},
   "outputs": [
    {
     "data": {
      "image/png": "[encoded data removed]",
      "text/plain": [
       "<Figure size 1080x432 with 1 Axes>"
      ]
     },
     "metadata": {
      "needs_background": "light"
     },
     "output_type": "display_data"
    }
   ],
   "source": [
    "plt.figure(figsize=(15, 6))\n",
    "\n",
    "# Строим столбчатую диаграмму с помощью pandas через plot(kind='bar')\n",
    "dolya_service_name.plot(\n",
    "               kind='bar', # Тип графика - столбчатая диаграмма\n",
    "               rot=90, # Градус вращения подписи по оси Х\n",
    "               legend=False, # Выключаем легенду\n",
    "               title=f'Доля по билетному оператору'\n",
    ")\n",
    "\n",
    "# Настраиваем оформление графика\n",
    "plt.xlabel('Билетный оператор')\n",
    "plt.ylabel('Доля')\n",
    "\n",
    "# Выводим график\n",
    "plt.show()"
   ]
  },
  {
   "cell_type": "markdown",
   "id": "6bffcbd5",
   "metadata": {},
   "source": [
    "*По типам мероприятий*\n",
    "\n",
    "На концерт, другое и театр больше всего первых покупок. \n",
    "\n",
    "Концерт 44.4%, Театр 19.6%. \n",
    "\n",
    "Остальные Стендап, Спорт, Выставки и Елки вместе взятые - это около 10% от общего числа\n",
    "\n",
    "*По типам устройств*\n",
    "\n",
    "Мобильные заказы явный лидер - 83 %, ПК - 17 %\n",
    "\n",
    "*По регионам*\n",
    "\n",
    "Выделяются Каменевский регион 33% и Североярская область 17% остальные 6% и ниже\n",
    "\n",
    "*По билетному оператору*\n",
    "\n",
    "Пятерка лидеров\n",
    "1) Билеты без проблем        23%\n",
    "2) Мой билет                 14%\n",
    "3) Лови билет!               13%\n",
    "4) Билеты в руки             11%\n",
    "5) Облачко                   10%\n",
    "\n",
    "У других меньше 5%\n"
   ]
  },
  {
   "cell_type": "markdown",
   "id": "d8ffd79b",
   "metadata": {
    "id": "d8ffd79b"
   },
   "source": [
    "---\n",
    "\n",
    "**Задача 4.1.2.** Проанализируйте возвраты пользователей:\n",
    "\n",
    "- Для каждого сегмента вычислите долю пользователей, совершивших два и более заказа.\n",
    "- Визуализируйте результат подходящим графиком. Если сегментов слишком много, то поместите на график только 10 сегментов с наибольшим количеством пользователей. Такое возможно с сегментами по региону и по билетному оператору.\n",
    "- Ответьте на вопросы:\n",
    "    - Какие сегменты пользователей чаще возвращаются на Яндекс Афишу?\n",
    "    - Наблюдаются ли успешные «точки входа» — такие сегменты, в которых пользователи чаще совершают повторный заказ, чем в среднем по выборке?\n",
    "\n",
    "При интерпретации результатов учитывайте размер сегментов: если в сегменте мало пользователей (например, десятки), то доли могут быть нестабильными и недостоверными, то есть показывать широкую вариацию значений.\n",
    "\n",
    "---\n"
   ]
  },
  {
   "cell_type": "code",
   "execution_count": 80,
   "id": "6ac5051a",
   "metadata": {},
   "outputs": [],
   "source": [
    "final_df_2=final_df[final_df['is_two']>0].copy()"
   ]
  },
  {
   "cell_type": "code",
   "execution_count": 81,
   "id": "212fc7bd",
   "metadata": {},
   "outputs": [
    {
     "data": {
      "text/plain": [
       "20567"
      ]
     },
     "execution_count": 81,
     "metadata": {},
     "output_type": "execute_result"
    }
   ],
   "source": [
    "len(final_df)"
   ]
  },
  {
   "cell_type": "code",
   "execution_count": 82,
   "id": "548d068a",
   "metadata": {
    "id": "548d068a"
   },
   "outputs": [
    {
     "name": "stdout",
     "output_type": "stream",
     "text": [
      "Распределение количества по типам мероприятий:\n",
      "концерты    4845\n",
      "театр       2712\n",
      "другое      2556\n",
      "спорт        594\n",
      "стендап      548\n",
      "выставки     261\n",
      "ёлки         150\n",
      "Name: event_type_main, dtype: int64\n",
      "Доля по типам мероприятий:\n",
      "ёлки        0.777202\n",
      "выставки    0.624402\n",
      "театр       0.619319\n",
      "спорт       0.614907\n",
      "концерты    0.550756\n",
      "стендап     0.540967\n",
      "другое      0.532389\n",
      "Name: event_type_main, dtype: float64\n"
     ]
    }
   ],
   "source": [
    "colich_event_type_main=final_df_2['event_type_main'].value_counts()\n",
    "print(f'Распределение количества по типам мероприятий:\\n{colich_event_type_main}')\n",
    "dolya_event_type_main=final_df_2['event_type_main'].value_counts()/final_df['event_type_main'].value_counts()\n",
    "print(f'Доля по типам мероприятий:\\n{dolya_event_type_main.sort_values(ascending=False)}')"
   ]
  },
  {
   "cell_type": "code",
   "execution_count": 83,
   "id": "dfd71a87",
   "metadata": {},
   "outputs": [
    {
     "data": {
      "image/png": "[encoded data removed]",
      "text/plain": [
       "<Figure size 504x216 with 1 Axes>"
      ]
     },
     "metadata": {
      "needs_background": "light"
     },
     "output_type": "display_data"
    }
   ],
   "source": [
    "plt.figure(figsize=(7, 3))\n",
    "\n",
    "# Строим столбчатую диаграмму с помощью pandas через plot(kind='bar')\n",
    "dolya_event_type_main.sort_values(ascending=False).plot(\n",
    "               kind='bar', # Тип графика - столбчатая диаграмма\n",
    "               rot=0, # Градус вращения подписи по оси Х\n",
    "               legend=False, # Выключаем легенду\n",
    "               title=f'Распределение доли по типам мероприятий, два и более заказа'\n",
    ")\n",
    "\n",
    "mean_churn_share = dolya_event_type_main.mean()\n",
    "\n",
    "# Наносим на график линию с средним значением доли нелояльных клиентов\n",
    "plt.axhline(mean_churn_share, # Данные, по которым строится линия\n",
    "            color='red', # Цвет линии\n",
    "            linestyle='--', # Стиль линии\n",
    "            linewidth=1, # Ширина линии\n",
    "            label=f'средний рейтинг {round(mean_churn_share,4)}')\n",
    "\n",
    "# Настраиваем оформление графика\n",
    "plt.xlabel('Тип мероприятия')\n",
    "plt.ylabel('Доля')\n",
    "\n",
    "# Выводим график\n",
    "plt.show()"
   ]
  },
  {
   "cell_type": "code",
   "execution_count": 84,
   "id": "27441ea8",
   "metadata": {
    "id": "27441ea8"
   },
   "outputs": [
    {
     "name": "stdout",
     "output_type": "stream",
     "text": [
      "Распределение количества по типам устройств:\n",
      "mobile     9614\n",
      "desktop    2052\n",
      "Name: device_type_canonical, dtype: int64\n",
      "Доля по типам устройств:\n",
      "desktop    0.589486\n",
      "mobile     0.562683\n",
      "Name: device_type_canonical, dtype: float64\n"
     ]
    }
   ],
   "source": [
    "colich_device_type_canonical=final_df_2['device_type_canonical'].value_counts()\n",
    "print(f'Распределение количества по типам устройств:\\n{colich_device_type_canonical}')\n",
    "dolya_device_type_canonical=final_df_2['device_type_canonical'].value_counts()/final_df['device_type_canonical'].value_counts()\n",
    "print(f'Доля по типам устройств:\\n{dolya_device_type_canonical.sort_values(ascending=False)}')"
   ]
  },
  {
   "cell_type": "code",
   "execution_count": 85,
   "id": "1721ca63",
   "metadata": {},
   "outputs": [
    {
     "data": {
      "image/png": "[encoded data removed]",
      "text/plain": [
       "<Figure size 504x216 with 1 Axes>"
      ]
     },
     "metadata": {
      "needs_background": "light"
     },
     "output_type": "display_data"
    }
   ],
   "source": [
    "plt.figure(figsize=(7, 3))\n",
    "\n",
    "# Строим столбчатую диаграмму с помощью pandas через plot(kind='bar')\n",
    "dolya_device_type_canonical.sort_values(ascending=False).plot(\n",
    "               kind='bar', # Тип графика - столбчатая диаграмма\n",
    "               rot=0, # Градус вращения подписи по оси Х\n",
    "               legend=False, # Выключаем легенду\n",
    "               title=f'Распределение доли по типам устройств, два и более заказа'\n",
    ")\n",
    "\n",
    "# Настраиваем оформление графика\n",
    "plt.xlabel('Тип устройства')\n",
    "plt.ylabel('Доля')\n",
    "\n",
    "# Выводим график\n",
    "plt.show()"
   ]
  },
  {
   "cell_type": "code",
   "execution_count": 86,
   "id": "2da12c2e",
   "metadata": {
    "id": "2da12c2e"
   },
   "outputs": [
    {
     "name": "stdout",
     "output_type": "stream",
     "text": [
      "Распределение количества по типам мероприятий:\n",
      "Каменевский регион      3704\n",
      "Североярская область    1750\n",
      "Широковская область      636\n",
      "Озернинский край         468\n",
      "Малиновоярский округ     318\n",
      "Светополянский округ     310\n",
      "Речиновская область      268\n",
      "Яблоневская область      254\n",
      "Серебринская область     245\n",
      "Медовская область        243\n",
      "Name: region_name, dtype: int64\n",
      "Доля по типам мероприятий:\n",
      "Верхозёрский край         1.000000\n",
      "Дубравная область         0.769231\n",
      "Озернопольская область    0.750000\n",
      "Берестовский округ        0.677419\n",
      "Горностепной регион       0.666667\n",
      "Лесноярский край          0.666667\n",
      "Речицкая область          0.659574\n",
      "Каменноозёрный край       0.656000\n",
      "Вишнёвский край           0.650000\n",
      "Кристаловская область     0.649123\n",
      "Name: region_name, dtype: float64\n"
     ]
    }
   ],
   "source": [
    "colich_region_name=final_df_2['region_name'].value_counts()\n",
    "print(f'Распределение количества по типам мероприятий:\\n{colich_region_name.sort_values(ascending=False)[:10]}')\n",
    "dolya_region_name=final_df_2['region_name'].value_counts()/final_df['region_name'].value_counts()\n",
    "print(f'Доля по типам мероприятий:\\n{dolya_region_name.sort_values(ascending=False)[:10]}')"
   ]
  },
  {
   "cell_type": "code",
   "execution_count": 87,
   "id": "09d08b3d",
   "metadata": {},
   "outputs": [
    {
     "name": "stdout",
     "output_type": "stream",
     "text": [
      "                       count     dolya\n",
      "Каменевский регион    3704.0  0.567576\n",
      "Североярская область  1750.0  0.545852\n",
      "Широковская область    636.0  0.572457\n",
      "Озернинский край       468.0  0.583541\n",
      "Малиновоярский округ   318.0  0.560847\n",
      "Светополянский округ   310.0  0.645833\n",
      "Речиновская область    268.0  0.606335\n",
      "Яблоневская область    254.0  0.590698\n",
      "Серебринская область   245.0  0.610973\n",
      "Медовская область      243.0  0.607500\n"
     ]
    }
   ],
   "source": [
    "df_region = pd.DataFrame({\n",
    "'count': colich_region_name,\n",
    "'dolya': dolya_region_name\n",
    "})\n",
    "df_top_region = df_region.sort_values('count', ascending=False).head(10)\n",
    "print(df_top_region)"
   ]
  },
  {
   "cell_type": "code",
   "execution_count": 88,
   "id": "d590b43f",
   "metadata": {},
   "outputs": [
    {
     "data": {
      "image/png": "[encoded data removed]",
      "text/plain": [
       "<Figure size 504x216 with 1 Axes>"
      ]
     },
     "metadata": {
      "needs_background": "light"
     },
     "output_type": "display_data"
    }
   ],
   "source": [
    "plt.figure(figsize=(7, 3))\n",
    "\n",
    "# Строим столбчатую диаграмму с помощью pandas через plot(kind='bar')\n",
    "df_top_region['dolya'].sort_values(ascending=False).head(10).plot(\n",
    "               kind='bar', # Тип графика - столбчатая диаграмма\n",
    "               rot=90, # Градус вращения подписи по оси Х\n",
    "               legend=False, # Выключаем легенду\n",
    "               title=f'Распределение доли по топ 10 регионов, два и более заказа'\n",
    ")\n",
    "mean_churn_share = df_top_region['dolya'].mean()\n",
    "\n",
    "# Наносим на график линию с средним значением \n",
    "plt.axhline(mean_churn_share, # Данные, по которым строится линия\n",
    "            color='red', # Цвет линии\n",
    "            linestyle='--', # Стиль линии\n",
    "            linewidth=1, # Ширина линии\n",
    "            )\n",
    "\n",
    "# Настраиваем оформление графика\n",
    "plt.xlabel('Регион')\n",
    "plt.ylabel('Доля')\n",
    "\n",
    "# Выводим график\n",
    "plt.show()"
   ]
  },
  {
   "cell_type": "code",
   "execution_count": 89,
   "id": "02cb7d14",
   "metadata": {},
   "outputs": [
    {
     "name": "stdout",
     "output_type": "stream",
     "text": [
      "Распределение количества по билетному оператору:\n",
      "Билеты без проблем    4523\n",
      "Лови билет!           2834\n",
      "Мой билет             2797\n",
      "Билеты в руки         2304\n",
      "Облачко               2125\n",
      "Лучшие билеты         1314\n",
      "Весь в билетах        1220\n",
      "Прачечная              566\n",
      "Яблоко                 392\n",
      "Край билетов           391\n",
      "Name: service_name, dtype: int64\n",
      "Доля по билетному оператору:\n",
      "Дырокол                   1.000000\n",
      "Билет по телефону         0.875000\n",
      "Crazy ticket!             0.740741\n",
      "Кино билет                0.714286\n",
      "Шоу начинается!           0.688889\n",
      "Выступления.ру            0.679688\n",
      "Тебе билет!               0.632432\n",
      "Радио ticket              0.631579\n",
      "Лучшие билеты             0.621005\n",
      "Городской дом культуры    0.608511\n",
      "Яблоко                    0.604592\n",
      "Быстробилет               0.603448\n",
      "За билетом!               0.592593\n",
      "Лови билет!               0.587862\n",
      "Прачечная                 0.586572\n",
      "Край билетов              0.575448\n",
      "Весь в билетах            0.573770\n",
      "Облачко                   0.564706\n",
      "Show_ticket               0.564286\n",
      "Билеты в руки             0.560330\n",
      "Мой билет                 0.552735\n",
      "Мир касс                  0.549451\n",
      "Телебилет                 0.542857\n",
      "Билеты без проблем        0.532832\n",
      "Дом культуры              0.531034\n",
      "Восьмёрка                 0.525424\n",
      "Вперёд!                   0.500000\n",
      "Росбилет                  0.500000\n",
      "Цвет и билет              0.384615\n",
      "Быстрый кассир            0.375000\n",
      "Реестр                    0.333333\n",
      "КарандашРУ                0.307692\n",
      "Лимоны                         NaN\n",
      "Тех билет                      NaN\n",
      "Name: service_name, dtype: float64\n"
     ]
    }
   ],
   "source": [
    "colich_service_name=final_df['service_name'].value_counts()\n",
    "print(f'Распределение количества по билетному оператору:\\n{colich_service_name.sort_values(ascending=False)[:10]}')\n",
    "dolya_service_name=final_df_2['service_name'].value_counts()/final_df['service_name'].value_counts()\n",
    "print(f'Доля по билетному оператору:\\n{dolya_service_name.sort_values(ascending=False)}')"
   ]
  },
  {
   "cell_type": "code",
   "execution_count": 90,
   "id": "ed14e6c8",
   "metadata": {},
   "outputs": [
    {
     "name": "stdout",
     "output_type": "stream",
     "text": [
      "                    count     dolya\n",
      "Билеты без проблем   4523  0.532832\n",
      "Лови билет!          2834  0.587862\n",
      "Мой билет            2797  0.552735\n",
      "Билеты в руки        2304  0.560330\n",
      "Облачко              2125  0.564706\n",
      "Лучшие билеты        1314  0.621005\n",
      "Весь в билетах       1220  0.573770\n",
      "Прачечная             566  0.586572\n",
      "Яблоко                392  0.604592\n",
      "Край билетов          391  0.575448\n"
     ]
    }
   ],
   "source": [
    "df_service_name = pd.DataFrame({\n",
    "'count': colich_service_name,\n",
    "'dolya': dolya_service_name\n",
    "})\n",
    "df_top_service_name = df_service_name.sort_values('count', ascending=False).head(10)\n",
    "print(df_top_service_name )"
   ]
  },
  {
   "cell_type": "code",
   "execution_count": 91,
   "id": "22d48972",
   "metadata": {},
   "outputs": [
    {
     "data": {
      "image/png": "[encoded data removed]",
      "text/plain": [
       "<Figure size 504x216 with 1 Axes>"
      ]
     },
     "metadata": {
      "needs_background": "light"
     },
     "output_type": "display_data"
    }
   ],
   "source": [
    "plt.figure(figsize=(7, 3))\n",
    "\n",
    "# Строим столбчатую диаграмму с помощью pandas через plot(kind='bar')\n",
    "df_top_service_name['dolya'].sort_values(ascending=False).plot(\n",
    "               kind='bar', # Тип графика - столбчатая диаграмма\n",
    "               rot=90, # Градус вращения подписи по оси Х\n",
    "               legend=False, # Выключаем легенду\n",
    "               title=f'Распределение доли по билетному оператору, два и более заказа'\n",
    ")\n",
    "mean_churn_share = df_top_region['dolya'].mean()\n",
    "\n",
    "# Наносим на график линию с средним значением \n",
    "plt.axhline(mean_churn_share, # Данные, по которым строится линия\n",
    "            color='red', # Цвет линии\n",
    "            linestyle='--', # Стиль линии\n",
    "            linewidth=1, # Ширина линии\n",
    "            )\n",
    "\n",
    "# Настраиваем оформление графика\n",
    "plt.xlabel('Оператор')\n",
    "plt.ylabel('Доля')\n",
    "\n",
    "# Выводим график\n",
    "plt.show()"
   ]
  },
  {
   "cell_type": "markdown",
   "id": "a1ff88f6",
   "metadata": {},
   "source": [
    "*По типам мероприятий*\n",
    "\n",
    "Выше среднего показателя выставки 63% и театр 62%\n",
    "\n",
    "*По типам устройств*\n",
    "\n",
    "ПК - 62% против мобильных - 59%\n",
    "\n",
    "*По регионам*\n",
    "\n",
    "Особенно выделяются Широковская область 63%, Шанырский регион 65%, Светополянский округ 64%\n",
    "\n",
    "*По билетному оператору*\n",
    "\n",
    "Край билетов 63%, Дом культуры 63%\n"
   ]
  },
  {
   "cell_type": "markdown",
   "id": "1cd85c08",
   "metadata": {
    "id": "1cd85c08",
    "outputId": "0afbc606-1346-4bf6-f188-550c838d0f5d",
    "scrolled": false
   },
   "source": [
    "---\n",
    "\n",
    "**Задача 4.1.3.** Опираясь на выводы из задач выше, проверьте продуктовые гипотезы:\n",
    "\n",
    "- **Гипотеза 1.** Тип мероприятия влияет на вероятность возврата на Яндекс Афишу: пользователи, которые совершили первый заказ на спортивные мероприятия, совершают повторный заказ чаще, чем пользователи, оформившие свой первый заказ на концерты.\n",
    "- **Гипотеза 2.** В регионах, где больше всего пользователей посещают мероприятия, выше доля повторных заказов, чем в менее активных регионах.\n",
    "\n",
    "---"
   ]
  },
  {
   "cell_type": "markdown",
   "id": "60c2b23f",
   "metadata": {
    "id": "dcc3e24d"
   },
   "source": [
    "Гипотеза 1. Тип мероприятия влияет на вероятность возврата на Яндекс Афишу: пользователи, которые совершили первый заказ на спортивные мероприятия, совершают повторный заказ чаще, чем пользователи, оформившие свой первый заказ на концерты.\n",
    "\n",
    "**Не подтверждается**\n",
    "\n",
    "спорт 53% вернувшихся(ниже среднего), концерты 60% вернувшихся(средний показатель)\n"
   ]
  },
  {
   "cell_type": "markdown",
   "id": "8a59e81f",
   "metadata": {
    "id": "1f023ef3"
   },
   "source": [
    "Гипотеза 2. В регионах, где больше всего пользователей посещают мероприятия, выше доля повторных заказов, чем в менее активных регионах.\n",
    "\n",
    "**Не подтверждается**\n",
    "\n",
    "Топовые по посещению регионы Каменевский регион 60%, Североярская область 62%, в то время как в других менее активных есть показатели до 65% "
   ]
  },
  {
   "cell_type": "markdown",
   "id": "9a9e58a6",
   "metadata": {},
   "source": []
  },
  {
   "cell_type": "markdown",
   "id": "88c3b292",
   "metadata": {
    "id": "88c3b292"
   },
   "source": [
    "---\n",
    "\n",
    "#### 4.2. Исследование поведения пользователей через показатели выручки и состава заказа\n",
    "\n",
    "Изучите количественные характеристики заказов пользователей, чтобы узнать среднюю выручку сервиса с заказа и количество билетов, которое пользователи обычно покупают.\n",
    "\n",
    "Эти метрики важны не только для оценки выручки, но и для оценки вовлечённости пользователей. Возможно, пользователи с более крупными и дорогими заказами более заинтересованы в сервисе и поэтому чаще возвращаются.\n",
    "\n",
    "---\n",
    "\n",
    "**Задача 4.2.1.** Проследите связь между средней выручкой сервиса с заказа и повторными заказами.\n",
    "\n",
    "- Постройте сравнительные гистограммы распределения средней выручки с билета (`avg_revenue_rub`):\n",
    "    - для пользователей, совершивших один заказ;\n",
    "    - для вернувшихся пользователей, совершивших 2 и более заказа.\n",
    "- Ответьте на вопросы:\n",
    "    - В каких диапазонах средней выручки концентрируются пользователи из каждой группы?\n",
    "    - Есть ли различия между группами?\n",
    "\n",
    "Текст на сером фоне:\n",
    "    \n",
    "**Рекомендация:**\n",
    "\n",
    "1. Используйте одинаковые интервалы (`bins`) и прозрачность (`alpha`), чтобы визуально сопоставить распределения.\n",
    "2. Задайте параметру `density` значение `True`, чтобы сравнивать форму распределений, даже если число пользователей в группах отличается.\n",
    "\n",
    "---\n"
   ]
  },
  {
   "cell_type": "code",
   "execution_count": 92,
   "id": "a63c4025",
   "metadata": {
    "id": "a63c4025"
   },
   "outputs": [
    {
     "data": {
      "image/png": "[encoded data removed]",
      "text/plain": [
       "<Figure size 864x288 with 1 Axes>"
      ]
     },
     "metadata": {
      "needs_background": "light"
     },
     "output_type": "display_data"
    }
   ],
   "source": [
    "plt.figure(figsize=(12, 4))\n",
    "\n",
    "# Строим гистограммы для каждого значения churn\n",
    "for i in final_df['is_two'].unique():\n",
    "    # Фильтруем данные по значению столбца churn\n",
    "    final_df.loc[final_df['is_two'] == i, 'avg_revenue'].plot(\n",
    "        kind='hist',\n",
    "        bins=25,\n",
    "        alpha=0.5,\n",
    "        label=f'{i}',\n",
    "        legend=True,\n",
    "        density=True\n",
    "    )\n",
    "\n",
    "# Настраиваем внешний вид графика и выводим его на экран\n",
    "plt.title(f'Сравнение распределение среднего чека в зависимости от признака\"is_two\"')\n",
    "plt.xlabel('Средний чек')\n",
    "plt.ylabel('Количество')\n",
    "plt.legend(title='Значение is_two')\n",
    "plt.show() "
   ]
  },
  {
   "cell_type": "markdown",
   "id": "b0372b50",
   "metadata": {
    "id": "7c4c11d2"
   },
   "source": [
    "Для тех кто вернулся средний чек выше в области от 300 до 900 руб, в остльных областях выше у тех, кто совершил только один заказ.\n",
    "\n",
    "Больше всего пользователей совершивших один заказ в области 0-200, далее постепенное снижение.\n",
    "Больше всего пользователей совершивших повторный заказ в области 300-500."
   ]
  },
  {
   "cell_type": "markdown",
   "id": "f5416363",
   "metadata": {
    "id": "f5416363",
    "outputId": "59988e63-21c8-4fbe-e009-5769b1e83a42"
   },
   "source": [
    "---\n",
    "\n",
    "**Задача 4.2.2.** Сравните распределение по средней выручке с заказа в двух группах пользователей:\n",
    "\n",
    "- совершившие 2–4 заказа;\n",
    "- совершившие 5 и более заказов.\n",
    "\n",
    "Ответьте на вопрос: есть ли различия по значению средней выручки с заказа между пользователями этих двух групп?\n",
    "\n",
    "---\n"
   ]
  },
  {
   "cell_type": "code",
   "execution_count": 93,
   "id": "2ed4916f",
   "metadata": {
    "id": "2ed4916f"
   },
   "outputs": [
    {
     "data": {
      "image/png": "[encoded data removed]",
      "text/plain": [
       "<Figure size 864x288 with 1 Axes>"
      ]
     },
     "metadata": {
      "needs_background": "light"
     },
     "output_type": "display_data"
    }
   ],
   "source": [
    "new_df_five = final_df.loc[(final_df['is_two'] > 0)]\n",
    "\n",
    "plt.figure(figsize=(12, 4))\n",
    "\n",
    "# Строим гистограммы для каждого значения churn\n",
    "for i in new_df_five['is_five'].unique():\n",
    "    # Фильтруем данные по значению столбца churn\n",
    "    new_df_five.loc[new_df_five['is_five'] == i, 'avg_revenue'].plot(\n",
    "        kind='hist',\n",
    "        bins=22,\n",
    "        alpha=0.5,\n",
    "        label=f'{i}',\n",
    "        legend=True,\n",
    "        density=True\n",
    "    )\n",
    "\n",
    "# Настраиваем внешний вид графика и выводим его на экран\n",
    "plt.title(f'Сравнение распределение среднего чека в зависимости от признака\"is_five\"')\n",
    "plt.xlabel('Средний чек')\n",
    "plt.ylabel('Количество')\n",
    "plt.legend(title='Значение is_five')\n",
    "plt.show()"
   ]
  },
  {
   "cell_type": "code",
   "execution_count": 94,
   "id": "8c31a111",
   "metadata": {},
   "outputs": [],
   "source": [
    "#new_df_five['avg_revenue'].hist(figsize=(5, 5), bins=25)"
   ]
  },
  {
   "cell_type": "markdown",
   "id": "aeb47726",
   "metadata": {
    "id": "c3bc4897"
   },
   "source": [
    "Для тех кто вернулся более 5 раз средний чек также выше в области от 300 до 800 руб, в остльных областях выше у тех, кто совершил 2-4 заказа.\n",
    "\n",
    "Больше всего пользователей совершивших 2-4 заказа в области 0-200.\n",
    "Больше всего пользователей совершивших повторный заказ более 5 раз в области 300-700."
   ]
  },
  {
   "cell_type": "markdown",
   "id": "c40138c8",
   "metadata": {
    "id": "c40138c8"
   },
   "source": [
    "---\n",
    "\n",
    "**Задача 4.2.3.** Проанализируйте влияние среднего количества билетов в заказе на вероятность повторной покупки.\n",
    "\n",
    "- Изучите распределение пользователей по среднему количеству билетов в заказе (`avg_tickets_count`) и опишите основные наблюдения.\n",
    "- Разделите пользователей на несколько сегментов по среднему количеству билетов в заказе:\n",
    "    - от 1 до 2 билетов;\n",
    "    - от 2 до 3 билетов;\n",
    "    - от 3 до 5 билетов;\n",
    "    - от 5 и более билетов.\n",
    "- Для каждого сегмента подсчитайте общее число пользователей и долю пользователей, совершивших повторные заказы.\n",
    "- Ответьте на вопросы:\n",
    "    - Как распределены пользователи по сегментам — равномерно или сконцентрировано?\n",
    "    - Есть ли сегменты с аномально высокой или низкой долей повторных покупок?\n",
    "\n",
    "---"
   ]
  },
  {
   "cell_type": "code",
   "execution_count": 95,
   "id": "3cff9697",
   "metadata": {
    "id": "3cff9697"
   },
   "outputs": [
    {
     "data": {
      "text/plain": [
       "2228"
      ]
     },
     "execution_count": 95,
     "metadata": {},
     "output_type": "execute_result"
    }
   ],
   "source": [
    "new_df_avg_2 = final_df.loc[(final_df['avg_tickets'] >= 1) & (final_df['avg_tickets'] < 2)]\n",
    "len(new_df_avg_2)"
   ]
  },
  {
   "cell_type": "code",
   "execution_count": 96,
   "id": "2da1a1e8",
   "metadata": {},
   "outputs": [
    {
     "data": {
      "text/plain": [
       "0.43357271095152605"
      ]
     },
     "execution_count": 96,
     "metadata": {},
     "output_type": "execute_result"
    }
   ],
   "source": [
    "new_df_avg_2['is_two'].mean()"
   ]
  },
  {
   "cell_type": "code",
   "execution_count": 97,
   "id": "a6619674",
   "metadata": {
    "id": "a6619674"
   },
   "outputs": [
    {
     "data": {
      "text/plain": [
       "8679"
      ]
     },
     "execution_count": 97,
     "metadata": {},
     "output_type": "execute_result"
    }
   ],
   "source": [
    "new_df_avg_3 = final_df.loc[(final_df['avg_tickets'] >= 2) & (final_df['avg_tickets'] < 3)]\n",
    "len(new_df_avg_3)"
   ]
  },
  {
   "cell_type": "code",
   "execution_count": 98,
   "id": "ef9ae376",
   "metadata": {},
   "outputs": [
    {
     "data": {
      "text/plain": [
       "0.6921304297730153"
      ]
     },
     "execution_count": 98,
     "metadata": {},
     "output_type": "execute_result"
    }
   ],
   "source": [
    "new_df_avg_3['is_two'].mean()"
   ]
  },
  {
   "cell_type": "code",
   "execution_count": 99,
   "id": "c2b400f2",
   "metadata": {
    "id": "c2b400f2"
   },
   "outputs": [
    {
     "data": {
      "text/plain": [
       "9015"
      ]
     },
     "execution_count": 99,
     "metadata": {},
     "output_type": "execute_result"
    }
   ],
   "source": [
    "new_df_avg_5 = final_df.loc[(final_df['avg_tickets'] >= 3) & (final_df['avg_tickets'] < 5)]\n",
    "len(new_df_avg_5)"
   ]
  },
  {
   "cell_type": "code",
   "execution_count": 100,
   "id": "42082de8",
   "metadata": {},
   "outputs": [
    {
     "data": {
      "text/plain": [
       "0.5108153078202995"
      ]
     },
     "execution_count": 100,
     "metadata": {},
     "output_type": "execute_result"
    }
   ],
   "source": [
    "new_df_avg_5['is_two'].mean()"
   ]
  },
  {
   "cell_type": "code",
   "execution_count": 101,
   "id": "fe8d1e16",
   "metadata": {},
   "outputs": [
    {
     "data": {
      "text/plain": [
       "645"
      ]
     },
     "execution_count": 101,
     "metadata": {},
     "output_type": "execute_result"
    }
   ],
   "source": [
    "new_df_avg_b5 = final_df.loc[(final_df['avg_tickets'] >=5)]\n",
    "len(new_df_avg_b5)"
   ]
  },
  {
   "cell_type": "code",
   "execution_count": 102,
   "id": "aed74eee",
   "metadata": {},
   "outputs": [
    {
     "data": {
      "text/plain": [
       "0.13643410852713178"
      ]
     },
     "execution_count": 102,
     "metadata": {},
     "output_type": "execute_result"
    }
   ],
   "source": [
    "new_df_avg_b5['is_two'].mean()"
   ]
  },
  {
   "cell_type": "markdown",
   "id": "df303395",
   "metadata": {},
   "source": [
    "Пользователи по сегментам распределены не равномерно, больше всего пользователей от 2 до 5 билетов в заказе.\n",
    "\n",
    "Очень большой показатель повторных покупок у пользователей с билетами >=2 и <3 билетов в заказе.\n",
    "\n",
    "Очень низкий показатель 5 и более."
   ]
  },
  {
   "cell_type": "markdown",
   "id": "417e222d",
   "metadata": {
    "id": "417e222d"
   },
   "source": [
    "---\n",
    "\n",
    "#### 4.3. Исследование временных характеристик первого заказа и их влияния на повторные покупки\n",
    "\n",
    "Изучите временные параметры, связанные с первым заказом пользователей:\n",
    "\n",
    "- день недели первой покупки;\n",
    "- время с момента первой покупки — лайфтайм;\n",
    "- средний интервал между покупками пользователей с повторными заказами.\n",
    "\n",
    "---\n",
    "\n",
    "**Задача 4.3.1.** Проанализируйте, как день недели, в которой была совершена первая покупка, влияет на поведение пользователей.\n",
    "\n",
    "- По данным даты первого заказа выделите день недели.\n",
    "- Для каждого дня недели подсчитайте общее число пользователей и долю пользователей, совершивших повторные заказы. Результаты визуализируйте.\n",
    "- Ответьте на вопрос: влияет ли день недели, в которую совершена первая покупка, на вероятность возврата клиента?\n",
    "\n",
    "---\n"
   ]
  },
  {
   "cell_type": "code",
   "execution_count": 103,
   "id": "1709f7ff",
   "metadata": {
    "id": "1709f7ff"
   },
   "outputs": [],
   "source": [
    "final = final_df.copy()\n",
    "\n",
    "final['day_week'] = final['first_order'].dt.weekday"
   ]
  },
  {
   "cell_type": "code",
   "execution_count": 104,
   "id": "cc5ac042",
   "metadata": {
    "id": "cc5ac042"
   },
   "outputs": [
    {
     "name": "stdout",
     "output_type": "stream",
     "text": [
      "Распределение количества по билетному оператору:\n",
      "4    3135\n",
      "5    3091\n",
      "1    3007\n",
      "3    2997\n",
      "2    2936\n",
      "0    2786\n",
      "6    2615\n",
      "Name: day_week, dtype: int64\n"
     ]
    }
   ],
   "source": [
    "colich_day_week=final['day_week'].value_counts()\n",
    "print(f'Распределение количества по билетному оператору:\\n{colich_day_week}')"
   ]
  },
  {
   "cell_type": "code",
   "execution_count": 105,
   "id": "2b590c78",
   "metadata": {},
   "outputs": [
    {
     "data": {
      "image/png": "[encoded data removed]",
      "text/plain": [
       "<Figure size 936x432 with 1 Axes>"
      ]
     },
     "metadata": {
      "needs_background": "light"
     },
     "output_type": "display_data"
    }
   ],
   "source": [
    "plt.figure(figsize=(13, 6))\n",
    "\n",
    "# Строим столбчатую диаграмму с помощью pandas через plot(kind='bar')\n",
    "colich_day_week.plot(\n",
    "               kind='bar', # Тип графика - столбчатая диаграмма\n",
    "               rot=0, # Градус вращения подписи по оси Х\n",
    "               legend=False, # Выключаем легенду\n",
    "               title=f'Распределение количества по дням недели'\n",
    ")\n",
    "\n",
    "# Настраиваем оформление графика\n",
    "plt.xlabel('День недели(0 - пн, 1 - вт, 2 - ср, 3 - чт, 4- пт, 5 - сб, 6 - вск)')\n",
    "plt.ylabel('Количество')\n",
    "\n",
    "# Выводим график\n",
    "plt.show()"
   ]
  },
  {
   "cell_type": "code",
   "execution_count": 106,
   "id": "4a7e2189",
   "metadata": {},
   "outputs": [
    {
     "data": {
      "text/plain": [
       "day_week\n",
       "0    0.582556\n",
       "1    0.566678\n",
       "2    0.579360\n",
       "3    0.551885\n",
       "4    0.557895\n",
       "5    0.577807\n",
       "6    0.554111\n",
       "Name: is_two, dtype: float64"
      ]
     },
     "execution_count": 106,
     "metadata": {},
     "output_type": "execute_result"
    }
   ],
   "source": [
    "final.groupby('day_week')['is_two'].mean()"
   ]
  },
  {
   "cell_type": "code",
   "execution_count": 107,
   "id": "f956583f",
   "metadata": {},
   "outputs": [
    {
     "data": {
      "image/png": "[encoded data removed]",
      "text/plain": [
       "<Figure size 864x432 with 1 Axes>"
      ]
     },
     "metadata": {
      "needs_background": "light"
     },
     "output_type": "display_data"
    }
   ],
   "source": [
    "plt.figure(figsize=(12, 6))\n",
    "\n",
    "# Строим столбчатую диаграмму с помощью pandas через plot(kind='bar')\n",
    "final.groupby('day_week')['is_two'].mean().plot(\n",
    "               kind='bar', # Тип графика - столбчатая диаграмма\n",
    "               rot=0, # Градус вращения подписи по оси Х\n",
    "               legend=False, # Выключаем легенду\n",
    "               title=f'Распределение доли повторных заказов по дням недели')\n",
    "\n",
    "plt.axhline(final.groupby('day_week')['is_two'].mean().mean(), color='red',\n",
    "                linestyle='--', linewidth=1,)\n",
    "\n",
    "# Настраиваем оформление графика\n",
    "plt.xlabel('День недели(0 - пн, 1 - вт, 2 - ср, 3 - чт, 4- пт, 5 - сб, 6 - вск)')\n",
    "plt.ylabel('Доля повторных заказов')\n",
    "plt.grid()\n",
    "# Выводим график\n",
    "plt.show()"
   ]
  },
  {
   "cell_type": "markdown",
   "id": "1f071623",
   "metadata": {},
   "source": [
    "день недели влияет на вероятность возврата клиента, но не сильно. Выше среднего показатели у пн, ср, сб - 60% и больше.\n",
    "\n",
    "Сильно ниже остальных показатель вск - 57%"
   ]
  },
  {
   "cell_type": "markdown",
   "id": "71d4e4b4",
   "metadata": {
    "id": "71d4e4b4"
   },
   "source": [
    "---\n",
    "\n",
    "**Задача 4.3.2.** Изучите, как средний интервал между заказами влияет на удержание клиентов.\n",
    "\n",
    "- Рассчитайте среднее время между заказами для двух групп пользователей:\n",
    "    - совершившие 2–4 заказа;\n",
    "    - совершившие 5 и более заказов.\n",
    "- Исследуйте, как средний интервал между заказами влияет на вероятность повторного заказа, и сделайте выводы.\n",
    "\n",
    "---\n"
   ]
  },
  {
   "cell_type": "code",
   "execution_count": 108,
   "id": "d02bcb9b",
   "metadata": {},
   "outputs": [],
   "source": [
    "new_df_1 = final.loc[(final_df['is_two'] < 1)]"
   ]
  },
  {
   "cell_type": "code",
   "execution_count": 109,
   "id": "bc39c3f8",
   "metadata": {
    "id": "bc39c3f8"
   },
   "outputs": [],
   "source": [
    "new_df_2 = final.loc[(final_df['is_two'] > 0) & (final_df['is_five'] < 1)]"
   ]
  },
  {
   "cell_type": "code",
   "execution_count": 110,
   "id": "ceca9898",
   "metadata": {
    "id": "ceca9898"
   },
   "outputs": [],
   "source": [
    "new_df_5 = final.loc[(final_df['is_five'] > 0)]"
   ]
  },
  {
   "cell_type": "code",
   "execution_count": 111,
   "id": "f1471104",
   "metadata": {
    "id": "f1471104"
   },
   "outputs": [
    {
     "data": {
      "text/plain": [
       "23.05747"
      ]
     },
     "execution_count": 111,
     "metadata": {},
     "output_type": "execute_result"
    }
   ],
   "source": [
    "new_df_2['avg_days'].mean()"
   ]
  },
  {
   "cell_type": "code",
   "execution_count": 112,
   "id": "712e2ba0",
   "metadata": {},
   "outputs": [
    {
     "data": {
      "text/plain": [
       "13.763423"
      ]
     },
     "execution_count": 112,
     "metadata": {},
     "output_type": "execute_result"
    }
   ],
   "source": [
    "new_df_5['avg_days'].mean()"
   ]
  },
  {
   "cell_type": "markdown",
   "id": "4bb520d9",
   "metadata": {},
   "source": [
    "Для тех кто совершил 5 и более заказов среднее время между заказами менее 2 недель. Для тех кто сделал 2-4 заказа около 3 недель."
   ]
  },
  {
   "cell_type": "markdown",
   "id": "eb26eac5",
   "metadata": {
    "id": "eb26eac5"
   },
   "source": [
    "---\n",
    "\n",
    "#### 4.4. Корреляционный анализ количества покупок и признаков пользователя\n",
    "\n",
    "Изучите, какие характеристики первого заказа и профиля пользователя могут быть связаны с числом покупок. Для этого используйте универсальный коэффициент корреляции `phi_k`, который позволяет анализировать как числовые, так и категориальные признаки.\n",
    "\n",
    "---\n",
    "\n",
    "**Задача 4.4.1:** Проведите корреляционный анализ:\n",
    "- Рассчитайте коэффициент корреляции `phi_k` между признаками профиля пользователя и числом заказов (`total_orders`). При необходимости используйте параметр `interval_cols` для определения интервальных данных.\n",
    "- Проанализируйте полученные результаты. Если полученные значения будут близки к нулю, проверьте разброс данных в `total_orders`. Такое возможно, когда в данных преобладает одно значение: в таком случае корреляционный анализ может показать отсутствие связей. Чтобы этого избежать, выделите сегменты пользователей по полю `total_orders`, а затем повторите корреляционный анализ. Выделите такие сегменты:\n",
    "    - 1 заказ;\n",
    "    - от 2 до 4 заказов;\n",
    "    - от 5 и выше.\n",
    "- Визуализируйте результат корреляции с помощью тепловой карты.\n",
    "- Ответьте на вопрос: какие признаки наиболее связаны с количеством заказов?\n",
    "\n",
    "---"
   ]
  },
  {
   "cell_type": "code",
   "execution_count": 113,
   "id": "3fcd838f",
   "metadata": {},
   "outputs": [
    {
     "name": "stdout",
     "output_type": "stream",
     "text": [
      "           user_id         first_order          last_order  \\\n",
      "0  0002849b70a3ce2 2024-08-20 16:08:03 2024-08-20 16:08:03   \n",
      "1  0005ca5e93f2cf4 2024-07-23 18:36:24 2024-10-06 13:56:02   \n",
      "2  000898990054619 2024-07-13 19:40:48 2024-10-23 15:12:00   \n",
      "3  00096d1f542ab2b 2024-08-15 16:48:48 2024-08-15 16:48:48   \n",
      "4  000a55a418c128c 2024-09-29 19:39:12 2024-10-15 10:29:04   \n",
      "\n",
      "  device_type_canonical           region_name   service_name event_type_main  \\\n",
      "0                mobile    Каменевский регион   Край билетов           театр   \n",
      "1                mobile    Каменевский регион    За билетом!          другое   \n",
      "2                mobile  Лугоградская область        Облачко        концерты   \n",
      "3               desktop    Каменевский регион   Край билетов           театр   \n",
      "4                mobile      Поленовский край  Лучшие билеты           театр   \n",
      "\n",
      "   order_count  avg_revenue  avg_tickets  avg_days  is_two  is_five  day_week  \n",
      "0            1  1521.939941     4.000000       NaN       0        0         1  \n",
      "1            2   774.010010     3.000000      75.0       1        0         1  \n",
      "2            3   767.213318     2.666667      51.0       1        0         5  \n",
      "3            1   917.830017     4.000000       NaN       0        0         3  \n",
      "4            2    61.309998     1.500000      16.0       1        0         6  \n"
     ]
    }
   ],
   "source": [
    "print(final.head())"
   ]
  },
  {
   "cell_type": "code",
   "execution_count": 114,
   "id": "840b92df",
   "metadata": {},
   "outputs": [],
   "source": [
    "y=0\n",
    "def create_is_y(x):\n",
    "    if x<y:\n",
    "        return 1\n",
    "    return 0\n",
    "\n",
    "y=2\n",
    "final['is_one'] = final['order_count'].apply(create_is_y)"
   ]
  },
  {
   "cell_type": "code",
   "execution_count": 115,
   "id": "a83aa67d",
   "metadata": {},
   "outputs": [
    {
     "name": "stdout",
     "output_type": "stream",
     "text": [
      "           user_id         first_order          last_order  \\\n",
      "0  0002849b70a3ce2 2024-08-20 16:08:03 2024-08-20 16:08:03   \n",
      "1  0005ca5e93f2cf4 2024-07-23 18:36:24 2024-10-06 13:56:02   \n",
      "2  000898990054619 2024-07-13 19:40:48 2024-10-23 15:12:00   \n",
      "3  00096d1f542ab2b 2024-08-15 16:48:48 2024-08-15 16:48:48   \n",
      "4  000a55a418c128c 2024-09-29 19:39:12 2024-10-15 10:29:04   \n",
      "\n",
      "  device_type_canonical           region_name   service_name event_type_main  \\\n",
      "0                mobile    Каменевский регион   Край билетов           театр   \n",
      "1                mobile    Каменевский регион    За билетом!          другое   \n",
      "2                mobile  Лугоградская область        Облачко        концерты   \n",
      "3               desktop    Каменевский регион   Край билетов           театр   \n",
      "4                mobile      Поленовский край  Лучшие билеты           театр   \n",
      "\n",
      "   order_count  avg_revenue  avg_tickets  avg_days  is_two  is_five  day_week  \\\n",
      "0            1  1521.939941     4.000000       NaN       0        0         1   \n",
      "1            2   774.010010     3.000000      75.0       1        0         1   \n",
      "2            3   767.213318     2.666667      51.0       1        0         5   \n",
      "3            1   917.830017     4.000000       NaN       0        0         3   \n",
      "4            2    61.309998     1.500000      16.0       1        0         6   \n",
      "\n",
      "   is_one  \n",
      "0       1  \n",
      "1       0  \n",
      "2       0  \n",
      "3       1  \n",
      "4       0  \n"
     ]
    }
   ],
   "source": [
    "print(final.head())"
   ]
  },
  {
   "cell_type": "code",
   "execution_count": 116,
   "id": "d2ca7ee0",
   "metadata": {
    "id": "d2ca7ee0"
   },
   "outputs": [
    {
     "name": "stdout",
     "output_type": "stream",
     "text": [
      "interval columns not set, guessing: ['order_count', 'avg_revenue', 'avg_tickets', 'avg_days', 'day_week', 'is_one', 'is_two', 'is_five']\n",
      "Корреляционная матрица с коэффициентом phi_k для переменной order_count\n"
     ]
    },
    {
     "data": {
      "text/html": [
       "<div>\n",
       "<style scoped>\n",
       "    .dataframe tbody tr th:only-of-type {\n",
       "        vertical-align: middle;\n",
       "    }\n",
       "\n",
       "    .dataframe tbody tr th {\n",
       "        vertical-align: top;\n",
       "    }\n",
       "\n",
       "    .dataframe thead th {\n",
       "        text-align: right;\n",
       "    }\n",
       "</style>\n",
       "<table border=\"1\" class=\"dataframe\">\n",
       "  <thead>\n",
       "    <tr style=\"text-align: right;\">\n",
       "      <th></th>\n",
       "      <th>order_count</th>\n",
       "      <th>is_one</th>\n",
       "      <th>is_two</th>\n",
       "      <th>is_five</th>\n",
       "    </tr>\n",
       "  </thead>\n",
       "  <tbody>\n",
       "    <tr>\n",
       "      <th>is_five</th>\n",
       "      <td>0.991031</td>\n",
       "      <td>0.635095</td>\n",
       "      <td>0.635095</td>\n",
       "      <td>1.000000</td>\n",
       "    </tr>\n",
       "    <tr>\n",
       "      <th>is_one</th>\n",
       "      <td>0.672737</td>\n",
       "      <td>1.000000</td>\n",
       "      <td>1.000000</td>\n",
       "      <td>0.635095</td>\n",
       "    </tr>\n",
       "    <tr>\n",
       "      <th>is_two</th>\n",
       "      <td>0.672737</td>\n",
       "      <td>1.000000</td>\n",
       "      <td>1.000000</td>\n",
       "      <td>0.635095</td>\n",
       "    </tr>\n",
       "    <tr>\n",
       "      <th>avg_days</th>\n",
       "      <td>0.537285</td>\n",
       "      <td>0.125873</td>\n",
       "      <td>0.125873</td>\n",
       "      <td>0.451604</td>\n",
       "    </tr>\n",
       "    <tr>\n",
       "      <th>avg_tickets</th>\n",
       "      <td>0.401757</td>\n",
       "      <td>0.750983</td>\n",
       "      <td>0.750983</td>\n",
       "      <td>0.437691</td>\n",
       "    </tr>\n",
       "    <tr>\n",
       "      <th>avg_revenue</th>\n",
       "      <td>0.298161</td>\n",
       "      <td>0.323995</td>\n",
       "      <td>0.323995</td>\n",
       "      <td>0.336638</td>\n",
       "    </tr>\n",
       "    <tr>\n",
       "      <th>region_name</th>\n",
       "      <td>0.093263</td>\n",
       "      <td>0.078304</td>\n",
       "      <td>0.078304</td>\n",
       "      <td>0.095946</td>\n",
       "    </tr>\n",
       "    <tr>\n",
       "      <th>event_type_main</th>\n",
       "      <td>0.053398</td>\n",
       "      <td>0.073692</td>\n",
       "      <td>0.073692</td>\n",
       "      <td>0.058435</td>\n",
       "    </tr>\n",
       "    <tr>\n",
       "      <th>service_name</th>\n",
       "      <td>0.034190</td>\n",
       "      <td>0.070466</td>\n",
       "      <td>0.070466</td>\n",
       "      <td>0.048244</td>\n",
       "    </tr>\n",
       "    <tr>\n",
       "      <th>day_week</th>\n",
       "      <td>0.029106</td>\n",
       "      <td>0.015502</td>\n",
       "      <td>0.015502</td>\n",
       "      <td>0.015984</td>\n",
       "    </tr>\n",
       "    <tr>\n",
       "      <th>device_type_canonical</th>\n",
       "      <td>0.017972</td>\n",
       "      <td>0.029699</td>\n",
       "      <td>0.029699</td>\n",
       "      <td>0.019769</td>\n",
       "    </tr>\n",
       "  </tbody>\n",
       "</table>\n",
       "</div>"
      ],
      "text/plain": [
       "                       order_count    is_one    is_two   is_five\n",
       "is_five                   0.991031  0.635095  0.635095  1.000000\n",
       "is_one                    0.672737  1.000000  1.000000  0.635095\n",
       "is_two                    0.672737  1.000000  1.000000  0.635095\n",
       "avg_days                  0.537285  0.125873  0.125873  0.451604\n",
       "avg_tickets               0.401757  0.750983  0.750983  0.437691\n",
       "avg_revenue               0.298161  0.323995  0.323995  0.336638\n",
       "region_name               0.093263  0.078304  0.078304  0.095946\n",
       "event_type_main           0.053398  0.073692  0.073692  0.058435\n",
       "service_name              0.034190  0.070466  0.070466  0.048244\n",
       "day_week                  0.029106  0.015502  0.015502  0.015984\n",
       "device_type_canonical     0.017972  0.029699  0.029699  0.019769"
      ]
     },
     "execution_count": 116,
     "metadata": {},
     "output_type": "execute_result"
    }
   ],
   "source": [
    "correlation_matrix = final[['device_type_canonical', 'region_name', 'service_name', 'event_type_main', 'order_count','avg_revenue','avg_tickets','avg_days','day_week','is_one','is_two','is_five']].phik_matrix()\n",
    "print('Корреляционная матрица с коэффициентом phi_k для переменной order_count')\n",
    "correlation_matrix.loc[correlation_matrix.index != 'order_count'][['order_count','is_one','is_two','is_five']].sort_values(by='order_count', ascending=False)"
   ]
  },
  {
   "cell_type": "code",
   "execution_count": 117,
   "id": "160cf758",
   "metadata": {},
   "outputs": [
    {
     "data": {
      "image/png": "[encoded data removed]",
      "text/plain": [
       "<Figure size 144x432 with 1 Axes>"
      ]
     },
     "metadata": {
      "needs_background": "light"
     },
     "output_type": "display_data"
    }
   ],
   "source": [
    "# Строим тепловую карту\n",
    "plt.figure(figsize=(2, 6))\n",
    "\n",
    "data_heatmap = correlation_matrix.loc[correlation_matrix.index != 'order_count'][['order_count','is_one','is_two','is_five']].sort_values(by='order_count', ascending=False)\n",
    "sns.heatmap(data_heatmap,\n",
    "            annot=True, # Отображаем численные значения в ячейках карты\n",
    "            fmt='.2f', # Форматируем значения корреляции: два знака после точки\n",
    "            cmap='coolwarm', # Устанавливаем цветовую гамму от красного (макс. значение) к синему\n",
    "            linewidths=0.5, # Форматируем линию между ячейками карты\n",
    "            cbar=False # Отключаем цветовую шкалу\n",
    "           )\n",
    "\n",
    "# Добавляем заголовок и подпись по оси Х\n",
    "plt.title('Тепловая карта коэффициента phi_k \\n для данных order_count')\n",
    "plt.xlabel('Количество заказов')\n",
    "\n",
    "# Выводим график\n",
    "plt.show()"
   ]
  },
  {
   "cell_type": "code",
   "execution_count": 118,
   "id": "669ae228",
   "metadata": {
    "id": "669ae228"
   },
   "outputs": [
    {
     "name": "stdout",
     "output_type": "stream",
     "text": [
      "interval columns not set, guessing: ['order_count', 'avg_revenue', 'avg_tickets', 'avg_days', 'day_week']\n",
      "Корреляционная матрица с коэффициентом phi_k для переменной rating\n"
     ]
    },
    {
     "data": {
      "text/html": [
       "<div>\n",
       "<style scoped>\n",
       "    .dataframe tbody tr th:only-of-type {\n",
       "        vertical-align: middle;\n",
       "    }\n",
       "\n",
       "    .dataframe tbody tr th {\n",
       "        vertical-align: top;\n",
       "    }\n",
       "\n",
       "    .dataframe thead th {\n",
       "        text-align: right;\n",
       "    }\n",
       "</style>\n",
       "<table border=\"1\" class=\"dataframe\">\n",
       "  <thead>\n",
       "    <tr style=\"text-align: right;\">\n",
       "      <th></th>\n",
       "      <th>order_count</th>\n",
       "    </tr>\n",
       "  </thead>\n",
       "  <tbody>\n",
       "    <tr>\n",
       "      <th>avg_days</th>\n",
       "      <td>0.423345</td>\n",
       "    </tr>\n",
       "    <tr>\n",
       "      <th>avg_tickets</th>\n",
       "      <td>0.319281</td>\n",
       "    </tr>\n",
       "    <tr>\n",
       "      <th>avg_revenue</th>\n",
       "      <td>0.138960</td>\n",
       "    </tr>\n",
       "    <tr>\n",
       "      <th>region_name</th>\n",
       "      <td>0.051637</td>\n",
       "    </tr>\n",
       "    <tr>\n",
       "      <th>service_name</th>\n",
       "      <td>0.044634</td>\n",
       "    </tr>\n",
       "    <tr>\n",
       "      <th>device_type_canonical</th>\n",
       "      <td>0.000000</td>\n",
       "    </tr>\n",
       "    <tr>\n",
       "      <th>event_type_main</th>\n",
       "      <td>0.000000</td>\n",
       "    </tr>\n",
       "    <tr>\n",
       "      <th>day_week</th>\n",
       "      <td>0.000000</td>\n",
       "    </tr>\n",
       "  </tbody>\n",
       "</table>\n",
       "</div>"
      ],
      "text/plain": [
       "                       order_count\n",
       "avg_days                  0.423345\n",
       "avg_tickets               0.319281\n",
       "avg_revenue               0.138960\n",
       "region_name               0.051637\n",
       "service_name              0.044634\n",
       "device_type_canonical     0.000000\n",
       "event_type_main           0.000000\n",
       "day_week                  0.000000"
      ]
     },
     "execution_count": 118,
     "metadata": {},
     "output_type": "execute_result"
    }
   ],
   "source": [
    "correlation_matrix = new_df_2[['device_type_canonical', 'region_name', 'service_name', 'event_type_main', 'order_count','avg_revenue','avg_tickets','avg_days','day_week']].phik_matrix()\n",
    "print('Корреляционная матрица с коэффициентом phi_k для переменной rating')\n",
    "correlation_matrix.loc[correlation_matrix.index != 'order_count'][['order_count']].sort_values(by='order_count', ascending=False)"
   ]
  },
  {
   "cell_type": "code",
   "execution_count": 119,
   "id": "9c6aa89f",
   "metadata": {},
   "outputs": [
    {
     "data": {
      "image/png": "[encoded data removed]",
      "text/plain": [
       "<Figure size 144x432 with 1 Axes>"
      ]
     },
     "metadata": {
      "needs_background": "light"
     },
     "output_type": "display_data"
    }
   ],
   "source": [
    "# Строим тепловую карту\n",
    "plt.figure(figsize=(2, 6))\n",
    "\n",
    "data_heatmap = correlation_matrix.loc[correlation_matrix.index != 'order_count'][['order_count']].sort_values(by='order_count', ascending=False)\n",
    "sns.heatmap(data_heatmap,\n",
    "            annot=True, # Отображаем численные значения в ячейках карты\n",
    "            fmt='.2f', # Форматируем значения корреляции: два знака после точки\n",
    "            cmap='coolwarm', # Устанавливаем цветовую гамму от красного (макс. значение) к синему\n",
    "            linewidths=0.5, # Форматируем линию между ячейками карты\n",
    "            cbar=False # Отключаем цветовую шкалу\n",
    "           )\n",
    "\n",
    "# Добавляем заголовок и подпись по оси Х\n",
    "plt.title('Тепловая карта коэффициента phi_k \\n для данных order_count')\n",
    "plt.xlabel('Количество заказов')\n",
    "\n",
    "# Выводим график\n",
    "plt.show()"
   ]
  },
  {
   "cell_type": "code",
   "execution_count": 120,
   "id": "f8d6ee3b",
   "metadata": {},
   "outputs": [
    {
     "name": "stdout",
     "output_type": "stream",
     "text": [
      "interval columns not set, guessing: ['order_count', 'avg_revenue', 'avg_tickets', 'avg_days', 'day_week']\n",
      "Корреляционная матрица с коэффициентом phi_k для переменной rating\n"
     ]
    },
    {
     "data": {
      "text/html": [
       "<div>\n",
       "<style scoped>\n",
       "    .dataframe tbody tr th:only-of-type {\n",
       "        vertical-align: middle;\n",
       "    }\n",
       "\n",
       "    .dataframe tbody tr th {\n",
       "        vertical-align: top;\n",
       "    }\n",
       "\n",
       "    .dataframe thead th {\n",
       "        text-align: right;\n",
       "    }\n",
       "</style>\n",
       "<table border=\"1\" class=\"dataframe\">\n",
       "  <thead>\n",
       "    <tr style=\"text-align: right;\">\n",
       "      <th></th>\n",
       "      <th>order_count</th>\n",
       "    </tr>\n",
       "  </thead>\n",
       "  <tbody>\n",
       "    <tr>\n",
       "      <th>avg_days</th>\n",
       "      <td>0.735216</td>\n",
       "    </tr>\n",
       "    <tr>\n",
       "      <th>avg_tickets</th>\n",
       "      <td>0.263769</td>\n",
       "    </tr>\n",
       "    <tr>\n",
       "      <th>avg_revenue</th>\n",
       "      <td>0.201522</td>\n",
       "    </tr>\n",
       "    <tr>\n",
       "      <th>region_name</th>\n",
       "      <td>0.129075</td>\n",
       "    </tr>\n",
       "    <tr>\n",
       "      <th>service_name</th>\n",
       "      <td>0.080501</td>\n",
       "    </tr>\n",
       "    <tr>\n",
       "      <th>device_type_canonical</th>\n",
       "      <td>0.039689</td>\n",
       "    </tr>\n",
       "    <tr>\n",
       "      <th>day_week</th>\n",
       "      <td>0.035974</td>\n",
       "    </tr>\n",
       "    <tr>\n",
       "      <th>event_type_main</th>\n",
       "      <td>0.000000</td>\n",
       "    </tr>\n",
       "  </tbody>\n",
       "</table>\n",
       "</div>"
      ],
      "text/plain": [
       "                       order_count\n",
       "avg_days                  0.735216\n",
       "avg_tickets               0.263769\n",
       "avg_revenue               0.201522\n",
       "region_name               0.129075\n",
       "service_name              0.080501\n",
       "device_type_canonical     0.039689\n",
       "day_week                  0.035974\n",
       "event_type_main           0.000000"
      ]
     },
     "execution_count": 120,
     "metadata": {},
     "output_type": "execute_result"
    }
   ],
   "source": [
    "correlation_matrix = new_df_5[['device_type_canonical', 'region_name', 'service_name', 'event_type_main', 'order_count','avg_revenue','avg_tickets','avg_days','day_week']].phik_matrix()\n",
    "print('Корреляционная матрица с коэффициентом phi_k для переменной rating')\n",
    "correlation_matrix.loc[correlation_matrix.index != 'order_count'][['order_count']].sort_values(by='order_count', ascending=False)"
   ]
  },
  {
   "cell_type": "code",
   "execution_count": 121,
   "id": "c2053802",
   "metadata": {
    "id": "c2053802"
   },
   "outputs": [
    {
     "data": {
      "image/png": "[encoded data removed]",
      "text/plain": [
       "<Figure size 144x432 with 1 Axes>"
      ]
     },
     "metadata": {
      "needs_background": "light"
     },
     "output_type": "display_data"
    }
   ],
   "source": [
    "# Строим тепловую карту\n",
    "plt.figure(figsize=(2, 6))\n",
    "\n",
    "data_heatmap = correlation_matrix.loc[correlation_matrix.index != 'order_count'][['order_count']].sort_values(by='order_count', ascending=False)\n",
    "sns.heatmap(data_heatmap,\n",
    "            annot=True, # Отображаем численные значения в ячейках карты\n",
    "            fmt='.2f', # Форматируем значения корреляции: два знака после точки\n",
    "            cmap='coolwarm', # Устанавливаем цветовую гамму от красного (макс. значение) к синему\n",
    "            linewidths=0.5, # Форматируем линию между ячейками карты\n",
    "            cbar=False # Отключаем цветовую шкалу\n",
    "           )\n",
    "\n",
    "# Добавляем заголовок и подпись по оси Х\n",
    "plt.title('Тепловая карта коэффициента phi_k \\n для данных order_count')\n",
    "plt.xlabel('Количество заказов')\n",
    "\n",
    "# Выводим график\n",
    "plt.show()"
   ]
  },
  {
   "cell_type": "markdown",
   "id": "0bdd310c",
   "metadata": {},
   "source": [
    "На то, совершил ли пользователь только один заказ сильно влияет среднее количество билетов в заказе(коэф кор 0,7) и средний чек(коэф кор 0,3).\n",
    "\n",
    "На то, совершил ли пользователь 2-4 заказа сильно влияет среднее количество билетов в заказе(коэф кор 0,39) и количество дней между заказами(коэф кор 0,38).\n",
    "\n",
    "На то, совершил ли пользователь 5 и более заказов сильно влияет количество дней между заказами(коэф кор 0,7)."
   ]
  },
  {
   "cell_type": "markdown",
   "id": "e7c496e9",
   "metadata": {
    "id": "e7c496e9"
   },
   "source": [
    "### 5. Общий вывод и рекомендации\n",
    "\n",
    "В конце проекта напишите общий вывод и рекомендации: расскажите заказчику, на что нужно обратить внимание. В выводах кратко укажите:\n",
    "\n",
    "- **Информацию о данных**, с которыми вы работали, и то, как они были подготовлены: например, расскажите о фильтрации данных, переводе тенге в рубли, фильтрации выбросов.\n",
    "- **Основные результаты анализа.** Например, укажите:\n",
    "    - Сколько пользователей в выборке? Как распределены пользователи по числу заказов? Какие ещё статистические показатели вы подсчитали важным во время изучения данных?\n",
    "    - Какие признаки первого заказа связаны с возвратом пользователей?\n",
    "    - Как связаны средняя выручка и количество билетов в заказе с вероятностью повторных покупок?\n",
    "    - Какие временные характеристики влияют на удержание (день недели, интервалы между покупками)?\n",
    "    - Какие характеристики первого заказа и профиля пользователя могут быть связаны с числом покупок согласно результатам корреляционного анализа?\n",
    "- Дополните выводы информацией, которая покажется вам важной и интересной. Следите за общим объёмом выводов — они должны быть компактными и ёмкими.\n",
    "\n",
    "В конце предложите заказчику рекомендации о том, как именно действовать в его ситуации. Например, укажите, на какие сегменты пользователей стоит обратить внимание в первую очередь, а какие нуждаются в дополнительных маркетинговых усилиях."
   ]
  },
  {
   "cell_type": "markdown",
   "id": "a6577d95",
   "metadata": {
    "id": "59be5935"
   },
   "source": [
    "**ВЫВОД**\n",
    "\n",
    "а) **Подготовка**\n",
    "\n",
    "Выгружены данные из базы SQL, общий начальный объем составил 14 столбцов и 290611 строк.\n",
    "\n",
    "Выручка приведена к единой валюте 'rub', пересчет произведен по отношению к курсу валют на дату совершения сделки.\n",
    "\n",
    "Проверены статистические данные, произошла фильтрация по 99 процентилю из-за сильных выбросов влияющих на общую статистику в столбцах по количеству приобретенных билетов и по количеству билетов в заказе.\n",
    "Эти данные составили 1% от общего числа строк.\n",
    "\n",
    "Добавлены столбцы `is_two` — совершил ли пользователь 2 и более заказа;\n",
    "и `is_five`— совершил ли пользователь 5 и более заказов.\n",
    "\n",
    "Произошла группировка по пользователям (всего пользователей 21847) и проверка на аномальные значения статичтических данных.\n",
    "В количестве заказов у некоторых пользователей обнаружено аномально большие значения. Принято решение отфильтровать по 95-му перцентилю.\n",
    "\n",
    "Итоговый набор данных был сокращен на 5%, что составляет набор данных по 20 594 пользователям.\n",
    "\n",
    "б) **Основные результаты анализа**\n",
    "\n",
    "**Распределение пользователей:**\n",
    "\n",
    "*По типам мероприятий*\n",
    "\n",
    "На концерт и театр больше всего первых покупок.Концерт 44.4%, Театр 19.6%. \n",
    "\n",
    "*По типам устройств*\n",
    "\n",
    "Мобильные заказы явный лидер - 83 %, ПК - 17 %\n",
    "\n",
    "*По регионам*\n",
    "\n",
    "Выделяются Каменевский регион 33% и Североярская область 17% остальные 6% и ниже\n",
    "\n",
    "*По билетному оператору*\n",
    "\n",
    "Пятерка лидеров\n",
    "1) Билеты без проблем        23%\n",
    "2) Мой билет                 14%\n",
    "3) Лови билет!               13%\n",
    "4) Билеты в руки             11%\n",
    "5) Облачко                   10%\n",
    "\n",
    "У других меньше 5%\n",
    "\n",
    "**Доля возвратов пользователей по первому заказу:**\n",
    "\n",
    "*По типам мероприятий*\n",
    "\n",
    "Выше среднего показателя выставки 63% и театр 62%\n",
    "\n",
    "*По типам устройств*\n",
    "\n",
    "ПК - 62% против мобильных - 59%\n",
    "\n",
    "*По регионам*\n",
    "\n",
    "Особенно выделяются Широковская область 63%, Шанырский регион 65%, Светополянский округ 64%\n",
    "\n",
    "*По билетному оператору*\n",
    "\n",
    "Край билетов 63%, Дом культуры 63%\n",
    "\n",
    "**Продуктовые гипотезы:**\n",
    "\n",
    "Гипотеза 1. Тип мероприятия влияет на вероятность возврата на Яндекс Афишу: пользователи, которые совершили первый заказ на спортивные мероприятия, совершают повторный заказ чаще, чем пользователи, оформившие свой первый заказ на концерты.\n",
    "\n",
    "**Не подтверждается**\n",
    "\n",
    "спорт 53% вернувшихся(ниже среднего), концерты 60% вернувшихся(средний показатель)\n",
    "\n",
    "Гипотеза 2. В регионах, где больше всего пользователей посещают мероприятия, выше доля повторных заказов, чем в менее активных регионах.\n",
    "\n",
    "**Не подтверждается**\n",
    "\n",
    "Топовые по посещению регионы Каменевский регион 60%, Североярская область 62%, в то время как в других менее активных есть показатели до 65% \n",
    "\n",
    "**Влияние средней выручки на возврат клиента**\n",
    "\n",
    "Для тех кто вернулся 5 и более раз средний чек выше в области от 300 до 800 руб чем у тех кто сделал 1 заказ или 2-4 заказа, для этих данных распределение от 0 постепенно убывает.\n",
    "\n",
    "**Влияние среднего количества билетов на возврат клиента**\n",
    "\n",
    "Пользователи по сегментам распределены не равномерно, больше всего пользователей от 2 до 5 билетов в заказе.\n",
    "\n",
    "Очень большой показатель повторных покупок у пользователей с билетами >=2 и <3 билетов в заказе.\n",
    "\n",
    "Очень низкий показатель 5 и более.\n",
    "\n",
    "**Влияние дня недели на возврат клиента**\n",
    "\n",
    "день недели влияет на вероятность возврата клиента, но не сильно. Выше среднего показатели у пн, ср, сб - 60% и больше.\n",
    "\n",
    "Сильно ниже остальных показатель вск - 57%\n",
    "\n",
    "**Влияние интервала между покупками на возврат клиента**\n",
    "\n",
    "Для тех кто совершил 5 и более заказов среднее время между заказами менее 2 недель. Для тех кто сделал 2-4 заказа около 3 недель.\n",
    "\n",
    "**Анализ количества покупок и характеристики первого заказа**\n",
    "На то, совершил ли пользователь только один заказ сильно влияет среднее количество билетов в заказе(коэф кор 0,7) и средний чек(коэф кор 0,3).\n",
    "\n",
    "На то, совершил ли пользователь 2-4 заказа сильно влияет среднее количество билетов в заказе(коэф кор 0,39) и количество дней между заказами(коэф кор 0,38).\n",
    "\n",
    "На то, совершил ли пользователь 5 и более заказов сильно влияет количество дней между заказами(коэф кор 0,7)."
   ]
  },
  {
   "cell_type": "markdown",
   "id": "ba179cc2",
   "metadata": {
    "id": "a788f8bd"
   },
   "source": [
    "**РЕКОМЕНДАЦИИ**\n",
    "\n",
    "В конце предложите заказчику рекомендации о том, как именно действовать в его ситуации. Например, укажите, на какие сегменты пользователей стоит обратить внимание в первую очередь, а какие нуждаются в дополнительных маркетинговых усилиях.\n",
    "\n",
    "Необходимо обратить внимание на пользователей, которые делают первый заказ на концерты, с мобильных телефонов и из регионов с самым большим числом посетителей мероприятий - число покупателей выше чем у остальных категорий, но доля возвратов ниже.\n",
    "\n",
    "Также необходимо пересмотреть всех топовых билетных операторов, у них число возвратных покупателей ниже среднего.\n",
    "\n",
    "Средняя выручка для тех кто вернулся выше в диапазоне 300-800 руб.\n",
    "\n",
    "Очень большой показатель повторных покупок у пользователей со среднем количеством билетов >=2 и <3 (видимо хорошие маркетинговые стратегии для пар)\n",
    "с 3 до 5 меньше, стоит сделать упор на семейные мероприятия\n",
    "\n",
    "По дням недели больше всего покупают в пятницу, но показатель возвратов ниже среднего.\n",
    "\n",
    "Чем чаще покупают, тем меньше времени проходит между заказами.\n",
    "На то совершил ли пользователь только один заказ сильно влияет количество билетов в заказе.\n",
    "\n",
    "**КОРОТКО**\n",
    "\n",
    "Слабые места по возрату - первый заказ на концерты, с мобильных телефонов, из регионов с самым большим числом посетителей мероприятий, топовые билетные операторы, покупки 3-5 билетов, покупки в пятницу.\n",
    "\n",
    "Использование сильных сторон - Мероприятия для пар, средний чек 300-800 руб."
   ]
  },
  {
   "cell_type": "markdown",
   "id": "R8WPcqKyqW6Z",
   "metadata": {
    "id": "R8WPcqKyqW6Z"
   },
   "source": [
    "### 6. Финализация проекта и публикация в Git\n",
    "\n",
    "Когда вы закончите анализировать данные, оформите проект, а затем опубликуйте его.\n",
    "\n",
    "Выполните следующие действия:\n",
    "\n",
    "1. Создайте файл `.gitignore`. Добавьте в него все временные и чувствительные файлы, которые не должны попасть в репозиторий.\n",
    "2. Сформируйте файл `requirements.txt`. Зафиксируйте все библиотеки, которые вы использовали в проекте.\n",
    "3. Вынести все чувствительные данные (параметры подключения к базе) в `.env`файл.\n",
    "4. Проверьте, что проект запускается и воспроизводим.\n",
    "5. Загрузите проект в публичный репозиторий — например, на GitHub. Убедитесь, что все нужные файлы находятся в репозитории, исключая те, что в `.gitignore`. Ссылка на репозиторий понадобится для отправки проекта на проверку. Вставьте её в шаблон проекта в тетрадке Jupyter Notebook перед отправкой проекта на ревью."
   ]
  },
  {
   "cell_type": "markdown",
   "id": "xMijfOFruLHQ",
   "metadata": {
    "id": "xMijfOFruLHQ"
   },
   "source": [
    "**Вставьте ссылку на проект в этой ячейке тетрадки перед отправкой проекта на ревью.**"
   ]
  },
  {
   "cell_type": "code",
   "execution_count": null,
   "id": "a30ab016",
   "metadata": {},
   "outputs": [],
   "source": []
  }
 ],
 "metadata": {
  "ExecuteTimeLog": [
   {
    "duration": 39785,
    "start_time": "2025-10-19T12:10:26.973Z"
   },
   {
    "duration": 26562,
    "start_time": "2025-10-19T12:11:31.332Z"
   },
   {
    "duration": 5326,
    "start_time": "2025-10-19T12:12:02.914Z"
   },
   {
    "duration": 5,
    "start_time": "2025-10-19T12:12:16.195Z"
   },
   {
    "duration": 6293,
    "start_time": "2025-10-19T12:13:11.489Z"
   },
   {
    "duration": 18,
    "start_time": "2025-10-19T12:13:29.520Z"
   },
   {
    "duration": 87,
    "start_time": "2025-10-19T12:14:01.791Z"
   },
   {
    "duration": 250,
    "start_time": "2025-10-19T12:14:56.385Z"
   },
   {
    "duration": 6091,
    "start_time": "2025-10-19T12:19:12.046Z"
   },
   {
    "duration": 8953,
    "start_time": "2025-10-19T12:19:18.139Z"
   },
   {
    "duration": 4354,
    "start_time": "2025-10-19T12:19:27.093Z"
   },
   {
    "duration": 227,
    "start_time": "2025-10-19T12:19:31.449Z"
   },
   {
    "duration": 12,
    "start_time": "2025-10-19T12:20:14.657Z"
   },
   {
    "duration": 70,
    "start_time": "2025-10-19T12:39:41.892Z"
   },
   {
    "duration": 72,
    "start_time": "2025-10-19T12:40:52.925Z"
   },
   {
    "duration": 12,
    "start_time": "2025-10-19T12:40:58.773Z"
   },
   {
    "duration": 16,
    "start_time": "2025-10-19T12:41:14.886Z"
   },
   {
    "duration": 89,
    "start_time": "2025-10-19T12:43:36.729Z"
   },
   {
    "duration": 14,
    "start_time": "2025-10-19T12:43:43.794Z"
   },
   {
    "duration": 1489,
    "start_time": "2025-10-19T12:45:19.078Z"
   },
   {
    "duration": 17,
    "start_time": "2025-10-19T12:45:28.232Z"
   },
   {
    "duration": 435,
    "start_time": "2025-10-19T12:45:32.528Z"
   },
   {
    "duration": 60,
    "start_time": "2025-10-19T12:47:02.779Z"
   },
   {
    "duration": 486,
    "start_time": "2025-10-19T12:47:04.123Z"
   },
   {
    "duration": 92,
    "start_time": "2025-10-19T12:47:12.780Z"
   },
   {
    "duration": 3088,
    "start_time": "2025-10-19T12:55:26.090Z"
   },
   {
    "duration": 2951,
    "start_time": "2025-10-19T12:55:46.677Z"
   },
   {
    "duration": 55,
    "start_time": "2025-10-19T12:57:44.995Z"
   },
   {
    "duration": 5932,
    "start_time": "2025-10-19T12:57:52.190Z"
   },
   {
    "duration": 9345,
    "start_time": "2025-10-19T12:57:58.125Z"
   },
   {
    "duration": 8309,
    "start_time": "2025-10-19T12:58:07.472Z"
   },
   {
    "duration": 244,
    "start_time": "2025-10-19T12:58:15.783Z"
   },
   {
    "duration": 11,
    "start_time": "2025-10-19T12:58:16.030Z"
   },
   {
    "duration": 57,
    "start_time": "2025-10-19T12:58:16.043Z"
   },
   {
    "duration": 17,
    "start_time": "2025-10-19T12:58:16.102Z"
   },
   {
    "duration": 60,
    "start_time": "2025-10-19T12:58:16.121Z"
   },
   {
    "duration": 441,
    "start_time": "2025-10-19T12:58:16.183Z"
   },
   {
    "duration": 127,
    "start_time": "2025-10-19T12:58:16.626Z"
   },
   {
    "duration": 6031,
    "start_time": "2025-10-19T13:01:21.252Z"
   },
   {
    "duration": 9835,
    "start_time": "2025-10-19T13:01:27.286Z"
   },
   {
    "duration": 1282,
    "start_time": "2025-10-19T13:01:37.123Z"
   },
   {
    "duration": 0,
    "start_time": "2025-10-19T13:01:38.408Z"
   },
   {
    "duration": 0,
    "start_time": "2025-10-19T13:01:38.409Z"
   },
   {
    "duration": 0,
    "start_time": "2025-10-19T13:01:38.411Z"
   },
   {
    "duration": 0,
    "start_time": "2025-10-19T13:01:38.412Z"
   },
   {
    "duration": 0,
    "start_time": "2025-10-19T13:01:38.413Z"
   },
   {
    "duration": 0,
    "start_time": "2025-10-19T13:01:38.414Z"
   },
   {
    "duration": 0,
    "start_time": "2025-10-19T13:01:38.415Z"
   },
   {
    "duration": 0,
    "start_time": "2025-10-19T13:01:38.417Z"
   },
   {
    "duration": 6033,
    "start_time": "2025-10-19T13:01:49.309Z"
   },
   {
    "duration": 9260,
    "start_time": "2025-10-19T13:01:55.344Z"
   },
   {
    "duration": 1324,
    "start_time": "2025-10-19T13:02:04.606Z"
   },
   {
    "duration": 0,
    "start_time": "2025-10-19T13:02:05.934Z"
   },
   {
    "duration": 0,
    "start_time": "2025-10-19T13:02:05.935Z"
   },
   {
    "duration": 0,
    "start_time": "2025-10-19T13:02:05.937Z"
   },
   {
    "duration": 0,
    "start_time": "2025-10-19T13:02:05.938Z"
   },
   {
    "duration": 0,
    "start_time": "2025-10-19T13:02:05.940Z"
   },
   {
    "duration": 0,
    "start_time": "2025-10-19T13:02:05.942Z"
   },
   {
    "duration": 0,
    "start_time": "2025-10-19T13:02:05.943Z"
   },
   {
    "duration": 0,
    "start_time": "2025-10-19T13:02:05.945Z"
   },
   {
    "duration": 1547,
    "start_time": "2025-10-19T13:02:29.241Z"
   },
   {
    "duration": 5985,
    "start_time": "2025-10-19T13:07:52.079Z"
   },
   {
    "duration": 9774,
    "start_time": "2025-10-19T13:07:58.068Z"
   },
   {
    "duration": 1573,
    "start_time": "2025-10-19T13:08:07.846Z"
   },
   {
    "duration": 0,
    "start_time": "2025-10-19T13:08:09.421Z"
   },
   {
    "duration": 0,
    "start_time": "2025-10-19T13:08:09.422Z"
   },
   {
    "duration": 0,
    "start_time": "2025-10-19T13:08:09.423Z"
   },
   {
    "duration": 0,
    "start_time": "2025-10-19T13:08:09.425Z"
   },
   {
    "duration": 0,
    "start_time": "2025-10-19T13:08:09.426Z"
   },
   {
    "duration": 0,
    "start_time": "2025-10-19T13:08:09.427Z"
   },
   {
    "duration": 0,
    "start_time": "2025-10-19T13:08:09.428Z"
   },
   {
    "duration": 0,
    "start_time": "2025-10-19T13:08:09.429Z"
   },
   {
    "duration": 1471,
    "start_time": "2025-10-19T13:19:01.661Z"
   },
   {
    "duration": 16407,
    "start_time": "2025-10-19T13:19:21.350Z"
   },
   {
    "duration": 211,
    "start_time": "2025-10-19T13:20:53.929Z"
   },
   {
    "duration": 11,
    "start_time": "2025-10-19T13:20:54.240Z"
   },
   {
    "duration": 5967,
    "start_time": "2025-10-19T13:21:00.100Z"
   },
   {
    "duration": 9143,
    "start_time": "2025-10-19T13:21:06.070Z"
   },
   {
    "duration": 12427,
    "start_time": "2025-10-19T13:21:15.215Z"
   },
   {
    "duration": 231,
    "start_time": "2025-10-19T13:21:27.643Z"
   },
   {
    "duration": 12,
    "start_time": "2025-10-19T13:21:27.877Z"
   },
   {
    "duration": 44,
    "start_time": "2025-10-19T13:21:27.891Z"
   },
   {
    "duration": 20,
    "start_time": "2025-10-19T13:21:27.937Z"
   },
   {
    "duration": 65,
    "start_time": "2025-10-19T13:21:27.959Z"
   },
   {
    "duration": 430,
    "start_time": "2025-10-19T13:21:28.026Z"
   },
   {
    "duration": 119,
    "start_time": "2025-10-19T13:21:28.458Z"
   },
   {
    "duration": 5830,
    "start_time": "2025-10-19T13:21:28.579Z"
   },
   {
    "duration": 6451,
    "start_time": "2025-10-19T13:22:38.195Z"
   },
   {
    "duration": 13,
    "start_time": "2025-10-19T13:23:09.461Z"
   },
   {
    "duration": 13,
    "start_time": "2025-10-19T13:23:15.255Z"
   },
   {
    "duration": 17,
    "start_time": "2025-10-19T13:23:21.889Z"
   },
   {
    "duration": 5500,
    "start_time": "2025-10-19T13:24:59.900Z"
   },
   {
    "duration": 13,
    "start_time": "2025-10-19T13:25:06.117Z"
   },
   {
    "duration": 11,
    "start_time": "2025-10-19T13:26:23.343Z"
   },
   {
    "duration": 95,
    "start_time": "2025-10-19T13:28:29.070Z"
   },
   {
    "duration": 40,
    "start_time": "2025-10-19T13:29:57.753Z"
   },
   {
    "duration": 417,
    "start_time": "2025-10-19T13:39:19.721Z"
   },
   {
    "duration": 220,
    "start_time": "2025-10-19T13:39:27.514Z"
   },
   {
    "duration": 210,
    "start_time": "2025-10-19T13:39:29.963Z"
   },
   {
    "duration": 6,
    "start_time": "2025-10-19T13:42:06.223Z"
   },
   {
    "duration": 7,
    "start_time": "2025-10-19T13:43:11.655Z"
   },
   {
    "duration": 81,
    "start_time": "2025-10-19T13:45:09.789Z"
   },
   {
    "duration": 23,
    "start_time": "2025-10-19T13:45:13.446Z"
   },
   {
    "duration": 32,
    "start_time": "2025-10-19T13:45:32.617Z"
   },
   {
    "duration": 6,
    "start_time": "2025-10-19T13:46:07.333Z"
   },
   {
    "duration": 91,
    "start_time": "2025-10-19T13:49:18.957Z"
   },
   {
    "duration": 6,
    "start_time": "2025-10-19T13:49:20.629Z"
   },
   {
    "duration": 50,
    "start_time": "2025-10-19T13:50:21.709Z"
   },
   {
    "duration": 12,
    "start_time": "2025-10-19T13:50:32.983Z"
   },
   {
    "duration": 1288,
    "start_time": "2025-10-19T13:52:19.324Z"
   },
   {
    "duration": 0,
    "start_time": "2025-10-19T13:52:20.613Z"
   },
   {
    "duration": 6030,
    "start_time": "2025-10-19T13:52:59.017Z"
   },
   {
    "duration": 8748,
    "start_time": "2025-10-19T13:53:05.051Z"
   },
   {
    "duration": 12305,
    "start_time": "2025-10-19T13:53:13.801Z"
   },
   {
    "duration": 219,
    "start_time": "2025-10-19T13:53:26.108Z"
   },
   {
    "duration": 12,
    "start_time": "2025-10-19T13:53:26.330Z"
   },
   {
    "duration": 37,
    "start_time": "2025-10-19T13:53:26.357Z"
   },
   {
    "duration": 17,
    "start_time": "2025-10-19T13:53:26.396Z"
   },
   {
    "duration": 77,
    "start_time": "2025-10-19T13:53:26.416Z"
   },
   {
    "duration": 416,
    "start_time": "2025-10-19T13:53:26.496Z"
   },
   {
    "duration": 110,
    "start_time": "2025-10-19T13:53:26.914Z"
   },
   {
    "duration": 5778,
    "start_time": "2025-10-19T13:53:27.026Z"
   },
   {
    "duration": 112,
    "start_time": "2025-10-19T13:53:32.806Z"
   },
   {
    "duration": 50,
    "start_time": "2025-10-19T13:53:32.919Z"
   },
   {
    "duration": 222,
    "start_time": "2025-10-19T13:53:32.971Z"
   },
   {
    "duration": 279,
    "start_time": "2025-10-19T13:53:33.196Z"
   },
   {
    "duration": 6,
    "start_time": "2025-10-19T13:53:33.477Z"
   },
   {
    "duration": 143,
    "start_time": "2025-10-19T13:53:33.485Z"
   },
   {
    "duration": 6,
    "start_time": "2025-10-19T13:53:33.630Z"
   },
   {
    "duration": 87,
    "start_time": "2025-10-19T13:54:25.171Z"
   },
   {
    "duration": 5762,
    "start_time": "2025-10-19T13:54:40.294Z"
   },
   {
    "duration": 8739,
    "start_time": "2025-10-19T13:54:46.059Z"
   },
   {
    "duration": 6127,
    "start_time": "2025-10-19T13:54:54.800Z"
   },
   {
    "duration": 222,
    "start_time": "2025-10-19T13:55:00.929Z"
   },
   {
    "duration": 11,
    "start_time": "2025-10-19T13:55:01.158Z"
   },
   {
    "duration": 98,
    "start_time": "2025-10-19T13:55:01.171Z"
   },
   {
    "duration": 18,
    "start_time": "2025-10-19T13:55:01.271Z"
   },
   {
    "duration": 65,
    "start_time": "2025-10-19T13:55:01.292Z"
   },
   {
    "duration": 427,
    "start_time": "2025-10-19T13:55:01.360Z"
   },
   {
    "duration": 119,
    "start_time": "2025-10-19T13:55:01.789Z"
   },
   {
    "duration": 5739,
    "start_time": "2025-10-19T13:55:01.910Z"
   },
   {
    "duration": 105,
    "start_time": "2025-10-19T13:55:07.651Z"
   },
   {
    "duration": 39,
    "start_time": "2025-10-19T13:55:07.758Z"
   },
   {
    "duration": 220,
    "start_time": "2025-10-19T13:55:07.800Z"
   },
   {
    "duration": 215,
    "start_time": "2025-10-19T13:55:08.023Z"
   },
   {
    "duration": 18,
    "start_time": "2025-10-19T13:55:08.240Z"
   },
   {
    "duration": 114,
    "start_time": "2025-10-19T13:55:08.259Z"
   },
   {
    "duration": 6,
    "start_time": "2025-10-19T13:55:08.375Z"
   },
   {
    "duration": 5961,
    "start_time": "2025-10-19T13:58:38.664Z"
   },
   {
    "duration": 9218,
    "start_time": "2025-10-19T13:58:44.627Z"
   },
   {
    "duration": 4555,
    "start_time": "2025-10-19T13:58:53.846Z"
   },
   {
    "duration": 222,
    "start_time": "2025-10-19T13:58:58.402Z"
   },
   {
    "duration": 10,
    "start_time": "2025-10-19T13:58:58.626Z"
   },
   {
    "duration": 61,
    "start_time": "2025-10-19T13:58:58.638Z"
   },
   {
    "duration": 16,
    "start_time": "2025-10-19T13:58:58.701Z"
   },
   {
    "duration": 56,
    "start_time": "2025-10-19T13:58:58.719Z"
   },
   {
    "duration": 409,
    "start_time": "2025-10-19T13:58:58.777Z"
   },
   {
    "duration": 115,
    "start_time": "2025-10-19T13:58:59.188Z"
   },
   {
    "duration": 5709,
    "start_time": "2025-10-19T13:58:59.304Z"
   },
   {
    "duration": 107,
    "start_time": "2025-10-19T13:59:05.014Z"
   },
   {
    "duration": 43,
    "start_time": "2025-10-19T13:59:05.123Z"
   },
   {
    "duration": 297,
    "start_time": "2025-10-19T13:59:05.170Z"
   },
   {
    "duration": 218,
    "start_time": "2025-10-19T13:59:05.469Z"
   },
   {
    "duration": 6,
    "start_time": "2025-10-19T13:59:05.689Z"
   },
   {
    "duration": 172,
    "start_time": "2025-10-19T13:59:05.697Z"
   },
   {
    "duration": 6,
    "start_time": "2025-10-19T13:59:05.871Z"
   },
   {
    "duration": 21,
    "start_time": "2025-10-19T13:59:45.951Z"
   },
   {
    "duration": 6,
    "start_time": "2025-10-19T13:59:47.011Z"
   },
   {
    "duration": 80,
    "start_time": "2025-10-19T14:00:33.018Z"
   },
   {
    "duration": 5789,
    "start_time": "2025-10-19T14:00:45.630Z"
   },
   {
    "duration": 9810,
    "start_time": "2025-10-19T14:00:51.421Z"
   },
   {
    "duration": 7953,
    "start_time": "2025-10-19T14:01:01.233Z"
   },
   {
    "duration": 217,
    "start_time": "2025-10-19T14:01:09.188Z"
   },
   {
    "duration": 11,
    "start_time": "2025-10-19T14:01:09.408Z"
   },
   {
    "duration": 44,
    "start_time": "2025-10-19T14:01:09.420Z"
   },
   {
    "duration": 17,
    "start_time": "2025-10-19T14:01:09.465Z"
   },
   {
    "duration": 84,
    "start_time": "2025-10-19T14:01:09.483Z"
   },
   {
    "duration": 409,
    "start_time": "2025-10-19T14:01:09.568Z"
   },
   {
    "duration": 116,
    "start_time": "2025-10-19T14:01:09.978Z"
   },
   {
    "duration": 5605,
    "start_time": "2025-10-19T14:01:10.095Z"
   },
   {
    "duration": 116,
    "start_time": "2025-10-19T14:01:15.702Z"
   },
   {
    "duration": 55,
    "start_time": "2025-10-19T14:01:15.821Z"
   },
   {
    "duration": 220,
    "start_time": "2025-10-19T14:01:15.879Z"
   },
   {
    "duration": 217,
    "start_time": "2025-10-19T14:01:16.101Z"
   },
   {
    "duration": 6,
    "start_time": "2025-10-19T14:01:16.319Z"
   },
   {
    "duration": 57,
    "start_time": "2025-10-19T14:01:16.326Z"
   },
   {
    "duration": 5,
    "start_time": "2025-10-19T14:01:16.385Z"
   },
   {
    "duration": 45,
    "start_time": "2025-10-19T14:07:15.452Z"
   },
   {
    "duration": 45,
    "start_time": "2025-10-19T14:07:30.750Z"
   },
   {
    "duration": 55,
    "start_time": "2025-10-19T14:07:56.881Z"
   },
   {
    "duration": 6895,
    "start_time": "2025-10-19T14:12:24.842Z"
   },
   {
    "duration": 0,
    "start_time": "2025-10-19T14:12:31.741Z"
   },
   {
    "duration": 0,
    "start_time": "2025-10-19T14:12:31.742Z"
   },
   {
    "duration": 0,
    "start_time": "2025-10-19T14:12:31.743Z"
   },
   {
    "duration": 0,
    "start_time": "2025-10-19T14:12:31.757Z"
   },
   {
    "duration": 0,
    "start_time": "2025-10-19T14:12:31.758Z"
   },
   {
    "duration": 0,
    "start_time": "2025-10-19T14:12:31.759Z"
   },
   {
    "duration": 0,
    "start_time": "2025-10-19T14:12:31.760Z"
   },
   {
    "duration": 0,
    "start_time": "2025-10-19T14:12:31.762Z"
   },
   {
    "duration": 0,
    "start_time": "2025-10-19T14:12:31.763Z"
   },
   {
    "duration": 0,
    "start_time": "2025-10-19T14:12:31.764Z"
   },
   {
    "duration": 0,
    "start_time": "2025-10-19T14:12:31.765Z"
   },
   {
    "duration": 0,
    "start_time": "2025-10-19T14:12:31.766Z"
   },
   {
    "duration": 0,
    "start_time": "2025-10-19T14:12:31.768Z"
   },
   {
    "duration": 0,
    "start_time": "2025-10-19T14:12:31.769Z"
   },
   {
    "duration": 0,
    "start_time": "2025-10-19T14:12:31.770Z"
   },
   {
    "duration": 0,
    "start_time": "2025-10-19T14:12:31.771Z"
   },
   {
    "duration": 0,
    "start_time": "2025-10-19T14:12:31.772Z"
   },
   {
    "duration": 0,
    "start_time": "2025-10-19T14:12:31.773Z"
   },
   {
    "duration": 0,
    "start_time": "2025-10-19T14:12:31.774Z"
   },
   {
    "duration": 0,
    "start_time": "2025-10-19T14:12:31.776Z"
   },
   {
    "duration": 0,
    "start_time": "2025-10-19T14:12:31.777Z"
   },
   {
    "duration": 10256,
    "start_time": "2025-10-19T14:13:57.546Z"
   },
   {
    "duration": 8875,
    "start_time": "2025-10-19T14:14:07.805Z"
   },
   {
    "duration": 15590,
    "start_time": "2025-10-19T14:14:16.682Z"
   },
   {
    "duration": 198,
    "start_time": "2025-10-19T14:14:32.274Z"
   },
   {
    "duration": 11,
    "start_time": "2025-10-19T14:14:32.476Z"
   },
   {
    "duration": 58,
    "start_time": "2025-10-19T14:14:32.490Z"
   },
   {
    "duration": 17,
    "start_time": "2025-10-19T14:14:32.550Z"
   },
   {
    "duration": 49,
    "start_time": "2025-10-19T14:14:32.569Z"
   },
   {
    "duration": 398,
    "start_time": "2025-10-19T14:14:32.619Z"
   },
   {
    "duration": 111,
    "start_time": "2025-10-19T14:14:33.019Z"
   },
   {
    "duration": 5924,
    "start_time": "2025-10-19T14:14:33.132Z"
   },
   {
    "duration": 90,
    "start_time": "2025-10-19T14:14:39.058Z"
   },
   {
    "duration": 39,
    "start_time": "2025-10-19T14:14:39.155Z"
   },
   {
    "duration": 237,
    "start_time": "2025-10-19T14:14:39.197Z"
   },
   {
    "duration": 231,
    "start_time": "2025-10-19T14:14:39.436Z"
   },
   {
    "duration": 5,
    "start_time": "2025-10-19T14:14:39.669Z"
   },
   {
    "duration": 33,
    "start_time": "2025-10-19T14:14:39.676Z"
   },
   {
    "duration": 5,
    "start_time": "2025-10-19T14:14:39.711Z"
   },
   {
    "duration": 62,
    "start_time": "2025-10-19T14:14:39.718Z"
   },
   {
    "duration": 41,
    "start_time": "2025-10-19T14:14:39.782Z"
   },
   {
    "duration": 65,
    "start_time": "2025-10-19T14:14:39.825Z"
   },
   {
    "duration": 425,
    "start_time": "2025-10-19T14:14:39.891Z"
   },
   {
    "duration": 433,
    "start_time": "2025-10-19T14:22:15.478Z"
   },
   {
    "duration": 423,
    "start_time": "2025-10-19T14:49:03.881Z"
   },
   {
    "duration": 452,
    "start_time": "2025-10-19T14:49:36.901Z"
   },
   {
    "duration": 450,
    "start_time": "2025-10-19T14:51:21.946Z"
   },
   {
    "duration": 19,
    "start_time": "2025-10-19T14:59:06.467Z"
   },
   {
    "duration": 10,
    "start_time": "2025-10-19T15:01:23.621Z"
   },
   {
    "duration": 7,
    "start_time": "2025-10-19T15:01:27.878Z"
   },
   {
    "duration": 15,
    "start_time": "2025-10-19T15:02:17.035Z"
   },
   {
    "duration": 343,
    "start_time": "2025-10-19T15:02:29.181Z"
   },
   {
    "duration": 8,
    "start_time": "2025-10-19T15:02:29.773Z"
   },
   {
    "duration": 8,
    "start_time": "2025-10-19T15:02:49.071Z"
   },
   {
    "duration": 8,
    "start_time": "2025-10-19T15:02:53.448Z"
   },
   {
    "duration": 6,
    "start_time": "2025-10-19T15:03:55.640Z"
   },
   {
    "duration": 8,
    "start_time": "2025-10-19T15:04:00.976Z"
   },
   {
    "duration": 264,
    "start_time": "2025-10-19T15:04:40.918Z"
   },
   {
    "duration": 17,
    "start_time": "2025-10-19T15:04:51.376Z"
   },
   {
    "duration": 115,
    "start_time": "2025-10-19T15:05:14.274Z"
   },
   {
    "duration": 19,
    "start_time": "2025-10-19T15:05:14.874Z"
   },
   {
    "duration": 13,
    "start_time": "2025-10-19T15:07:32.663Z"
   },
   {
    "duration": 228,
    "start_time": "2025-10-19T15:07:44.502Z"
   },
   {
    "duration": 91,
    "start_time": "2025-10-19T15:08:47.968Z"
   },
   {
    "duration": 55,
    "start_time": "2025-10-19T15:08:57.014Z"
   },
   {
    "duration": 9972,
    "start_time": "2025-10-19T15:09:08.805Z"
   },
   {
    "duration": 8798,
    "start_time": "2025-10-19T15:09:18.779Z"
   },
   {
    "duration": 22086,
    "start_time": "2025-10-19T15:09:27.579Z"
   },
   {
    "duration": 225,
    "start_time": "2025-10-19T15:09:49.667Z"
   },
   {
    "duration": 14,
    "start_time": "2025-10-19T15:09:49.895Z"
   },
   {
    "duration": 59,
    "start_time": "2025-10-19T15:09:49.911Z"
   },
   {
    "duration": 23,
    "start_time": "2025-10-19T15:09:49.973Z"
   },
   {
    "duration": 74,
    "start_time": "2025-10-19T15:09:49.998Z"
   },
   {
    "duration": 427,
    "start_time": "2025-10-19T15:09:50.074Z"
   },
   {
    "duration": 115,
    "start_time": "2025-10-19T15:09:50.503Z"
   },
   {
    "duration": 6215,
    "start_time": "2025-10-19T15:09:50.619Z"
   },
   {
    "duration": 111,
    "start_time": "2025-10-19T15:09:56.836Z"
   },
   {
    "duration": 55,
    "start_time": "2025-10-19T15:09:56.948Z"
   },
   {
    "duration": 220,
    "start_time": "2025-10-19T15:09:57.007Z"
   },
   {
    "duration": 246,
    "start_time": "2025-10-19T15:09:57.229Z"
   },
   {
    "duration": 15,
    "start_time": "2025-10-19T15:09:57.476Z"
   },
   {
    "duration": 37,
    "start_time": "2025-10-19T15:09:57.493Z"
   },
   {
    "duration": 8,
    "start_time": "2025-10-19T15:09:57.532Z"
   },
   {
    "duration": 64,
    "start_time": "2025-10-19T15:09:57.557Z"
   },
   {
    "duration": 78,
    "start_time": "2025-10-19T15:09:57.623Z"
   },
   {
    "duration": 71,
    "start_time": "2025-10-19T15:09:57.703Z"
   },
   {
    "duration": 19,
    "start_time": "2025-10-19T15:09:57.775Z"
   },
   {
    "duration": 503,
    "start_time": "2025-10-19T15:09:57.796Z"
   },
   {
    "duration": 8,
    "start_time": "2025-10-19T15:09:58.300Z"
   },
   {
    "duration": 13,
    "start_time": "2025-10-19T15:09:58.310Z"
   },
   {
    "duration": 385,
    "start_time": "2025-10-19T15:09:58.325Z"
   },
   {
    "duration": 299,
    "start_time": "2025-10-19T15:09:58.711Z"
   },
   {
    "duration": 18,
    "start_time": "2025-10-19T15:09:59.012Z"
   },
   {
    "duration": 114,
    "start_time": "2025-10-19T15:09:59.031Z"
   },
   {
    "duration": 251,
    "start_time": "2025-10-19T15:09:59.147Z"
   },
   {
    "duration": 10035,
    "start_time": "2025-10-19T15:14:25.119Z"
   },
   {
    "duration": 9395,
    "start_time": "2025-10-19T15:14:35.157Z"
   },
   {
    "duration": 4789,
    "start_time": "2025-10-19T15:14:44.553Z"
   },
   {
    "duration": 244,
    "start_time": "2025-10-19T15:14:49.344Z"
   },
   {
    "duration": 12,
    "start_time": "2025-10-19T15:14:49.591Z"
   },
   {
    "duration": 37,
    "start_time": "2025-10-19T15:14:49.604Z"
   },
   {
    "duration": 25,
    "start_time": "2025-10-19T15:14:49.642Z"
   },
   {
    "duration": 54,
    "start_time": "2025-10-19T15:14:49.671Z"
   },
   {
    "duration": 445,
    "start_time": "2025-10-19T15:14:49.727Z"
   },
   {
    "duration": 122,
    "start_time": "2025-10-19T15:14:50.175Z"
   },
   {
    "duration": 6576,
    "start_time": "2025-10-19T15:14:50.298Z"
   },
   {
    "duration": 105,
    "start_time": "2025-10-19T15:14:56.882Z"
   },
   {
    "duration": 40,
    "start_time": "2025-10-19T15:14:56.990Z"
   },
   {
    "duration": 248,
    "start_time": "2025-10-19T15:14:57.033Z"
   },
   {
    "duration": 221,
    "start_time": "2025-10-19T15:14:57.283Z"
   },
   {
    "duration": 6,
    "start_time": "2025-10-19T15:14:57.506Z"
   },
   {
    "duration": 59,
    "start_time": "2025-10-19T15:14:57.514Z"
   },
   {
    "duration": 12,
    "start_time": "2025-10-19T15:14:57.576Z"
   },
   {
    "duration": 45,
    "start_time": "2025-10-19T15:14:57.590Z"
   },
   {
    "duration": 66,
    "start_time": "2025-10-19T15:14:57.636Z"
   },
   {
    "duration": 76,
    "start_time": "2025-10-19T15:14:57.703Z"
   },
   {
    "duration": 21,
    "start_time": "2025-10-19T15:14:57.782Z"
   },
   {
    "duration": 491,
    "start_time": "2025-10-19T15:14:57.804Z"
   },
   {
    "duration": 7,
    "start_time": "2025-10-19T15:14:58.297Z"
   },
   {
    "duration": 14,
    "start_time": "2025-10-19T15:14:58.306Z"
   },
   {
    "duration": 384,
    "start_time": "2025-10-19T15:14:58.322Z"
   },
   {
    "duration": 301,
    "start_time": "2025-10-19T15:14:58.708Z"
   },
   {
    "duration": 18,
    "start_time": "2025-10-19T15:14:59.011Z"
   },
   {
    "duration": 92,
    "start_time": "2025-10-19T15:14:59.031Z"
   },
   {
    "duration": 264,
    "start_time": "2025-10-19T15:14:59.124Z"
   },
   {
    "duration": 123,
    "start_time": "2025-10-19T15:15:35.570Z"
   },
   {
    "duration": 877,
    "start_time": "2025-10-19T15:16:15.959Z"
   },
   {
    "duration": 7,
    "start_time": "2025-10-19T15:16:30.465Z"
   },
   {
    "duration": 9,
    "start_time": "2025-10-19T15:17:05.272Z"
   },
   {
    "duration": 4,
    "start_time": "2025-10-19T15:17:20.422Z"
   },
   {
    "duration": 9351,
    "start_time": "2025-10-19T15:20:51.024Z"
   },
   {
    "duration": 9334,
    "start_time": "2025-10-19T15:21:00.378Z"
   },
   {
    "duration": 4290,
    "start_time": "2025-10-19T15:21:09.714Z"
   },
   {
    "duration": 228,
    "start_time": "2025-10-19T15:21:14.006Z"
   },
   {
    "duration": 11,
    "start_time": "2025-10-19T15:21:14.236Z"
   },
   {
    "duration": 34,
    "start_time": "2025-10-19T15:21:14.257Z"
   },
   {
    "duration": 17,
    "start_time": "2025-10-19T15:21:14.293Z"
   },
   {
    "duration": 57,
    "start_time": "2025-10-19T15:21:14.311Z"
   },
   {
    "duration": 422,
    "start_time": "2025-10-19T15:21:14.369Z"
   },
   {
    "duration": 118,
    "start_time": "2025-10-19T15:21:14.793Z"
   },
   {
    "duration": 5811,
    "start_time": "2025-10-19T15:21:14.913Z"
   },
   {
    "duration": 109,
    "start_time": "2025-10-19T15:21:20.725Z"
   },
   {
    "duration": 44,
    "start_time": "2025-10-19T15:21:20.835Z"
   },
   {
    "duration": 256,
    "start_time": "2025-10-19T15:21:20.882Z"
   },
   {
    "duration": 222,
    "start_time": "2025-10-19T15:21:21.140Z"
   },
   {
    "duration": 6,
    "start_time": "2025-10-19T15:21:21.363Z"
   },
   {
    "duration": 37,
    "start_time": "2025-10-19T15:21:21.370Z"
   },
   {
    "duration": 6,
    "start_time": "2025-10-19T15:21:21.408Z"
   },
   {
    "duration": 96,
    "start_time": "2025-10-19T15:21:21.416Z"
   },
   {
    "duration": 111,
    "start_time": "2025-10-19T15:21:21.514Z"
   },
   {
    "duration": 61,
    "start_time": "2025-10-19T15:21:21.627Z"
   },
   {
    "duration": 18,
    "start_time": "2025-10-19T15:21:21.690Z"
   },
   {
    "duration": 426,
    "start_time": "2025-10-19T15:21:21.710Z"
   },
   {
    "duration": 7,
    "start_time": "2025-10-19T15:21:22.138Z"
   },
   {
    "duration": 15,
    "start_time": "2025-10-19T15:21:22.156Z"
   },
   {
    "duration": 332,
    "start_time": "2025-10-19T15:21:22.173Z"
   },
   {
    "duration": 7,
    "start_time": "2025-10-19T15:21:22.507Z"
   },
   {
    "duration": 293,
    "start_time": "2025-10-19T15:21:22.516Z"
   },
   {
    "duration": 20,
    "start_time": "2025-10-19T15:21:22.811Z"
   },
   {
    "duration": 92,
    "start_time": "2025-10-19T15:21:22.832Z"
   },
   {
    "duration": 3,
    "start_time": "2025-10-19T15:21:22.926Z"
   },
   {
    "duration": 258,
    "start_time": "2025-10-19T15:21:22.931Z"
   },
   {
    "duration": 14,
    "start_time": "2025-10-19T15:21:49.149Z"
   },
   {
    "duration": 57,
    "start_time": "2025-10-22T15:52:38.079Z"
   },
   {
    "duration": 10114,
    "start_time": "2025-10-22T15:54:00.479Z"
   },
   {
    "duration": 8948,
    "start_time": "2025-10-22T15:54:10.596Z"
   },
   {
    "duration": 4251,
    "start_time": "2025-10-22T15:54:19.545Z"
   },
   {
    "duration": 220,
    "start_time": "2025-10-22T15:54:23.798Z"
   },
   {
    "duration": 10,
    "start_time": "2025-10-22T15:54:24.020Z"
   },
   {
    "duration": 56,
    "start_time": "2025-10-22T15:54:24.032Z"
   },
   {
    "duration": 16,
    "start_time": "2025-10-22T15:54:24.090Z"
   },
   {
    "duration": 53,
    "start_time": "2025-10-22T15:54:24.107Z"
   },
   {
    "duration": 402,
    "start_time": "2025-10-22T15:54:24.162Z"
   },
   {
    "duration": 110,
    "start_time": "2025-10-22T15:54:24.565Z"
   },
   {
    "duration": 5727,
    "start_time": "2025-10-22T15:54:24.676Z"
   },
   {
    "duration": 99,
    "start_time": "2025-10-22T15:54:30.404Z"
   },
   {
    "duration": 38,
    "start_time": "2025-10-22T15:54:30.514Z"
   },
   {
    "duration": 218,
    "start_time": "2025-10-22T15:54:30.555Z"
   },
   {
    "duration": 214,
    "start_time": "2025-10-22T15:54:30.775Z"
   },
   {
    "duration": 5,
    "start_time": "2025-10-22T15:54:30.990Z"
   },
   {
    "duration": 48,
    "start_time": "2025-10-22T15:54:30.996Z"
   },
   {
    "duration": 5,
    "start_time": "2025-10-22T15:54:31.046Z"
   },
   {
    "duration": 42,
    "start_time": "2025-10-22T15:54:31.053Z"
   },
   {
    "duration": 60,
    "start_time": "2025-10-22T15:54:31.097Z"
   },
   {
    "duration": 66,
    "start_time": "2025-10-22T15:54:31.159Z"
   },
   {
    "duration": 18,
    "start_time": "2025-10-22T15:54:31.226Z"
   },
   {
    "duration": 410,
    "start_time": "2025-10-22T15:54:31.246Z"
   },
   {
    "duration": 7,
    "start_time": "2025-10-22T15:54:31.658Z"
   },
   {
    "duration": 30,
    "start_time": "2025-10-22T15:54:31.667Z"
   },
   {
    "duration": 319,
    "start_time": "2025-10-22T15:54:31.699Z"
   },
   {
    "duration": 7,
    "start_time": "2025-10-22T15:54:32.020Z"
   },
   {
    "duration": 286,
    "start_time": "2025-10-22T15:54:32.028Z"
   },
   {
    "duration": 18,
    "start_time": "2025-10-22T15:54:32.316Z"
   },
   {
    "duration": 13,
    "start_time": "2025-10-22T15:54:32.336Z"
   },
   {
    "duration": 97,
    "start_time": "2025-10-22T15:54:32.351Z"
   },
   {
    "duration": 4,
    "start_time": "2025-10-22T15:54:32.449Z"
   },
   {
    "duration": 251,
    "start_time": "2025-10-22T15:54:32.454Z"
   },
   {
    "duration": 211,
    "start_time": "2025-10-22T15:54:32.707Z"
   },
   {
    "duration": 96,
    "start_time": "2025-10-22T15:56:16.847Z"
   },
   {
    "duration": 101,
    "start_time": "2025-10-22T15:56:36.185Z"
   },
   {
    "duration": 109,
    "start_time": "2025-10-22T15:57:58.956Z"
   },
   {
    "duration": 103,
    "start_time": "2025-10-22T15:58:49.394Z"
   },
   {
    "duration": 110,
    "start_time": "2025-10-22T15:59:10.932Z"
   },
   {
    "duration": 11,
    "start_time": "2025-10-22T15:59:35.487Z"
   },
   {
    "duration": 111,
    "start_time": "2025-10-22T16:00:27.571Z"
   },
   {
    "duration": 336,
    "start_time": "2025-10-22T16:03:13.779Z"
   },
   {
    "duration": 46,
    "start_time": "2025-10-22T16:04:34.613Z"
   },
   {
    "duration": 13,
    "start_time": "2025-10-22T16:04:50.999Z"
   },
   {
    "duration": 342,
    "start_time": "2025-10-22T16:05:29.300Z"
   },
   {
    "duration": 18,
    "start_time": "2025-10-22T16:05:30.188Z"
   },
   {
    "duration": 111,
    "start_time": "2025-10-22T16:05:58.752Z"
   },
   {
    "duration": 12,
    "start_time": "2025-10-22T16:05:59.887Z"
   },
   {
    "duration": 320,
    "start_time": "2025-10-22T16:06:00.511Z"
   },
   {
    "duration": 13,
    "start_time": "2025-10-22T16:06:02.584Z"
   },
   {
    "duration": 10,
    "start_time": "2025-10-22T16:08:56.750Z"
   },
   {
    "duration": 309,
    "start_time": "2025-10-22T16:09:02.631Z"
   },
   {
    "duration": 19,
    "start_time": "2025-10-22T16:09:03.903Z"
   },
   {
    "duration": 305,
    "start_time": "2025-10-22T16:09:31.828Z"
   },
   {
    "duration": 19,
    "start_time": "2025-10-22T16:09:32.243Z"
   },
   {
    "duration": 68,
    "start_time": "2025-10-22T16:11:07.310Z"
   },
   {
    "duration": 69,
    "start_time": "2025-10-22T16:11:16.415Z"
   },
   {
    "duration": 131,
    "start_time": "2025-10-22T16:12:30.249Z"
   },
   {
    "duration": 13,
    "start_time": "2025-10-22T16:12:31.259Z"
   },
   {
    "duration": 326,
    "start_time": "2025-10-22T16:12:46.259Z"
   },
   {
    "duration": 10,
    "start_time": "2025-10-22T16:12:46.763Z"
   },
   {
    "duration": 15,
    "start_time": "2025-10-22T16:16:55.234Z"
   },
   {
    "duration": 34,
    "start_time": "2025-10-22T16:17:05.492Z"
   },
   {
    "duration": 2,
    "start_time": "2025-10-22T16:18:49.528Z"
   },
   {
    "duration": 4,
    "start_time": "2025-10-22T16:20:36.126Z"
   },
   {
    "duration": 3,
    "start_time": "2025-10-22T16:39:16.020Z"
   },
   {
    "duration": 1401,
    "start_time": "2025-10-22T16:39:16.700Z"
   },
   {
    "duration": 13,
    "start_time": "2025-10-22T16:39:41.464Z"
   },
   {
    "duration": 3,
    "start_time": "2025-10-22T16:39:49.377Z"
   },
   {
    "duration": 19,
    "start_time": "2025-10-22T16:39:50.233Z"
   },
   {
    "duration": 9086,
    "start_time": "2025-10-22T16:40:05.395Z"
   },
   {
    "duration": 9401,
    "start_time": "2025-10-22T16:40:14.484Z"
   },
   {
    "duration": 39092,
    "start_time": "2025-10-22T16:40:23.886Z"
   },
   {
    "duration": 222,
    "start_time": "2025-10-22T16:41:02.980Z"
   },
   {
    "duration": 17,
    "start_time": "2025-10-22T16:41:03.205Z"
   },
   {
    "duration": 51,
    "start_time": "2025-10-22T16:41:03.224Z"
   },
   {
    "duration": 16,
    "start_time": "2025-10-22T16:41:03.277Z"
   },
   {
    "duration": 82,
    "start_time": "2025-10-22T16:41:03.295Z"
   },
   {
    "duration": 420,
    "start_time": "2025-10-22T16:41:03.379Z"
   },
   {
    "duration": 124,
    "start_time": "2025-10-22T16:41:03.801Z"
   },
   {
    "duration": 5666,
    "start_time": "2025-10-22T16:41:03.927Z"
   },
   {
    "duration": 107,
    "start_time": "2025-10-22T16:41:09.594Z"
   },
   {
    "duration": 43,
    "start_time": "2025-10-22T16:41:09.703Z"
   },
   {
    "duration": 230,
    "start_time": "2025-10-22T16:41:09.749Z"
   },
   {
    "duration": 218,
    "start_time": "2025-10-22T16:41:09.981Z"
   },
   {
    "duration": 15,
    "start_time": "2025-10-22T16:41:10.201Z"
   },
   {
    "duration": 36,
    "start_time": "2025-10-22T16:41:10.217Z"
   },
   {
    "duration": 5,
    "start_time": "2025-10-22T16:41:10.255Z"
   },
   {
    "duration": 77,
    "start_time": "2025-10-22T16:41:10.262Z"
   },
   {
    "duration": 45,
    "start_time": "2025-10-22T16:41:10.341Z"
   },
   {
    "duration": 67,
    "start_time": "2025-10-22T16:41:10.388Z"
   },
   {
    "duration": 18,
    "start_time": "2025-10-22T16:41:10.457Z"
   },
   {
    "duration": 426,
    "start_time": "2025-10-22T16:41:10.476Z"
   },
   {
    "duration": 11,
    "start_time": "2025-10-22T16:41:10.904Z"
   },
   {
    "duration": 14,
    "start_time": "2025-10-22T16:41:10.917Z"
   },
   {
    "duration": 340,
    "start_time": "2025-10-22T16:41:10.933Z"
   },
   {
    "duration": 7,
    "start_time": "2025-10-22T16:41:11.275Z"
   },
   {
    "duration": 296,
    "start_time": "2025-10-22T16:41:11.284Z"
   },
   {
    "duration": 18,
    "start_time": "2025-10-22T16:41:11.581Z"
   },
   {
    "duration": 21,
    "start_time": "2025-10-22T16:41:11.601Z"
   },
   {
    "duration": 92,
    "start_time": "2025-10-22T16:41:11.624Z"
   },
   {
    "duration": 4,
    "start_time": "2025-10-22T16:41:11.719Z"
   },
   {
    "duration": 258,
    "start_time": "2025-10-22T16:41:11.725Z"
   },
   {
    "duration": 80,
    "start_time": "2025-10-22T16:41:11.986Z"
   },
   {
    "duration": 134,
    "start_time": "2025-10-22T16:41:12.068Z"
   },
   {
    "duration": 45,
    "start_time": "2025-10-22T16:41:12.204Z"
   },
   {
    "duration": 343,
    "start_time": "2025-10-22T16:41:12.251Z"
   },
   {
    "duration": 11,
    "start_time": "2025-10-22T16:41:12.596Z"
   },
   {
    "duration": 25,
    "start_time": "2025-10-22T16:41:12.614Z"
   },
   {
    "duration": 4,
    "start_time": "2025-10-22T16:41:12.640Z"
   },
   {
    "duration": 12,
    "start_time": "2025-10-22T16:41:12.647Z"
   },
   {
    "duration": 98,
    "start_time": "2025-10-22T16:42:35.009Z"
   },
   {
    "duration": 21,
    "start_time": "2025-10-22T16:43:03.318Z"
   },
   {
    "duration": 3,
    "start_time": "2025-10-22T16:43:03.964Z"
   },
   {
    "duration": 12,
    "start_time": "2025-10-22T16:43:04.572Z"
   },
   {
    "duration": 3,
    "start_time": "2025-10-22T16:43:21.065Z"
   },
   {
    "duration": 12,
    "start_time": "2025-10-22T16:43:38.777Z"
   },
   {
    "duration": 10,
    "start_time": "2025-10-22T16:43:58.227Z"
   },
   {
    "duration": 9511,
    "start_time": "2025-10-22T16:44:32.686Z"
   },
   {
    "duration": 8836,
    "start_time": "2025-10-22T16:44:42.199Z"
   },
   {
    "duration": 24651,
    "start_time": "2025-10-22T16:44:51.037Z"
   },
   {
    "duration": 228,
    "start_time": "2025-10-22T16:45:15.690Z"
   },
   {
    "duration": 11,
    "start_time": "2025-10-22T16:45:15.931Z"
   },
   {
    "duration": 42,
    "start_time": "2025-10-22T16:45:15.944Z"
   },
   {
    "duration": 16,
    "start_time": "2025-10-22T16:45:15.987Z"
   },
   {
    "duration": 61,
    "start_time": "2025-10-22T16:45:16.004Z"
   },
   {
    "duration": 437,
    "start_time": "2025-10-22T16:45:16.066Z"
   },
   {
    "duration": 124,
    "start_time": "2025-10-22T16:45:16.505Z"
   },
   {
    "duration": 5908,
    "start_time": "2025-10-22T16:45:16.631Z"
   },
   {
    "duration": 115,
    "start_time": "2025-10-22T16:45:22.540Z"
   },
   {
    "duration": 40,
    "start_time": "2025-10-22T16:45:22.657Z"
   },
   {
    "duration": 239,
    "start_time": "2025-10-22T16:45:22.700Z"
   },
   {
    "duration": 221,
    "start_time": "2025-10-22T16:45:22.941Z"
   },
   {
    "duration": 5,
    "start_time": "2025-10-22T16:45:23.164Z"
   },
   {
    "duration": 61,
    "start_time": "2025-10-22T16:45:23.171Z"
   },
   {
    "duration": 5,
    "start_time": "2025-10-22T16:45:23.234Z"
   },
   {
    "duration": 45,
    "start_time": "2025-10-22T16:45:23.241Z"
   },
   {
    "duration": 65,
    "start_time": "2025-10-22T16:45:23.288Z"
   },
   {
    "duration": 74,
    "start_time": "2025-10-22T16:45:23.354Z"
   },
   {
    "duration": 18,
    "start_time": "2025-10-22T16:45:23.430Z"
   },
   {
    "duration": 436,
    "start_time": "2025-10-22T16:45:23.450Z"
   },
   {
    "duration": 8,
    "start_time": "2025-10-22T16:45:23.887Z"
   },
   {
    "duration": 35,
    "start_time": "2025-10-22T16:45:23.896Z"
   },
   {
    "duration": 336,
    "start_time": "2025-10-22T16:45:23.933Z"
   },
   {
    "duration": 8,
    "start_time": "2025-10-22T16:45:24.271Z"
   },
   {
    "duration": 300,
    "start_time": "2025-10-22T16:45:24.280Z"
   },
   {
    "duration": 18,
    "start_time": "2025-10-22T16:45:24.582Z"
   },
   {
    "duration": 14,
    "start_time": "2025-10-22T16:45:24.621Z"
   },
   {
    "duration": 91,
    "start_time": "2025-10-22T16:45:24.637Z"
   },
   {
    "duration": 3,
    "start_time": "2025-10-22T16:45:24.730Z"
   },
   {
    "duration": 243,
    "start_time": "2025-10-22T16:45:24.735Z"
   },
   {
    "duration": 88,
    "start_time": "2025-10-22T16:45:24.980Z"
   },
   {
    "duration": 165,
    "start_time": "2025-10-22T16:45:25.070Z"
   },
   {
    "duration": 41,
    "start_time": "2025-10-22T16:45:25.238Z"
   },
   {
    "duration": 344,
    "start_time": "2025-10-22T16:45:25.281Z"
   },
   {
    "duration": 12,
    "start_time": "2025-10-22T16:45:25.627Z"
   },
   {
    "duration": 33,
    "start_time": "2025-10-22T16:45:25.641Z"
   },
   {
    "duration": 3,
    "start_time": "2025-10-22T16:45:25.676Z"
   },
   {
    "duration": 44,
    "start_time": "2025-10-22T16:45:25.684Z"
   },
   {
    "duration": 13,
    "start_time": "2025-10-22T16:45:25.729Z"
   },
   {
    "duration": 10,
    "start_time": "2025-10-22T16:45:25.744Z"
   },
   {
    "duration": 22,
    "start_time": "2025-10-22T16:53:31.546Z"
   },
   {
    "duration": 23,
    "start_time": "2025-10-22T16:53:52.956Z"
   },
   {
    "duration": 20,
    "start_time": "2025-10-22T16:55:54.468Z"
   },
   {
    "duration": 23,
    "start_time": "2025-10-22T16:56:30.098Z"
   },
   {
    "duration": 123,
    "start_time": "2025-10-22T16:56:57.892Z"
   },
   {
    "duration": 96,
    "start_time": "2025-10-22T16:57:28.800Z"
   },
   {
    "duration": 119,
    "start_time": "2025-10-22T16:57:37.409Z"
   },
   {
    "duration": 21,
    "start_time": "2025-10-22T16:57:46.730Z"
   },
   {
    "duration": 10,
    "start_time": "2025-10-22T16:58:41.730Z"
   },
   {
    "duration": 4,
    "start_time": "2025-10-22T16:59:18.261Z"
   },
   {
    "duration": 4,
    "start_time": "2025-10-22T17:00:08.484Z"
   },
   {
    "duration": 4,
    "start_time": "2025-10-22T17:00:24.663Z"
   },
   {
    "duration": 4,
    "start_time": "2025-10-22T17:01:02.291Z"
   },
   {
    "duration": 4,
    "start_time": "2025-10-22T17:01:40.248Z"
   },
   {
    "duration": 5,
    "start_time": "2025-10-22T17:01:43.952Z"
   },
   {
    "duration": 4,
    "start_time": "2025-10-22T17:01:47.121Z"
   },
   {
    "duration": 4,
    "start_time": "2025-10-22T17:02:03.867Z"
   },
   {
    "duration": 4,
    "start_time": "2025-10-22T17:02:39.881Z"
   },
   {
    "duration": 4,
    "start_time": "2025-10-22T17:02:51.777Z"
   },
   {
    "duration": 4,
    "start_time": "2025-10-22T17:02:55.345Z"
   },
   {
    "duration": 4,
    "start_time": "2025-10-22T17:03:01.074Z"
   },
   {
    "duration": 5,
    "start_time": "2025-10-22T17:03:11.283Z"
   },
   {
    "duration": 4,
    "start_time": "2025-10-22T17:03:18.452Z"
   },
   {
    "duration": 3,
    "start_time": "2025-10-22T17:03:38.031Z"
   },
   {
    "duration": 4,
    "start_time": "2025-10-22T17:04:01.817Z"
   },
   {
    "duration": 4,
    "start_time": "2025-10-22T17:04:22.532Z"
   },
   {
    "duration": 4,
    "start_time": "2025-10-22T17:04:55.056Z"
   },
   {
    "duration": 9,
    "start_time": "2025-10-22T17:08:29.891Z"
   },
   {
    "duration": 119,
    "start_time": "2025-10-22T17:09:20.538Z"
   },
   {
    "duration": 130,
    "start_time": "2025-10-22T17:09:53.077Z"
   },
   {
    "duration": 5,
    "start_time": "2025-10-22T17:10:39.539Z"
   },
   {
    "duration": 10,
    "start_time": "2025-10-22T17:11:31.337Z"
   },
   {
    "duration": 264,
    "start_time": "2025-10-22T17:11:55.165Z"
   },
   {
    "duration": 5,
    "start_time": "2025-10-22T17:12:36.890Z"
   },
   {
    "duration": 11,
    "start_time": "2025-10-22T17:12:41.834Z"
   },
   {
    "duration": 4,
    "start_time": "2025-10-22T17:12:49.756Z"
   },
   {
    "duration": 5,
    "start_time": "2025-10-22T17:13:03.085Z"
   },
   {
    "duration": 11,
    "start_time": "2025-10-22T17:13:06.805Z"
   },
   {
    "duration": 4,
    "start_time": "2025-10-22T17:13:12.634Z"
   },
   {
    "duration": 137,
    "start_time": "2025-10-22T17:13:59.876Z"
   },
   {
    "duration": 8832,
    "start_time": "2025-10-22T17:17:30.286Z"
   },
   {
    "duration": 9390,
    "start_time": "2025-10-22T17:17:39.120Z"
   },
   {
    "duration": 35181,
    "start_time": "2025-10-22T17:17:48.512Z"
   },
   {
    "duration": 212,
    "start_time": "2025-10-22T17:18:23.694Z"
   },
   {
    "duration": 11,
    "start_time": "2025-10-22T17:18:23.913Z"
   },
   {
    "duration": 41,
    "start_time": "2025-10-22T17:18:23.926Z"
   },
   {
    "duration": 15,
    "start_time": "2025-10-22T17:18:23.969Z"
   },
   {
    "duration": 52,
    "start_time": "2025-10-22T17:18:23.986Z"
   },
   {
    "duration": 414,
    "start_time": "2025-10-22T17:18:24.039Z"
   },
   {
    "duration": 119,
    "start_time": "2025-10-22T17:18:24.454Z"
   },
   {
    "duration": 5469,
    "start_time": "2025-10-22T17:18:24.574Z"
   },
   {
    "duration": 111,
    "start_time": "2025-10-22T17:18:30.044Z"
   },
   {
    "duration": 39,
    "start_time": "2025-10-22T17:18:30.157Z"
   },
   {
    "duration": 235,
    "start_time": "2025-10-22T17:18:30.199Z"
   },
   {
    "duration": 242,
    "start_time": "2025-10-22T17:18:30.436Z"
   },
   {
    "duration": 5,
    "start_time": "2025-10-22T17:18:30.679Z"
   },
   {
    "duration": 36,
    "start_time": "2025-10-22T17:18:30.685Z"
   },
   {
    "duration": 5,
    "start_time": "2025-10-22T17:18:30.723Z"
   },
   {
    "duration": 45,
    "start_time": "2025-10-22T17:18:30.730Z"
   },
   {
    "duration": 57,
    "start_time": "2025-10-22T17:18:30.776Z"
   },
   {
    "duration": 55,
    "start_time": "2025-10-22T17:18:30.835Z"
   },
   {
    "duration": 82,
    "start_time": "2025-10-22T17:18:30.891Z"
   },
   {
    "duration": 381,
    "start_time": "2025-10-22T17:18:30.975Z"
   },
   {
    "duration": 7,
    "start_time": "2025-10-22T17:18:31.358Z"
   },
   {
    "duration": 39,
    "start_time": "2025-10-22T17:18:31.366Z"
   },
   {
    "duration": 303,
    "start_time": "2025-10-22T17:18:31.406Z"
   },
   {
    "duration": 7,
    "start_time": "2025-10-22T17:18:31.711Z"
   },
   {
    "duration": 290,
    "start_time": "2025-10-22T17:18:31.720Z"
   },
   {
    "duration": 17,
    "start_time": "2025-10-22T17:18:32.012Z"
   },
   {
    "duration": 16,
    "start_time": "2025-10-22T17:18:32.031Z"
   },
   {
    "duration": 100,
    "start_time": "2025-10-22T17:18:32.049Z"
   },
   {
    "duration": 3,
    "start_time": "2025-10-22T17:18:32.150Z"
   },
   {
    "duration": 242,
    "start_time": "2025-10-22T17:18:32.155Z"
   },
   {
    "duration": 83,
    "start_time": "2025-10-22T17:18:32.398Z"
   },
   {
    "duration": 134,
    "start_time": "2025-10-22T17:18:32.482Z"
   },
   {
    "duration": 40,
    "start_time": "2025-10-22T17:18:32.618Z"
   },
   {
    "duration": 323,
    "start_time": "2025-10-22T17:18:32.660Z"
   },
   {
    "duration": 10,
    "start_time": "2025-10-22T17:18:32.985Z"
   },
   {
    "duration": 43,
    "start_time": "2025-10-22T17:18:32.997Z"
   },
   {
    "duration": 2,
    "start_time": "2025-10-22T17:18:33.042Z"
   },
   {
    "duration": 25,
    "start_time": "2025-10-22T17:18:33.048Z"
   },
   {
    "duration": 30,
    "start_time": "2025-10-22T17:18:33.080Z"
   },
   {
    "duration": 12,
    "start_time": "2025-10-22T17:18:33.112Z"
   },
   {
    "duration": 21,
    "start_time": "2025-10-22T17:18:33.126Z"
   },
   {
    "duration": 12,
    "start_time": "2025-10-22T17:18:33.149Z"
   },
   {
    "duration": 15,
    "start_time": "2025-10-22T17:18:33.163Z"
   },
   {
    "duration": 18,
    "start_time": "2025-10-22T17:18:33.180Z"
   },
   {
    "duration": 9,
    "start_time": "2025-10-22T17:18:33.201Z"
   },
   {
    "duration": 127,
    "start_time": "2025-10-22T17:18:33.211Z"
   },
   {
    "duration": 6,
    "start_time": "2025-10-22T17:18:33.340Z"
   },
   {
    "duration": 9,
    "start_time": "2025-10-22T17:18:33.348Z"
   },
   {
    "duration": 244,
    "start_time": "2025-10-22T17:18:33.359Z"
   },
   {
    "duration": 13,
    "start_time": "2025-10-22T17:18:33.605Z"
   },
   {
    "duration": 9,
    "start_time": "2025-10-22T17:19:09.102Z"
   },
   {
    "duration": 123,
    "start_time": "2025-10-22T17:19:54.091Z"
   },
   {
    "duration": 6,
    "start_time": "2025-10-22T17:20:29.447Z"
   },
   {
    "duration": 5,
    "start_time": "2025-10-22T17:20:41.353Z"
   },
   {
    "duration": 9,
    "start_time": "2025-10-22T17:24:31.326Z"
   },
   {
    "duration": 10,
    "start_time": "2025-10-22T17:25:19.180Z"
   },
   {
    "duration": 10,
    "start_time": "2025-10-22T17:26:06.441Z"
   },
   {
    "duration": 5,
    "start_time": "2025-10-22T17:26:38.310Z"
   },
   {
    "duration": 5,
    "start_time": "2025-10-22T17:26:54.768Z"
   },
   {
    "duration": 6,
    "start_time": "2025-10-22T17:27:04.881Z"
   },
   {
    "duration": 10,
    "start_time": "2025-10-22T17:27:18.827Z"
   },
   {
    "duration": 9,
    "start_time": "2025-10-22T17:27:19.587Z"
   },
   {
    "duration": 5,
    "start_time": "2025-10-22T17:27:27.852Z"
   },
   {
    "duration": 9,
    "start_time": "2025-10-22T17:27:29.028Z"
   },
   {
    "duration": 9,
    "start_time": "2025-10-22T17:27:29.347Z"
   },
   {
    "duration": 5,
    "start_time": "2025-10-22T17:27:42.262Z"
   },
   {
    "duration": 10,
    "start_time": "2025-10-22T17:27:50.327Z"
   },
   {
    "duration": 4,
    "start_time": "2025-10-22T17:28:08.377Z"
   },
   {
    "duration": 113,
    "start_time": "2025-10-22T17:28:16.290Z"
   },
   {
    "duration": 12,
    "start_time": "2025-10-22T17:28:24.043Z"
   },
   {
    "duration": 10,
    "start_time": "2025-10-22T17:28:25.763Z"
   },
   {
    "duration": 5,
    "start_time": "2025-10-22T17:28:51.878Z"
   },
   {
    "duration": 12,
    "start_time": "2025-10-22T17:28:59.721Z"
   },
   {
    "duration": 11,
    "start_time": "2025-10-22T17:29:00.991Z"
   },
   {
    "duration": 10,
    "start_time": "2025-10-22T17:32:13.824Z"
   },
   {
    "duration": 8,
    "start_time": "2025-10-22T17:32:24.897Z"
   },
   {
    "duration": 10,
    "start_time": "2025-10-22T17:32:30.002Z"
   },
   {
    "duration": 8,
    "start_time": "2025-10-22T17:32:32.155Z"
   },
   {
    "duration": 4,
    "start_time": "2025-10-22T17:32:33.117Z"
   },
   {
    "duration": 199,
    "start_time": "2025-10-22T17:34:27.524Z"
   },
   {
    "duration": 198,
    "start_time": "2025-10-22T17:35:18.264Z"
   },
   {
    "duration": 197,
    "start_time": "2025-10-22T17:35:30.976Z"
   },
   {
    "duration": 9,
    "start_time": "2025-10-22T17:42:04.891Z"
   },
   {
    "duration": 9,
    "start_time": "2025-10-22T17:42:32.336Z"
   },
   {
    "duration": 9,
    "start_time": "2025-10-22T17:42:51.314Z"
   },
   {
    "duration": 29,
    "start_time": "2025-10-22T17:46:28.142Z"
   },
   {
    "duration": 1332,
    "start_time": "2025-10-22T17:48:05.267Z"
   },
   {
    "duration": 10,
    "start_time": "2025-10-22T17:48:21.389Z"
   },
   {
    "duration": 19,
    "start_time": "2025-10-22T17:49:30.614Z"
   },
   {
    "duration": 21,
    "start_time": "2025-10-22T17:49:42.327Z"
   },
   {
    "duration": 25,
    "start_time": "2025-10-22T17:50:15.876Z"
   },
   {
    "duration": 23,
    "start_time": "2025-10-22T17:50:38.239Z"
   },
   {
    "duration": 55,
    "start_time": "2025-10-24T16:29:30.952Z"
   },
   {
    "duration": 9872,
    "start_time": "2025-10-24T16:29:42.136Z"
   },
   {
    "duration": 6480,
    "start_time": "2025-10-24T16:29:52.010Z"
   },
   {
    "duration": 29136,
    "start_time": "2025-10-24T16:29:58.492Z"
   },
   {
    "duration": 177,
    "start_time": "2025-10-24T16:30:27.631Z"
   },
   {
    "duration": 19,
    "start_time": "2025-10-24T16:30:27.810Z"
   },
   {
    "duration": 46,
    "start_time": "2025-10-24T16:30:27.831Z"
   },
   {
    "duration": 15,
    "start_time": "2025-10-24T16:30:27.879Z"
   },
   {
    "duration": 45,
    "start_time": "2025-10-24T16:30:27.896Z"
   },
   {
    "duration": 331,
    "start_time": "2025-10-24T16:30:27.943Z"
   },
   {
    "duration": 98,
    "start_time": "2025-10-24T16:30:28.277Z"
   },
   {
    "duration": 5517,
    "start_time": "2025-10-24T16:30:28.377Z"
   },
   {
    "duration": 87,
    "start_time": "2025-10-24T16:30:33.896Z"
   },
   {
    "duration": 43,
    "start_time": "2025-10-24T16:30:33.985Z"
   },
   {
    "duration": 168,
    "start_time": "2025-10-24T16:30:34.030Z"
   },
   {
    "duration": 175,
    "start_time": "2025-10-24T16:30:34.200Z"
   },
   {
    "duration": 5,
    "start_time": "2025-10-24T16:30:34.377Z"
   },
   {
    "duration": 50,
    "start_time": "2025-10-24T16:30:34.383Z"
   },
   {
    "duration": 6,
    "start_time": "2025-10-24T16:30:34.435Z"
   },
   {
    "duration": 38,
    "start_time": "2025-10-24T16:30:34.443Z"
   },
   {
    "duration": 54,
    "start_time": "2025-10-24T16:30:34.482Z"
   },
   {
    "duration": 61,
    "start_time": "2025-10-24T16:30:34.538Z"
   },
   {
    "duration": 18,
    "start_time": "2025-10-24T16:30:34.601Z"
   },
   {
    "duration": 398,
    "start_time": "2025-10-24T16:30:34.620Z"
   },
   {
    "duration": 8,
    "start_time": "2025-10-24T16:30:35.027Z"
   },
   {
    "duration": 63,
    "start_time": "2025-10-24T16:30:35.037Z"
   },
   {
    "duration": 372,
    "start_time": "2025-10-24T16:30:35.102Z"
   },
   {
    "duration": 7,
    "start_time": "2025-10-24T16:30:35.475Z"
   },
   {
    "duration": 236,
    "start_time": "2025-10-24T16:30:35.485Z"
   },
   {
    "duration": 21,
    "start_time": "2025-10-24T16:30:35.723Z"
   },
   {
    "duration": 13,
    "start_time": "2025-10-24T16:30:35.745Z"
   },
   {
    "duration": 81,
    "start_time": "2025-10-24T16:30:35.760Z"
   },
   {
    "duration": 4,
    "start_time": "2025-10-24T16:30:35.842Z"
   },
   {
    "duration": 200,
    "start_time": "2025-10-24T16:30:35.847Z"
   },
   {
    "duration": 80,
    "start_time": "2025-10-24T16:30:36.048Z"
   },
   {
    "duration": 118,
    "start_time": "2025-10-24T16:30:36.130Z"
   },
   {
    "duration": 32,
    "start_time": "2025-10-24T16:30:36.250Z"
   },
   {
    "duration": 268,
    "start_time": "2025-10-24T16:30:36.284Z"
   },
   {
    "duration": 10,
    "start_time": "2025-10-24T16:30:36.553Z"
   },
   {
    "duration": 24,
    "start_time": "2025-10-24T16:30:36.564Z"
   },
   {
    "duration": 2,
    "start_time": "2025-10-24T16:30:36.590Z"
   },
   {
    "duration": 34,
    "start_time": "2025-10-24T16:30:36.594Z"
   },
   {
    "duration": 12,
    "start_time": "2025-10-24T16:30:36.630Z"
   },
   {
    "duration": 14,
    "start_time": "2025-10-24T16:30:36.644Z"
   },
   {
    "duration": 19,
    "start_time": "2025-10-24T16:30:36.659Z"
   },
   {
    "duration": 4,
    "start_time": "2025-10-24T16:30:36.680Z"
   },
   {
    "duration": 10,
    "start_time": "2025-10-24T16:30:36.685Z"
   },
   {
    "duration": 10,
    "start_time": "2025-10-24T16:30:36.697Z"
   },
   {
    "duration": 8,
    "start_time": "2025-10-24T16:30:36.727Z"
   },
   {
    "duration": 26,
    "start_time": "2025-10-24T16:30:36.736Z"
   },
   {
    "duration": 138,
    "start_time": "2025-10-24T16:30:36.763Z"
   },
   {
    "duration": 4,
    "start_time": "2025-10-24T16:30:36.903Z"
   },
   {
    "duration": 151,
    "start_time": "2025-10-24T16:30:36.909Z"
   },
   {
    "duration": 5,
    "start_time": "2025-10-24T16:30:37.062Z"
   },
   {
    "duration": 141,
    "start_time": "2025-10-24T16:30:37.069Z"
   },
   {
    "duration": 247,
    "start_time": "2025-10-24T16:30:37.212Z"
   },
   {
    "duration": 4,
    "start_time": "2025-10-24T16:30:37.461Z"
   },
   {
    "duration": 11,
    "start_time": "2025-10-24T16:30:37.467Z"
   },
   {
    "duration": 9,
    "start_time": "2025-10-24T16:30:37.480Z"
   },
   {
    "duration": 9,
    "start_time": "2025-10-24T16:30:37.490Z"
   },
   {
    "duration": 42,
    "start_time": "2025-10-24T16:30:37.501Z"
   },
   {
    "duration": 153,
    "start_time": "2025-10-24T16:30:37.545Z"
   },
   {
    "duration": 1109,
    "start_time": "2025-10-24T16:33:07.418Z"
   },
   {
    "duration": 1082,
    "start_time": "2025-10-24T16:33:19.116Z"
   },
   {
    "duration": 21,
    "start_time": "2025-10-24T16:33:34.438Z"
   },
   {
    "duration": 14,
    "start_time": "2025-10-24T16:33:54.384Z"
   },
   {
    "duration": 15,
    "start_time": "2025-10-24T16:33:59.961Z"
   },
   {
    "duration": 16,
    "start_time": "2025-10-24T16:34:55.999Z"
   },
   {
    "duration": 12,
    "start_time": "2025-10-24T16:35:23.627Z"
   },
   {
    "duration": 134,
    "start_time": "2025-10-24T16:35:28.276Z"
   },
   {
    "duration": 11,
    "start_time": "2025-10-24T16:35:52.710Z"
   },
   {
    "duration": 12,
    "start_time": "2025-10-24T16:36:13.953Z"
   },
   {
    "duration": 125,
    "start_time": "2025-10-24T16:36:21.451Z"
   },
   {
    "duration": 12,
    "start_time": "2025-10-24T16:36:44.566Z"
   },
   {
    "duration": 4,
    "start_time": "2025-10-24T16:36:54.151Z"
   },
   {
    "duration": 11,
    "start_time": "2025-10-24T16:37:27.811Z"
   },
   {
    "duration": 130,
    "start_time": "2025-10-24T16:37:56.344Z"
   },
   {
    "duration": 136,
    "start_time": "2025-10-24T16:38:11.161Z"
   },
   {
    "duration": 16,
    "start_time": "2025-10-24T16:39:08.120Z"
   },
   {
    "duration": 19,
    "start_time": "2025-10-24T16:40:01.919Z"
   },
   {
    "duration": 16,
    "start_time": "2025-10-24T16:40:19.360Z"
   },
   {
    "duration": 120,
    "start_time": "2025-10-24T16:40:48.572Z"
   },
   {
    "duration": 124,
    "start_time": "2025-10-24T16:41:03.143Z"
   },
   {
    "duration": 207,
    "start_time": "2025-10-24T16:41:07.703Z"
   },
   {
    "duration": 132,
    "start_time": "2025-10-24T16:41:29.602Z"
   },
   {
    "duration": 121,
    "start_time": "2025-10-24T16:42:10.432Z"
   },
   {
    "duration": 106,
    "start_time": "2025-10-24T16:42:49.396Z"
   },
   {
    "duration": 104,
    "start_time": "2025-10-24T16:42:58.598Z"
   },
   {
    "duration": 21,
    "start_time": "2025-10-24T16:43:50.844Z"
   },
   {
    "duration": 1651,
    "start_time": "2025-10-24T16:45:07.526Z"
   },
   {
    "duration": 1775,
    "start_time": "2025-10-24T16:45:14.574Z"
   },
   {
    "duration": 1828,
    "start_time": "2025-10-24T16:45:23.887Z"
   },
   {
    "duration": 1744,
    "start_time": "2025-10-24T16:45:34.169Z"
   },
   {
    "duration": 1804,
    "start_time": "2025-10-24T16:45:55.716Z"
   },
   {
    "duration": 1840,
    "start_time": "2025-10-24T16:46:04.765Z"
   },
   {
    "duration": 1744,
    "start_time": "2025-10-24T16:47:27.840Z"
   },
   {
    "duration": 25,
    "start_time": "2025-10-24T16:48:59.779Z"
   },
   {
    "duration": 348,
    "start_time": "2025-10-24T16:49:55.338Z"
   },
   {
    "duration": 343,
    "start_time": "2025-10-24T16:50:02.507Z"
   },
   {
    "duration": 339,
    "start_time": "2025-10-24T16:50:14.092Z"
   },
   {
    "duration": 342,
    "start_time": "2025-10-24T16:50:19.989Z"
   },
   {
    "duration": 450,
    "start_time": "2025-10-24T16:51:06.004Z"
   },
   {
    "duration": 9,
    "start_time": "2025-10-24T17:06:16.155Z"
   },
   {
    "duration": 11,
    "start_time": "2025-10-24T17:06:24.206Z"
   },
   {
    "duration": 14,
    "start_time": "2025-10-24T17:06:27.103Z"
   },
   {
    "duration": 17,
    "start_time": "2025-10-24T17:07:15.293Z"
   },
   {
    "duration": 15,
    "start_time": "2025-10-24T17:07:36.984Z"
   },
   {
    "duration": 16,
    "start_time": "2025-10-24T17:07:58.898Z"
   },
   {
    "duration": 9,
    "start_time": "2025-10-24T17:08:35.640Z"
   },
   {
    "duration": 10,
    "start_time": "2025-10-24T17:08:39.936Z"
   },
   {
    "duration": 11,
    "start_time": "2025-10-24T17:08:44.129Z"
   },
   {
    "duration": 11,
    "start_time": "2025-10-24T17:08:49.201Z"
   },
   {
    "duration": 113,
    "start_time": "2025-10-24T17:09:49.945Z"
   },
   {
    "duration": 136,
    "start_time": "2025-10-24T17:10:59.386Z"
   },
   {
    "duration": 210,
    "start_time": "2025-10-24T17:12:27.838Z"
   },
   {
    "duration": 206,
    "start_time": "2025-10-24T17:12:41.359Z"
   },
   {
    "duration": 214,
    "start_time": "2025-10-24T17:12:52.985Z"
   },
   {
    "duration": 196,
    "start_time": "2025-10-24T17:13:03.938Z"
   },
   {
    "duration": 173,
    "start_time": "2025-10-24T17:13:09.642Z"
   },
   {
    "duration": 171,
    "start_time": "2025-10-24T17:14:13.050Z"
   },
   {
    "duration": 161,
    "start_time": "2025-10-24T17:14:55.944Z"
   },
   {
    "duration": 272,
    "start_time": "2025-10-24T17:15:07.217Z"
   },
   {
    "duration": 4,
    "start_time": "2025-10-24T17:16:04.720Z"
   },
   {
    "duration": 13,
    "start_time": "2025-10-24T17:16:28.356Z"
   },
   {
    "duration": 13,
    "start_time": "2025-10-24T17:16:47.717Z"
   },
   {
    "duration": 15,
    "start_time": "2025-10-24T17:17:09.649Z"
   },
   {
    "duration": 16,
    "start_time": "2025-10-24T17:17:50.990Z"
   },
   {
    "duration": 166,
    "start_time": "2025-10-24T17:19:08.256Z"
   },
   {
    "duration": 18,
    "start_time": "2025-10-24T17:34:39.589Z"
   },
   {
    "duration": 10,
    "start_time": "2025-10-24T17:35:27.587Z"
   },
   {
    "duration": 10,
    "start_time": "2025-10-24T17:35:36.141Z"
   },
   {
    "duration": 4,
    "start_time": "2025-10-24T17:35:38.381Z"
   },
   {
    "duration": 18,
    "start_time": "2025-10-24T17:35:44.598Z"
   },
   {
    "duration": 19,
    "start_time": "2025-10-24T17:36:27.836Z"
   },
   {
    "duration": 25,
    "start_time": "2025-10-24T17:37:01.792Z"
   },
   {
    "duration": 21,
    "start_time": "2025-10-24T17:38:11.816Z"
   },
   {
    "duration": 143,
    "start_time": "2025-10-24T17:38:33.180Z"
   },
   {
    "duration": 122,
    "start_time": "2025-10-24T17:38:39.140Z"
   },
   {
    "duration": 172,
    "start_time": "2025-10-24T17:38:44.452Z"
   },
   {
    "duration": 178,
    "start_time": "2025-10-24T17:38:47.533Z"
   },
   {
    "duration": 165,
    "start_time": "2025-10-24T17:39:00.991Z"
   },
   {
    "duration": 22,
    "start_time": "2025-10-24T17:40:20.721Z"
   },
   {
    "duration": 24,
    "start_time": "2025-10-24T17:40:35.026Z"
   },
   {
    "duration": 21,
    "start_time": "2025-10-24T17:40:48.077Z"
   },
   {
    "duration": 18,
    "start_time": "2025-10-24T17:40:57.822Z"
   },
   {
    "duration": 19,
    "start_time": "2025-10-24T17:41:02.710Z"
   },
   {
    "duration": 137,
    "start_time": "2025-10-24T17:41:12.151Z"
   },
   {
    "duration": 137,
    "start_time": "2025-10-24T17:41:17.416Z"
   },
   {
    "duration": 171,
    "start_time": "2025-10-24T17:41:23.273Z"
   },
   {
    "duration": 173,
    "start_time": "2025-10-24T17:41:31.066Z"
   },
   {
    "duration": 174,
    "start_time": "2025-10-24T17:41:36.322Z"
   },
   {
    "duration": 11,
    "start_time": "2025-10-24T17:48:32.711Z"
   },
   {
    "duration": 11,
    "start_time": "2025-10-24T17:48:48.041Z"
   },
   {
    "duration": 15,
    "start_time": "2025-10-24T17:48:56.241Z"
   },
   {
    "duration": 14,
    "start_time": "2025-10-24T17:49:03.075Z"
   },
   {
    "duration": 4,
    "start_time": "2025-10-24T17:49:06.964Z"
   },
   {
    "duration": 3,
    "start_time": "2025-10-24T17:49:19.614Z"
   },
   {
    "duration": 14,
    "start_time": "2025-10-24T17:49:25.454Z"
   },
   {
    "duration": 642,
    "start_time": "2025-10-24T18:03:19.927Z"
   },
   {
    "duration": 15,
    "start_time": "2025-10-24T18:03:42.442Z"
   },
   {
    "duration": 353,
    "start_time": "2025-10-24T18:03:53.500Z"
   },
   {
    "duration": 1041,
    "start_time": "2025-10-24T18:10:28.485Z"
   },
   {
    "duration": 23,
    "start_time": "2025-10-24T18:10:48.928Z"
   },
   {
    "duration": 9,
    "start_time": "2025-10-24T18:11:26.245Z"
   },
   {
    "duration": 10,
    "start_time": "2025-10-24T18:11:44.103Z"
   },
   {
    "duration": 9,
    "start_time": "2025-10-24T18:12:01.482Z"
   },
   {
    "duration": 12,
    "start_time": "2025-10-24T18:13:23.453Z"
   },
   {
    "duration": 8770,
    "start_time": "2025-10-24T18:13:43.022Z"
   },
   {
    "duration": 6659,
    "start_time": "2025-10-24T18:13:51.794Z"
   },
   {
    "duration": 17773,
    "start_time": "2025-10-24T18:13:58.455Z"
   },
   {
    "duration": 182,
    "start_time": "2025-10-24T18:14:16.230Z"
   },
   {
    "duration": 19,
    "start_time": "2025-10-24T18:14:16.414Z"
   },
   {
    "duration": 47,
    "start_time": "2025-10-24T18:14:16.434Z"
   },
   {
    "duration": 16,
    "start_time": "2025-10-24T18:14:16.483Z"
   },
   {
    "duration": 47,
    "start_time": "2025-10-24T18:14:16.500Z"
   },
   {
    "duration": 374,
    "start_time": "2025-10-24T18:14:16.548Z"
   },
   {
    "duration": 102,
    "start_time": "2025-10-24T18:14:16.927Z"
   },
   {
    "duration": 5478,
    "start_time": "2025-10-24T18:14:17.030Z"
   },
   {
    "duration": 90,
    "start_time": "2025-10-24T18:14:22.510Z"
   },
   {
    "duration": 35,
    "start_time": "2025-10-24T18:14:22.602Z"
   },
   {
    "duration": 173,
    "start_time": "2025-10-24T18:14:22.640Z"
   },
   {
    "duration": 185,
    "start_time": "2025-10-24T18:14:22.815Z"
   },
   {
    "duration": 6,
    "start_time": "2025-10-24T18:14:23.002Z"
   },
   {
    "duration": 46,
    "start_time": "2025-10-24T18:14:23.009Z"
   },
   {
    "duration": 5,
    "start_time": "2025-10-24T18:14:23.057Z"
   },
   {
    "duration": 35,
    "start_time": "2025-10-24T18:14:23.063Z"
   },
   {
    "duration": 56,
    "start_time": "2025-10-24T18:14:23.100Z"
   },
   {
    "duration": 47,
    "start_time": "2025-10-24T18:14:23.158Z"
   },
   {
    "duration": 33,
    "start_time": "2025-10-24T18:14:23.206Z"
   },
   {
    "duration": 380,
    "start_time": "2025-10-24T18:14:23.241Z"
   },
   {
    "duration": 11,
    "start_time": "2025-10-24T18:14:23.622Z"
   },
   {
    "duration": 13,
    "start_time": "2025-10-24T18:14:23.635Z"
   },
   {
    "duration": 317,
    "start_time": "2025-10-24T18:14:23.649Z"
   },
   {
    "duration": 7,
    "start_time": "2025-10-24T18:14:23.968Z"
   },
   {
    "duration": 243,
    "start_time": "2025-10-24T18:14:23.976Z"
   },
   {
    "duration": 22,
    "start_time": "2025-10-24T18:14:24.220Z"
   },
   {
    "duration": 12,
    "start_time": "2025-10-24T18:14:24.243Z"
   },
   {
    "duration": 79,
    "start_time": "2025-10-24T18:14:24.256Z"
   },
   {
    "duration": 3,
    "start_time": "2025-10-24T18:14:24.337Z"
   },
   {
    "duration": 206,
    "start_time": "2025-10-24T18:14:24.342Z"
   },
   {
    "duration": 82,
    "start_time": "2025-10-24T18:14:24.549Z"
   },
   {
    "duration": 122,
    "start_time": "2025-10-24T18:14:24.632Z"
   },
   {
    "duration": 33,
    "start_time": "2025-10-24T18:14:24.755Z"
   },
   {
    "duration": 267,
    "start_time": "2025-10-24T18:14:24.790Z"
   },
   {
    "duration": 9,
    "start_time": "2025-10-24T18:14:25.059Z"
   },
   {
    "duration": 21,
    "start_time": "2025-10-24T18:14:25.070Z"
   },
   {
    "duration": 2,
    "start_time": "2025-10-24T18:14:25.093Z"
   },
   {
    "duration": 32,
    "start_time": "2025-10-24T18:14:25.099Z"
   },
   {
    "duration": 12,
    "start_time": "2025-10-24T18:14:25.132Z"
   },
   {
    "duration": 9,
    "start_time": "2025-10-24T18:14:25.145Z"
   },
   {
    "duration": 20,
    "start_time": "2025-10-24T18:14:25.156Z"
   },
   {
    "duration": 3,
    "start_time": "2025-10-24T18:14:25.178Z"
   },
   {
    "duration": 3,
    "start_time": "2025-10-24T18:14:25.183Z"
   },
   {
    "duration": 40,
    "start_time": "2025-10-24T18:14:25.188Z"
   },
   {
    "duration": 8,
    "start_time": "2025-10-24T18:14:25.230Z"
   },
   {
    "duration": 24,
    "start_time": "2025-10-24T18:14:25.240Z"
   },
   {
    "duration": 146,
    "start_time": "2025-10-24T18:14:25.266Z"
   },
   {
    "duration": 5,
    "start_time": "2025-10-24T18:14:25.414Z"
   },
   {
    "duration": 228,
    "start_time": "2025-10-24T18:14:25.421Z"
   },
   {
    "duration": 5,
    "start_time": "2025-10-24T18:14:25.651Z"
   },
   {
    "duration": 137,
    "start_time": "2025-10-24T18:14:25.658Z"
   },
   {
    "duration": 210,
    "start_time": "2025-10-24T18:14:25.797Z"
   },
   {
    "duration": 6,
    "start_time": "2025-10-24T18:14:26.009Z"
   },
   {
    "duration": 18,
    "start_time": "2025-10-24T18:14:26.016Z"
   },
   {
    "duration": 7,
    "start_time": "2025-10-24T18:14:26.036Z"
   },
   {
    "duration": 4,
    "start_time": "2025-10-24T18:14:26.045Z"
   },
   {
    "duration": 25,
    "start_time": "2025-10-24T18:14:26.050Z"
   },
   {
    "duration": 20,
    "start_time": "2025-10-24T18:14:26.077Z"
   },
   {
    "duration": 142,
    "start_time": "2025-10-24T18:14:26.129Z"
   },
   {
    "duration": 135,
    "start_time": "2025-10-24T18:14:26.273Z"
   },
   {
    "duration": 28,
    "start_time": "2025-10-24T18:14:26.410Z"
   },
   {
    "duration": 132,
    "start_time": "2025-10-24T18:14:26.440Z"
   },
   {
    "duration": 109,
    "start_time": "2025-10-24T18:14:26.574Z"
   },
   {
    "duration": 23,
    "start_time": "2025-10-24T18:14:26.685Z"
   },
   {
    "duration": 1839,
    "start_time": "2025-10-24T18:14:26.710Z"
   },
   {
    "duration": 1912,
    "start_time": "2025-10-24T18:14:28.551Z"
   },
   {
    "duration": 27,
    "start_time": "2025-10-24T18:14:30.465Z"
   },
   {
    "duration": 403,
    "start_time": "2025-10-24T18:14:30.494Z"
   },
   {
    "duration": 360,
    "start_time": "2025-10-24T18:14:30.899Z"
   },
   {
    "duration": 10,
    "start_time": "2025-10-24T18:14:31.261Z"
   },
   {
    "duration": 12,
    "start_time": "2025-10-24T18:14:31.272Z"
   },
   {
    "duration": 41,
    "start_time": "2025-10-24T18:14:31.286Z"
   },
   {
    "duration": 33,
    "start_time": "2025-10-24T18:14:31.329Z"
   },
   {
    "duration": 42,
    "start_time": "2025-10-24T18:14:31.364Z"
   },
   {
    "duration": 52,
    "start_time": "2025-10-24T18:14:31.407Z"
   },
   {
    "duration": 160,
    "start_time": "2025-10-24T18:14:31.460Z"
   },
   {
    "duration": 124,
    "start_time": "2025-10-24T18:14:31.621Z"
   },
   {
    "duration": 123,
    "start_time": "2025-10-24T18:14:31.747Z"
   },
   {
    "duration": 0,
    "start_time": "2025-10-24T18:14:31.873Z"
   },
   {
    "duration": 0,
    "start_time": "2025-10-24T18:14:31.874Z"
   },
   {
    "duration": 0,
    "start_time": "2025-10-24T18:14:31.875Z"
   },
   {
    "duration": 0,
    "start_time": "2025-10-24T18:14:31.877Z"
   },
   {
    "duration": 0,
    "start_time": "2025-10-24T18:14:31.879Z"
   },
   {
    "duration": 0,
    "start_time": "2025-10-24T18:14:31.881Z"
   },
   {
    "duration": 172,
    "start_time": "2025-10-24T18:15:27.433Z"
   },
   {
    "duration": 174,
    "start_time": "2025-10-24T18:15:42.003Z"
   },
   {
    "duration": 24,
    "start_time": "2025-10-24T18:16:27.408Z"
   },
   {
    "duration": 295,
    "start_time": "2025-10-24T18:19:55.371Z"
   },
   {
    "duration": 207,
    "start_time": "2025-10-24T18:20:30.255Z"
   },
   {
    "duration": 169,
    "start_time": "2025-10-24T18:21:43.336Z"
   },
   {
    "duration": 13,
    "start_time": "2025-10-24T18:23:28.518Z"
   },
   {
    "duration": 176,
    "start_time": "2025-10-24T18:23:32.342Z"
   },
   {
    "duration": 117,
    "start_time": "2025-10-24T18:27:25.020Z"
   },
   {
    "duration": 112,
    "start_time": "2025-10-24T18:27:36.037Z"
   },
   {
    "duration": 11,
    "start_time": "2025-10-24T18:27:38.853Z"
   },
   {
    "duration": 8966,
    "start_time": "2025-10-24T18:28:30.124Z"
   },
   {
    "duration": 7095,
    "start_time": "2025-10-24T18:28:39.092Z"
   },
   {
    "duration": 14222,
    "start_time": "2025-10-24T18:28:46.188Z"
   },
   {
    "duration": 201,
    "start_time": "2025-10-24T18:29:00.412Z"
   },
   {
    "duration": 16,
    "start_time": "2025-10-24T18:29:00.615Z"
   },
   {
    "duration": 59,
    "start_time": "2025-10-24T18:29:00.633Z"
   },
   {
    "duration": 17,
    "start_time": "2025-10-24T18:29:00.694Z"
   },
   {
    "duration": 64,
    "start_time": "2025-10-24T18:29:00.713Z"
   },
   {
    "duration": 381,
    "start_time": "2025-10-24T18:29:00.779Z"
   },
   {
    "duration": 109,
    "start_time": "2025-10-24T18:29:01.162Z"
   },
   {
    "duration": 5428,
    "start_time": "2025-10-24T18:29:01.273Z"
   },
   {
    "duration": 96,
    "start_time": "2025-10-24T18:29:06.702Z"
   },
   {
    "duration": 40,
    "start_time": "2025-10-24T18:29:06.800Z"
   },
   {
    "duration": 186,
    "start_time": "2025-10-24T18:29:06.843Z"
   },
   {
    "duration": 182,
    "start_time": "2025-10-24T18:29:07.030Z"
   },
   {
    "duration": 15,
    "start_time": "2025-10-24T18:29:07.214Z"
   },
   {
    "duration": 34,
    "start_time": "2025-10-24T18:29:07.230Z"
   },
   {
    "duration": 5,
    "start_time": "2025-10-24T18:29:07.266Z"
   },
   {
    "duration": 72,
    "start_time": "2025-10-24T18:29:07.274Z"
   },
   {
    "duration": 44,
    "start_time": "2025-10-24T18:29:07.348Z"
   },
   {
    "duration": 61,
    "start_time": "2025-10-24T18:29:07.394Z"
   },
   {
    "duration": 19,
    "start_time": "2025-10-24T18:29:07.456Z"
   },
   {
    "duration": 394,
    "start_time": "2025-10-24T18:29:07.476Z"
   },
   {
    "duration": 7,
    "start_time": "2025-10-24T18:29:07.872Z"
   },
   {
    "duration": 12,
    "start_time": "2025-10-24T18:29:07.881Z"
   },
   {
    "duration": 326,
    "start_time": "2025-10-24T18:29:07.895Z"
   },
   {
    "duration": 10,
    "start_time": "2025-10-24T18:29:08.222Z"
   },
   {
    "duration": 248,
    "start_time": "2025-10-24T18:29:08.234Z"
   },
   {
    "duration": 18,
    "start_time": "2025-10-24T18:29:08.484Z"
   },
   {
    "duration": 30,
    "start_time": "2025-10-24T18:29:08.503Z"
   },
   {
    "duration": 46,
    "start_time": "2025-10-24T18:29:08.534Z"
   },
   {
    "duration": 4,
    "start_time": "2025-10-24T18:29:08.582Z"
   },
   {
    "duration": 222,
    "start_time": "2025-10-24T18:29:08.588Z"
   },
   {
    "duration": 81,
    "start_time": "2025-10-24T18:29:08.812Z"
   },
   {
    "duration": 125,
    "start_time": "2025-10-24T18:29:08.895Z"
   },
   {
    "duration": 35,
    "start_time": "2025-10-24T18:29:09.022Z"
   },
   {
    "duration": 283,
    "start_time": "2025-10-24T18:29:09.059Z"
   },
   {
    "duration": 10,
    "start_time": "2025-10-24T18:29:09.343Z"
   },
   {
    "duration": 25,
    "start_time": "2025-10-24T18:29:09.354Z"
   },
   {
    "duration": 3,
    "start_time": "2025-10-24T18:29:09.380Z"
   },
   {
    "duration": 11,
    "start_time": "2025-10-24T18:29:09.388Z"
   },
   {
    "duration": 13,
    "start_time": "2025-10-24T18:29:09.427Z"
   },
   {
    "duration": 10,
    "start_time": "2025-10-24T18:29:09.441Z"
   },
   {
    "duration": 21,
    "start_time": "2025-10-24T18:29:09.453Z"
   },
   {
    "duration": 5,
    "start_time": "2025-10-24T18:29:09.476Z"
   },
   {
    "duration": 6,
    "start_time": "2025-10-24T18:29:09.483Z"
   },
   {
    "duration": 6,
    "start_time": "2025-10-24T18:29:09.490Z"
   },
   {
    "duration": 7,
    "start_time": "2025-10-24T18:29:09.529Z"
   },
   {
    "duration": 26,
    "start_time": "2025-10-24T18:29:09.538Z"
   },
   {
    "duration": 143,
    "start_time": "2025-10-24T18:29:09.566Z"
   },
   {
    "duration": 5,
    "start_time": "2025-10-24T18:29:09.710Z"
   },
   {
    "duration": 225,
    "start_time": "2025-10-24T18:29:09.716Z"
   },
   {
    "duration": 5,
    "start_time": "2025-10-24T18:29:09.943Z"
   },
   {
    "duration": 147,
    "start_time": "2025-10-24T18:29:09.949Z"
   },
   {
    "duration": 218,
    "start_time": "2025-10-24T18:29:10.097Z"
   },
   {
    "duration": 11,
    "start_time": "2025-10-24T18:29:10.317Z"
   },
   {
    "duration": 9,
    "start_time": "2025-10-24T18:29:10.330Z"
   },
   {
    "duration": 7,
    "start_time": "2025-10-24T18:29:10.341Z"
   },
   {
    "duration": 11,
    "start_time": "2025-10-24T18:29:10.350Z"
   },
   {
    "duration": 25,
    "start_time": "2025-10-24T18:29:10.363Z"
   },
   {
    "duration": 47,
    "start_time": "2025-10-24T18:29:10.389Z"
   },
   {
    "duration": 158,
    "start_time": "2025-10-24T18:29:10.438Z"
   },
   {
    "duration": 138,
    "start_time": "2025-10-24T18:29:10.597Z"
   },
   {
    "duration": 18,
    "start_time": "2025-10-24T18:29:10.736Z"
   },
   {
    "duration": 137,
    "start_time": "2025-10-24T18:29:10.756Z"
   },
   {
    "duration": 118,
    "start_time": "2025-10-24T18:29:10.895Z"
   },
   {
    "duration": 28,
    "start_time": "2025-10-24T18:29:11.015Z"
   },
   {
    "duration": 1804,
    "start_time": "2025-10-24T18:29:11.045Z"
   },
   {
    "duration": 1854,
    "start_time": "2025-10-24T18:29:12.850Z"
   },
   {
    "duration": 37,
    "start_time": "2025-10-24T18:29:14.706Z"
   },
   {
    "duration": 364,
    "start_time": "2025-10-24T18:29:14.745Z"
   },
   {
    "duration": 387,
    "start_time": "2025-10-24T18:29:15.111Z"
   },
   {
    "duration": 12,
    "start_time": "2025-10-24T18:29:15.499Z"
   },
   {
    "duration": 18,
    "start_time": "2025-10-24T18:29:15.513Z"
   },
   {
    "duration": 30,
    "start_time": "2025-10-24T18:29:15.533Z"
   },
   {
    "duration": 27,
    "start_time": "2025-10-24T18:29:15.564Z"
   },
   {
    "duration": 53,
    "start_time": "2025-10-24T18:29:15.592Z"
   },
   {
    "duration": 29,
    "start_time": "2025-10-24T18:29:15.647Z"
   },
   {
    "duration": 166,
    "start_time": "2025-10-24T18:29:15.678Z"
   },
   {
    "duration": 133,
    "start_time": "2025-10-24T18:29:15.845Z"
   },
   {
    "duration": 181,
    "start_time": "2025-10-24T18:29:15.980Z"
   },
   {
    "duration": 178,
    "start_time": "2025-10-24T18:29:16.163Z"
   },
   {
    "duration": 8,
    "start_time": "2025-10-24T18:29:16.343Z"
   },
   {
    "duration": 11,
    "start_time": "2025-10-24T18:29:16.353Z"
   },
   {
    "duration": 10,
    "start_time": "2025-10-24T18:29:16.365Z"
   },
   {
    "duration": 15,
    "start_time": "2025-10-24T18:29:16.376Z"
   },
   {
    "duration": 190,
    "start_time": "2025-10-24T18:29:16.392Z"
   },
   {
    "duration": 47,
    "start_time": "2025-10-25T07:24:08.282Z"
   },
   {
    "duration": 9490,
    "start_time": "2025-10-25T07:24:19.068Z"
   },
   {
    "duration": 9217,
    "start_time": "2025-10-25T07:24:28.560Z"
   },
   {
    "duration": 4634,
    "start_time": "2025-10-25T07:24:37.779Z"
   },
   {
    "duration": 217,
    "start_time": "2025-10-25T07:24:42.415Z"
   },
   {
    "duration": 9,
    "start_time": "2025-10-25T07:24:42.634Z"
   },
   {
    "duration": 61,
    "start_time": "2025-10-25T07:24:42.645Z"
   },
   {
    "duration": 14,
    "start_time": "2025-10-25T07:24:42.707Z"
   },
   {
    "duration": 50,
    "start_time": "2025-10-25T07:24:42.722Z"
   },
   {
    "duration": 379,
    "start_time": "2025-10-25T07:24:42.773Z"
   },
   {
    "duration": 110,
    "start_time": "2025-10-25T07:24:43.155Z"
   },
   {
    "duration": 5425,
    "start_time": "2025-10-25T07:24:43.267Z"
   },
   {
    "duration": 95,
    "start_time": "2025-10-25T07:24:48.693Z"
   },
   {
    "duration": 38,
    "start_time": "2025-10-25T07:24:48.790Z"
   },
   {
    "duration": 240,
    "start_time": "2025-10-25T07:24:48.830Z"
   },
   {
    "duration": 205,
    "start_time": "2025-10-25T07:24:49.072Z"
   },
   {
    "duration": 5,
    "start_time": "2025-10-25T07:24:49.278Z"
   },
   {
    "duration": 45,
    "start_time": "2025-10-25T07:24:49.284Z"
   },
   {
    "duration": 4,
    "start_time": "2025-10-25T07:24:49.331Z"
   },
   {
    "duration": 49,
    "start_time": "2025-10-25T07:24:49.337Z"
   },
   {
    "duration": 50,
    "start_time": "2025-10-25T07:24:49.388Z"
   },
   {
    "duration": 80,
    "start_time": "2025-10-25T07:24:49.439Z"
   },
   {
    "duration": 17,
    "start_time": "2025-10-25T07:24:49.520Z"
   },
   {
    "duration": 359,
    "start_time": "2025-10-25T07:24:49.539Z"
   },
   {
    "duration": 9,
    "start_time": "2025-10-25T07:24:49.900Z"
   },
   {
    "duration": 16,
    "start_time": "2025-10-25T07:24:49.911Z"
   },
   {
    "duration": 384,
    "start_time": "2025-10-25T07:24:49.929Z"
   },
   {
    "duration": 7,
    "start_time": "2025-10-25T07:24:50.315Z"
   },
   {
    "duration": 293,
    "start_time": "2025-10-25T07:24:50.325Z"
   },
   {
    "duration": 16,
    "start_time": "2025-10-25T07:24:50.620Z"
   },
   {
    "duration": 12,
    "start_time": "2025-10-25T07:24:50.638Z"
   },
   {
    "duration": 96,
    "start_time": "2025-10-25T07:24:50.651Z"
   },
   {
    "duration": 3,
    "start_time": "2025-10-25T07:24:50.749Z"
   },
   {
    "duration": 347,
    "start_time": "2025-10-25T07:24:50.754Z"
   },
   {
    "duration": 76,
    "start_time": "2025-10-25T07:24:51.105Z"
   },
   {
    "duration": 142,
    "start_time": "2025-10-25T07:24:51.183Z"
   },
   {
    "duration": 38,
    "start_time": "2025-10-25T07:24:51.326Z"
   },
   {
    "duration": 292,
    "start_time": "2025-10-25T07:24:51.366Z"
   },
   {
    "duration": 10,
    "start_time": "2025-10-25T07:24:51.660Z"
   },
   {
    "duration": 45,
    "start_time": "2025-10-25T07:24:51.672Z"
   },
   {
    "duration": 4,
    "start_time": "2025-10-25T07:24:51.719Z"
   },
   {
    "duration": 25,
    "start_time": "2025-10-25T07:24:51.725Z"
   },
   {
    "duration": 22,
    "start_time": "2025-10-25T07:24:51.751Z"
   },
   {
    "duration": 30,
    "start_time": "2025-10-25T07:24:51.775Z"
   },
   {
    "duration": 19,
    "start_time": "2025-10-25T07:24:51.807Z"
   },
   {
    "duration": 4,
    "start_time": "2025-10-25T07:24:51.827Z"
   },
   {
    "duration": 4,
    "start_time": "2025-10-25T07:24:51.832Z"
   },
   {
    "duration": 9,
    "start_time": "2025-10-25T07:24:51.838Z"
   },
   {
    "duration": 7,
    "start_time": "2025-10-25T07:24:51.848Z"
   },
   {
    "duration": 49,
    "start_time": "2025-10-25T07:24:51.856Z"
   },
   {
    "duration": 121,
    "start_time": "2025-10-25T07:24:51.907Z"
   },
   {
    "duration": 4,
    "start_time": "2025-10-25T07:24:52.030Z"
   },
   {
    "duration": 241,
    "start_time": "2025-10-25T07:24:52.036Z"
   },
   {
    "duration": 5,
    "start_time": "2025-10-25T07:24:52.279Z"
   },
   {
    "duration": 213,
    "start_time": "2025-10-25T07:24:52.286Z"
   },
   {
    "duration": 215,
    "start_time": "2025-10-25T07:24:52.500Z"
   },
   {
    "duration": 5,
    "start_time": "2025-10-25T07:24:52.717Z"
   },
   {
    "duration": 76,
    "start_time": "2025-10-25T07:24:52.723Z"
   },
   {
    "duration": 70,
    "start_time": "2025-10-25T07:24:52.801Z"
   },
   {
    "duration": 4,
    "start_time": "2025-10-25T07:24:52.872Z"
   },
   {
    "duration": 26,
    "start_time": "2025-10-25T07:24:52.878Z"
   },
   {
    "duration": 29,
    "start_time": "2025-10-25T07:24:52.905Z"
   },
   {
    "duration": 207,
    "start_time": "2025-10-25T07:24:52.936Z"
   },
   {
    "duration": 142,
    "start_time": "2025-10-25T07:24:53.145Z"
   },
   {
    "duration": 29,
    "start_time": "2025-10-25T07:24:53.289Z"
   },
   {
    "duration": 133,
    "start_time": "2025-10-25T07:24:53.319Z"
   },
   {
    "duration": 108,
    "start_time": "2025-10-25T07:24:53.454Z"
   },
   {
    "duration": 26,
    "start_time": "2025-10-25T07:24:53.564Z"
   },
   {
    "duration": 1845,
    "start_time": "2025-10-25T07:24:53.605Z"
   },
   {
    "duration": 1674,
    "start_time": "2025-10-25T07:24:55.452Z"
   },
   {
    "duration": 22,
    "start_time": "2025-10-25T07:24:57.128Z"
   },
   {
    "duration": 355,
    "start_time": "2025-10-25T07:24:57.152Z"
   },
   {
    "duration": 351,
    "start_time": "2025-10-25T07:24:57.509Z"
   },
   {
    "duration": 10,
    "start_time": "2025-10-25T07:24:57.862Z"
   },
   {
    "duration": 3,
    "start_time": "2025-10-25T07:24:57.873Z"
   },
   {
    "duration": 37,
    "start_time": "2025-10-25T07:24:57.878Z"
   },
   {
    "duration": 11,
    "start_time": "2025-10-25T07:24:57.917Z"
   },
   {
    "duration": 17,
    "start_time": "2025-10-25T07:24:57.929Z"
   },
   {
    "duration": 21,
    "start_time": "2025-10-25T07:24:57.948Z"
   },
   {
    "duration": 47,
    "start_time": "2025-10-25T07:24:57.970Z"
   },
   {
    "duration": 155,
    "start_time": "2025-10-25T07:24:58.018Z"
   },
   {
    "duration": 121,
    "start_time": "2025-10-25T07:24:58.174Z"
   },
   {
    "duration": 175,
    "start_time": "2025-10-25T07:24:58.300Z"
   },
   {
    "duration": 276,
    "start_time": "2025-10-25T07:24:58.477Z"
   },
   {
    "duration": 9,
    "start_time": "2025-10-25T07:24:58.754Z"
   },
   {
    "duration": 120,
    "start_time": "2025-10-25T07:24:58.764Z"
   },
   {
    "duration": 8,
    "start_time": "2025-10-25T07:24:58.885Z"
   },
   {
    "duration": 17,
    "start_time": "2025-10-25T07:24:58.895Z"
   },
   {
    "duration": 162,
    "start_time": "2025-10-25T07:24:58.913Z"
   },
   {
    "duration": 112,
    "start_time": "2025-10-25T07:29:49.857Z"
   },
   {
    "duration": 6,
    "start_time": "2025-10-25T07:30:16.597Z"
   },
   {
    "duration": 196,
    "start_time": "2025-10-25T07:30:44.369Z"
   },
   {
    "duration": 207,
    "start_time": "2025-10-25T07:30:53.818Z"
   },
   {
    "duration": 163,
    "start_time": "2025-10-25T07:31:41.640Z"
   },
   {
    "duration": 169,
    "start_time": "2025-10-25T07:31:59.891Z"
   },
   {
    "duration": 343,
    "start_time": "2025-10-25T07:33:13.195Z"
   },
   {
    "duration": 219,
    "start_time": "2025-10-25T07:35:28.829Z"
   },
   {
    "duration": 27,
    "start_time": "2025-10-25T07:37:09.593Z"
   },
   {
    "duration": 21,
    "start_time": "2025-10-25T07:37:24.427Z"
   },
   {
    "duration": 286,
    "start_time": "2025-10-25T07:38:42.957Z"
   },
   {
    "duration": 26,
    "start_time": "2025-10-25T07:39:24.018Z"
   },
   {
    "duration": 5,
    "start_time": "2025-10-25T07:40:02.775Z"
   },
   {
    "duration": 246,
    "start_time": "2025-10-25T07:40:26.930Z"
   },
   {
    "duration": 8,
    "start_time": "2025-10-25T07:45:52.092Z"
   },
   {
    "duration": 7,
    "start_time": "2025-10-25T07:47:26.487Z"
   },
   {
    "duration": 1603,
    "start_time": "2025-10-25T08:00:02.471Z"
   },
   {
    "duration": 1373,
    "start_time": "2025-10-25T08:01:31.899Z"
   },
   {
    "duration": 385,
    "start_time": "2025-10-25T08:01:46.950Z"
   },
   {
    "duration": 89,
    "start_time": "2025-10-25T08:02:42.557Z"
   },
   {
    "duration": 278,
    "start_time": "2025-10-25T08:02:49.685Z"
   },
   {
    "duration": 287,
    "start_time": "2025-10-25T08:03:54.829Z"
   },
   {
    "duration": 286,
    "start_time": "2025-10-25T08:04:04.263Z"
   },
   {
    "duration": 307,
    "start_time": "2025-10-25T08:04:16.328Z"
   },
   {
    "duration": 434,
    "start_time": "2025-10-25T08:04:21.225Z"
   },
   {
    "duration": 312,
    "start_time": "2025-10-25T08:04:28.441Z"
   },
   {
    "duration": 306,
    "start_time": "2025-10-25T08:05:01.902Z"
   },
   {
    "duration": 297,
    "start_time": "2025-10-25T08:05:06.726Z"
   },
   {
    "duration": 295,
    "start_time": "2025-10-25T08:05:51.060Z"
   },
   {
    "duration": 318,
    "start_time": "2025-10-25T08:06:17.479Z"
   },
   {
    "duration": 342,
    "start_time": "2025-10-25T08:06:50.771Z"
   },
   {
    "duration": 261,
    "start_time": "2025-10-25T08:07:41.658Z"
   },
   {
    "duration": 255,
    "start_time": "2025-10-25T08:12:36.475Z"
   },
   {
    "duration": 260,
    "start_time": "2025-10-25T08:12:45.476Z"
   },
   {
    "duration": 13,
    "start_time": "2025-10-25T08:13:42.378Z"
   },
   {
    "duration": 181,
    "start_time": "2025-10-25T08:14:59.682Z"
   },
   {
    "duration": 151,
    "start_time": "2025-10-25T08:17:13.586Z"
   },
   {
    "duration": 162,
    "start_time": "2025-10-25T08:17:25.972Z"
   },
   {
    "duration": 257,
    "start_time": "2025-10-25T08:17:58.337Z"
   },
   {
    "duration": 150,
    "start_time": "2025-10-25T08:18:22.923Z"
   },
   {
    "duration": 268,
    "start_time": "2025-10-25T08:20:52.790Z"
   },
   {
    "duration": 256,
    "start_time": "2025-10-25T08:21:02.570Z"
   },
   {
    "duration": 243,
    "start_time": "2025-10-25T08:21:40.555Z"
   },
   {
    "duration": 262,
    "start_time": "2025-10-25T08:21:47.301Z"
   },
   {
    "duration": 8647,
    "start_time": "2025-10-25T08:38:40.009Z"
   },
   {
    "duration": 8948,
    "start_time": "2025-10-25T08:38:48.658Z"
   },
   {
    "duration": 6998,
    "start_time": "2025-10-25T08:38:57.609Z"
   },
   {
    "duration": 214,
    "start_time": "2025-10-25T08:39:04.608Z"
   },
   {
    "duration": 9,
    "start_time": "2025-10-25T08:39:04.823Z"
   },
   {
    "duration": 63,
    "start_time": "2025-10-25T08:39:04.833Z"
   },
   {
    "duration": 14,
    "start_time": "2025-10-25T08:39:04.898Z"
   },
   {
    "duration": 51,
    "start_time": "2025-10-25T08:39:04.914Z"
   },
   {
    "duration": 396,
    "start_time": "2025-10-25T08:39:04.967Z"
   },
   {
    "duration": 112,
    "start_time": "2025-10-25T08:39:05.367Z"
   },
   {
    "duration": 5424,
    "start_time": "2025-10-25T08:39:05.481Z"
   },
   {
    "duration": 104,
    "start_time": "2025-10-25T08:39:10.907Z"
   },
   {
    "duration": 36,
    "start_time": "2025-10-25T08:39:11.013Z"
   },
   {
    "duration": 221,
    "start_time": "2025-10-25T08:39:11.051Z"
   },
   {
    "duration": 215,
    "start_time": "2025-10-25T08:39:11.274Z"
   },
   {
    "duration": 5,
    "start_time": "2025-10-25T08:39:11.491Z"
   },
   {
    "duration": 30,
    "start_time": "2025-10-25T08:39:11.505Z"
   },
   {
    "duration": 5,
    "start_time": "2025-10-25T08:39:11.537Z"
   },
   {
    "duration": 62,
    "start_time": "2025-10-25T08:39:11.544Z"
   },
   {
    "duration": 44,
    "start_time": "2025-10-25T08:39:11.607Z"
   },
   {
    "duration": 101,
    "start_time": "2025-10-25T08:39:11.652Z"
   },
   {
    "duration": 18,
    "start_time": "2025-10-25T08:39:11.755Z"
   },
   {
    "duration": 416,
    "start_time": "2025-10-25T08:39:11.774Z"
   },
   {
    "duration": 7,
    "start_time": "2025-10-25T08:39:12.192Z"
   },
   {
    "duration": 15,
    "start_time": "2025-10-25T08:39:12.200Z"
   },
   {
    "duration": 475,
    "start_time": "2025-10-25T08:39:12.216Z"
   },
   {
    "duration": 15,
    "start_time": "2025-10-25T08:39:12.692Z"
   },
   {
    "duration": 280,
    "start_time": "2025-10-25T08:39:12.711Z"
   },
   {
    "duration": 25,
    "start_time": "2025-10-25T08:39:12.993Z"
   },
   {
    "duration": 12,
    "start_time": "2025-10-25T08:39:13.019Z"
   },
   {
    "duration": 83,
    "start_time": "2025-10-25T08:39:13.033Z"
   },
   {
    "duration": 4,
    "start_time": "2025-10-25T08:39:13.117Z"
   },
   {
    "duration": 283,
    "start_time": "2025-10-25T08:39:13.122Z"
   },
   {
    "duration": 69,
    "start_time": "2025-10-25T08:39:13.407Z"
   },
   {
    "duration": 127,
    "start_time": "2025-10-25T08:39:13.478Z"
   },
   {
    "duration": 37,
    "start_time": "2025-10-25T08:39:13.606Z"
   },
   {
    "duration": 342,
    "start_time": "2025-10-25T08:39:13.645Z"
   },
   {
    "duration": 17,
    "start_time": "2025-10-25T08:39:13.989Z"
   },
   {
    "duration": 28,
    "start_time": "2025-10-25T08:39:14.007Z"
   },
   {
    "duration": 4,
    "start_time": "2025-10-25T08:39:14.036Z"
   },
   {
    "duration": 11,
    "start_time": "2025-10-25T08:39:14.042Z"
   },
   {
    "duration": 10,
    "start_time": "2025-10-25T08:39:14.054Z"
   },
   {
    "duration": 12,
    "start_time": "2025-10-25T08:39:14.065Z"
   },
   {
    "duration": 19,
    "start_time": "2025-10-25T08:39:14.105Z"
   },
   {
    "duration": 4,
    "start_time": "2025-10-25T08:39:14.126Z"
   },
   {
    "duration": 3,
    "start_time": "2025-10-25T08:39:14.132Z"
   },
   {
    "duration": 4,
    "start_time": "2025-10-25T08:39:14.137Z"
   },
   {
    "duration": 8,
    "start_time": "2025-10-25T08:39:14.142Z"
   },
   {
    "duration": 62,
    "start_time": "2025-10-25T08:39:14.151Z"
   },
   {
    "duration": 127,
    "start_time": "2025-10-25T08:39:14.215Z"
   },
   {
    "duration": 6,
    "start_time": "2025-10-25T08:39:14.343Z"
   },
   {
    "duration": 145,
    "start_time": "2025-10-25T08:39:14.351Z"
   },
   {
    "duration": 10,
    "start_time": "2025-10-25T08:39:14.497Z"
   },
   {
    "duration": 137,
    "start_time": "2025-10-25T08:39:14.508Z"
   },
   {
    "duration": 195,
    "start_time": "2025-10-25T08:39:14.646Z"
   },
   {
    "duration": 5,
    "start_time": "2025-10-25T08:39:14.843Z"
   },
   {
    "duration": 9,
    "start_time": "2025-10-25T08:39:14.849Z"
   },
   {
    "duration": 7,
    "start_time": "2025-10-25T08:39:14.859Z"
   },
   {
    "duration": 4,
    "start_time": "2025-10-25T08:39:14.867Z"
   },
   {
    "duration": 50,
    "start_time": "2025-10-25T08:39:14.872Z"
   },
   {
    "duration": 19,
    "start_time": "2025-10-25T08:39:14.924Z"
   },
   {
    "duration": 143,
    "start_time": "2025-10-25T08:39:14.945Z"
   },
   {
    "duration": 129,
    "start_time": "2025-10-25T08:39:15.090Z"
   },
   {
    "duration": 88,
    "start_time": "2025-10-25T08:39:15.221Z"
   },
   {
    "duration": 112,
    "start_time": "2025-10-25T08:39:15.311Z"
   },
   {
    "duration": 114,
    "start_time": "2025-10-25T08:39:15.425Z"
   },
   {
    "duration": 23,
    "start_time": "2025-10-25T08:39:15.540Z"
   },
   {
    "duration": 1833,
    "start_time": "2025-10-25T08:39:15.565Z"
   },
   {
    "duration": 1708,
    "start_time": "2025-10-25T08:39:17.400Z"
   },
   {
    "duration": 22,
    "start_time": "2025-10-25T08:39:19.110Z"
   },
   {
    "duration": 387,
    "start_time": "2025-10-25T08:39:19.134Z"
   },
   {
    "duration": 330,
    "start_time": "2025-10-25T08:39:19.523Z"
   },
   {
    "duration": 11,
    "start_time": "2025-10-25T08:39:19.855Z"
   },
   {
    "duration": 7,
    "start_time": "2025-10-25T08:39:19.867Z"
   },
   {
    "duration": 49,
    "start_time": "2025-10-25T08:39:19.876Z"
   },
   {
    "duration": 252,
    "start_time": "2025-10-25T08:39:19.927Z"
   },
   {
    "duration": 28,
    "start_time": "2025-10-25T08:39:20.181Z"
   },
   {
    "duration": 114,
    "start_time": "2025-10-25T08:39:20.211Z"
   },
   {
    "duration": 21,
    "start_time": "2025-10-25T08:39:20.326Z"
   },
   {
    "duration": 12,
    "start_time": "2025-10-25T08:39:20.349Z"
   },
   {
    "duration": 329,
    "start_time": "2025-10-25T08:39:20.363Z"
   },
   {
    "duration": 23,
    "start_time": "2025-10-25T08:39:20.706Z"
   },
   {
    "duration": 26,
    "start_time": "2025-10-25T08:39:20.731Z"
   },
   {
    "duration": 365,
    "start_time": "2025-10-25T08:39:20.759Z"
   },
   {
    "duration": 258,
    "start_time": "2025-10-25T08:39:21.126Z"
   },
   {
    "duration": 258,
    "start_time": "2025-10-25T08:39:21.385Z"
   },
   {
    "duration": 150,
    "start_time": "2025-10-25T08:39:21.645Z"
   },
   {
    "duration": 1570,
    "start_time": "2025-10-25T08:43:16.235Z"
   },
   {
    "duration": 8,
    "start_time": "2025-10-25T08:44:41.206Z"
   },
   {
    "duration": 9,
    "start_time": "2025-10-25T08:44:59.103Z"
   },
   {
    "duration": 8,
    "start_time": "2025-10-25T08:45:13.810Z"
   },
   {
    "duration": 6,
    "start_time": "2025-10-25T08:45:36.421Z"
   },
   {
    "duration": 5,
    "start_time": "2025-10-25T08:48:18.105Z"
   },
   {
    "duration": 5,
    "start_time": "2025-10-25T08:48:27.826Z"
   },
   {
    "duration": 5,
    "start_time": "2025-10-25T08:48:34.265Z"
   },
   {
    "duration": 7,
    "start_time": "2025-10-25T08:48:54.486Z"
   },
   {
    "duration": 4,
    "start_time": "2025-10-25T08:48:55.054Z"
   },
   {
    "duration": 10,
    "start_time": "2025-10-25T08:48:55.685Z"
   },
   {
    "duration": 5,
    "start_time": "2025-10-25T08:48:56.397Z"
   },
   {
    "duration": 9,
    "start_time": "2025-10-25T08:48:57.118Z"
   },
   {
    "duration": 4,
    "start_time": "2025-10-25T08:48:57.830Z"
   },
   {
    "duration": 5,
    "start_time": "2025-10-25T08:48:59.072Z"
   },
   {
    "duration": 4,
    "start_time": "2025-10-25T08:49:10.177Z"
   },
   {
    "duration": 87,
    "start_time": "2025-10-25T08:51:46.252Z"
   },
   {
    "duration": 10,
    "start_time": "2025-10-25T08:56:58.948Z"
   },
   {
    "duration": 10,
    "start_time": "2025-10-25T08:57:28.816Z"
   },
   {
    "duration": 20,
    "start_time": "2025-10-25T08:59:47.113Z"
   },
   {
    "duration": 7,
    "start_time": "2025-10-25T09:00:08.853Z"
   },
   {
    "duration": 9,
    "start_time": "2025-10-25T09:01:22.073Z"
   },
   {
    "duration": 12,
    "start_time": "2025-10-25T09:01:36.023Z"
   },
   {
    "duration": 12,
    "start_time": "2025-10-25T09:02:36.223Z"
   },
   {
    "duration": 14,
    "start_time": "2025-10-25T09:02:39.551Z"
   },
   {
    "duration": 4,
    "start_time": "2025-10-25T09:03:02.547Z"
   },
   {
    "duration": 171,
    "start_time": "2025-10-25T09:06:45.423Z"
   },
   {
    "duration": 158,
    "start_time": "2025-10-25T09:06:53.151Z"
   },
   {
    "duration": 288,
    "start_time": "2025-10-25T09:07:43.574Z"
   },
   {
    "duration": 163,
    "start_time": "2025-10-25T09:08:37.571Z"
   },
   {
    "duration": 227,
    "start_time": "2025-10-25T09:08:41.590Z"
   },
   {
    "duration": 157,
    "start_time": "2025-10-25T09:09:08.393Z"
   },
   {
    "duration": 147,
    "start_time": "2025-10-25T09:09:16.146Z"
   },
   {
    "duration": 285,
    "start_time": "2025-10-25T09:10:08.801Z"
   },
   {
    "duration": 256,
    "start_time": "2025-10-25T09:11:06.954Z"
   },
   {
    "duration": 151,
    "start_time": "2025-10-25T09:11:20.330Z"
   },
   {
    "duration": 9,
    "start_time": "2025-10-25T09:13:46.044Z"
   },
   {
    "duration": 9,
    "start_time": "2025-10-25T09:18:22.791Z"
   },
   {
    "duration": 7,
    "start_time": "2025-10-25T09:18:43.146Z"
   },
   {
    "duration": 5,
    "start_time": "2025-10-25T09:19:30.151Z"
   },
   {
    "duration": 5,
    "start_time": "2025-10-25T09:19:38.257Z"
   },
   {
    "duration": 10,
    "start_time": "2025-10-25T09:24:55.905Z"
   },
   {
    "duration": 8551,
    "start_time": "2025-10-25T09:27:22.509Z"
   },
   {
    "duration": 9069,
    "start_time": "2025-10-25T09:27:31.062Z"
   },
   {
    "duration": 9382,
    "start_time": "2025-10-25T09:27:40.133Z"
   },
   {
    "duration": 215,
    "start_time": "2025-10-25T09:27:49.517Z"
   },
   {
    "duration": 9,
    "start_time": "2025-10-25T09:27:49.734Z"
   },
   {
    "duration": 62,
    "start_time": "2025-10-25T09:27:49.745Z"
   },
   {
    "duration": 14,
    "start_time": "2025-10-25T09:27:49.809Z"
   },
   {
    "duration": 50,
    "start_time": "2025-10-25T09:27:49.824Z"
   },
   {
    "duration": 396,
    "start_time": "2025-10-25T09:27:49.876Z"
   },
   {
    "duration": 113,
    "start_time": "2025-10-25T09:27:50.275Z"
   },
   {
    "duration": 5464,
    "start_time": "2025-10-25T09:27:50.389Z"
   },
   {
    "duration": 102,
    "start_time": "2025-10-25T09:27:55.855Z"
   },
   {
    "duration": 49,
    "start_time": "2025-10-25T09:27:55.958Z"
   },
   {
    "duration": 207,
    "start_time": "2025-10-25T09:27:56.009Z"
   },
   {
    "duration": 218,
    "start_time": "2025-10-25T09:27:56.217Z"
   },
   {
    "duration": 19,
    "start_time": "2025-10-25T09:27:56.437Z"
   },
   {
    "duration": 40,
    "start_time": "2025-10-25T09:27:56.458Z"
   },
   {
    "duration": 5,
    "start_time": "2025-10-25T09:27:56.505Z"
   },
   {
    "duration": 75,
    "start_time": "2025-10-25T09:27:56.511Z"
   },
   {
    "duration": 43,
    "start_time": "2025-10-25T09:27:56.588Z"
   },
   {
    "duration": 53,
    "start_time": "2025-10-25T09:27:56.633Z"
   },
   {
    "duration": 36,
    "start_time": "2025-10-25T09:27:56.704Z"
   },
   {
    "duration": 371,
    "start_time": "2025-10-25T09:27:56.742Z"
   },
   {
    "duration": 6,
    "start_time": "2025-10-25T09:27:57.115Z"
   },
   {
    "duration": 12,
    "start_time": "2025-10-25T09:27:57.123Z"
   },
   {
    "duration": 401,
    "start_time": "2025-10-25T09:27:57.137Z"
   },
   {
    "duration": 7,
    "start_time": "2025-10-25T09:27:57.539Z"
   },
   {
    "duration": 281,
    "start_time": "2025-10-25T09:27:57.550Z"
   },
   {
    "duration": 17,
    "start_time": "2025-10-25T09:27:57.832Z"
   },
   {
    "duration": 38,
    "start_time": "2025-10-25T09:27:57.850Z"
   },
   {
    "duration": 75,
    "start_time": "2025-10-25T09:27:57.890Z"
   },
   {
    "duration": 4,
    "start_time": "2025-10-25T09:27:57.966Z"
   },
   {
    "duration": 284,
    "start_time": "2025-10-25T09:27:57.971Z"
   },
   {
    "duration": 80,
    "start_time": "2025-10-25T09:27:58.257Z"
   },
   {
    "duration": 122,
    "start_time": "2025-10-25T09:27:58.339Z"
   },
   {
    "duration": 43,
    "start_time": "2025-10-25T09:27:58.463Z"
   },
   {
    "duration": 281,
    "start_time": "2025-10-25T09:27:58.507Z"
   },
   {
    "duration": 16,
    "start_time": "2025-10-25T09:27:58.789Z"
   },
   {
    "duration": 62,
    "start_time": "2025-10-25T09:27:58.806Z"
   },
   {
    "duration": 3,
    "start_time": "2025-10-25T09:27:58.869Z"
   },
   {
    "duration": 11,
    "start_time": "2025-10-25T09:27:58.873Z"
   },
   {
    "duration": 9,
    "start_time": "2025-10-25T09:27:58.886Z"
   },
   {
    "duration": 13,
    "start_time": "2025-10-25T09:27:58.896Z"
   },
   {
    "duration": 18,
    "start_time": "2025-10-25T09:27:58.911Z"
   },
   {
    "duration": 4,
    "start_time": "2025-10-25T09:27:58.930Z"
   },
   {
    "duration": 4,
    "start_time": "2025-10-25T09:27:58.935Z"
   },
   {
    "duration": 4,
    "start_time": "2025-10-25T09:27:58.940Z"
   },
   {
    "duration": 8,
    "start_time": "2025-10-25T09:27:58.945Z"
   },
   {
    "duration": 56,
    "start_time": "2025-10-25T09:27:58.954Z"
   },
   {
    "duration": 128,
    "start_time": "2025-10-25T09:27:59.011Z"
   },
   {
    "duration": 4,
    "start_time": "2025-10-25T09:27:59.141Z"
   },
   {
    "duration": 143,
    "start_time": "2025-10-25T09:27:59.147Z"
   },
   {
    "duration": 5,
    "start_time": "2025-10-25T09:27:59.291Z"
   },
   {
    "duration": 125,
    "start_time": "2025-10-25T09:27:59.304Z"
   },
   {
    "duration": 191,
    "start_time": "2025-10-25T09:27:59.430Z"
   },
   {
    "duration": 4,
    "start_time": "2025-10-25T09:27:59.623Z"
   },
   {
    "duration": 9,
    "start_time": "2025-10-25T09:27:59.628Z"
   },
   {
    "duration": 7,
    "start_time": "2025-10-25T09:27:59.638Z"
   },
   {
    "duration": 7,
    "start_time": "2025-10-25T09:27:59.646Z"
   },
   {
    "duration": 51,
    "start_time": "2025-10-25T09:27:59.655Z"
   },
   {
    "duration": 19,
    "start_time": "2025-10-25T09:27:59.708Z"
   },
   {
    "duration": 140,
    "start_time": "2025-10-25T09:27:59.728Z"
   },
   {
    "duration": 141,
    "start_time": "2025-10-25T09:27:59.870Z"
   },
   {
    "duration": 24,
    "start_time": "2025-10-25T09:28:00.012Z"
   },
   {
    "duration": 149,
    "start_time": "2025-10-25T09:28:00.038Z"
   },
   {
    "duration": 122,
    "start_time": "2025-10-25T09:28:00.188Z"
   },
   {
    "duration": 31,
    "start_time": "2025-10-25T09:28:00.311Z"
   },
   {
    "duration": 1882,
    "start_time": "2025-10-25T09:28:00.344Z"
   },
   {
    "duration": 1665,
    "start_time": "2025-10-25T09:28:02.227Z"
   },
   {
    "duration": 22,
    "start_time": "2025-10-25T09:28:03.904Z"
   },
   {
    "duration": 345,
    "start_time": "2025-10-25T09:28:03.927Z"
   },
   {
    "duration": 347,
    "start_time": "2025-10-25T09:28:04.274Z"
   },
   {
    "duration": 10,
    "start_time": "2025-10-25T09:28:04.623Z"
   },
   {
    "duration": 3,
    "start_time": "2025-10-25T09:28:04.635Z"
   },
   {
    "duration": 20,
    "start_time": "2025-10-25T09:28:04.640Z"
   },
   {
    "duration": 284,
    "start_time": "2025-10-25T09:28:04.661Z"
   },
   {
    "duration": 17,
    "start_time": "2025-10-25T09:28:04.946Z"
   },
   {
    "duration": 124,
    "start_time": "2025-10-25T09:28:04.965Z"
   },
   {
    "duration": 28,
    "start_time": "2025-10-25T09:28:05.091Z"
   },
   {
    "duration": 7,
    "start_time": "2025-10-25T09:28:05.121Z"
   },
   {
    "duration": 267,
    "start_time": "2025-10-25T09:28:05.129Z"
   },
   {
    "duration": 24,
    "start_time": "2025-10-25T09:28:05.405Z"
   },
   {
    "duration": 24,
    "start_time": "2025-10-25T09:28:05.431Z"
   },
   {
    "duration": 433,
    "start_time": "2025-10-25T09:28:05.456Z"
   },
   {
    "duration": 269,
    "start_time": "2025-10-25T09:28:05.890Z"
   },
   {
    "duration": 252,
    "start_time": "2025-10-25T09:28:06.161Z"
   },
   {
    "duration": 168,
    "start_time": "2025-10-25T09:28:06.414Z"
   },
   {
    "duration": 7,
    "start_time": "2025-10-25T09:28:06.584Z"
   },
   {
    "duration": 4,
    "start_time": "2025-10-25T09:28:06.592Z"
   },
   {
    "duration": 9,
    "start_time": "2025-10-25T09:28:06.606Z"
   },
   {
    "duration": 4,
    "start_time": "2025-10-25T09:28:06.617Z"
   },
   {
    "duration": 9,
    "start_time": "2025-10-25T09:28:06.623Z"
   },
   {
    "duration": 5,
    "start_time": "2025-10-25T09:28:06.634Z"
   },
   {
    "duration": 5,
    "start_time": "2025-10-25T09:28:06.641Z"
   },
   {
    "duration": 56,
    "start_time": "2025-10-25T09:28:06.648Z"
   },
   {
    "duration": 23,
    "start_time": "2025-10-25T09:28:06.706Z"
   },
   {
    "duration": 5,
    "start_time": "2025-10-25T09:28:06.731Z"
   },
   {
    "duration": 157,
    "start_time": "2025-10-25T09:28:06.738Z"
   },
   {
    "duration": 12,
    "start_time": "2025-10-25T09:28:06.897Z"
   },
   {
    "duration": 282,
    "start_time": "2025-10-25T09:28:06.911Z"
   },
   {
    "duration": 16,
    "start_time": "2025-10-25T09:28:07.194Z"
   },
   {
    "duration": 17,
    "start_time": "2025-10-25T09:28:07.211Z"
   },
   {
    "duration": 5,
    "start_time": "2025-10-25T09:28:07.229Z"
   },
   {
    "duration": 6,
    "start_time": "2025-10-25T09:28:07.235Z"
   },
   {
    "duration": 172,
    "start_time": "2025-10-25T09:28:07.243Z"
   },
   {
    "duration": 0,
    "start_time": "2025-10-25T09:28:07.416Z"
   },
   {
    "duration": 9,
    "start_time": "2025-10-25T09:28:18.328Z"
   },
   {
    "duration": 9,
    "start_time": "2025-10-25T09:28:32.771Z"
   },
   {
    "duration": 14,
    "start_time": "2025-10-25T09:29:33.180Z"
   },
   {
    "duration": 1071,
    "start_time": "2025-10-25T09:29:58.148Z"
   },
   {
    "duration": 807,
    "start_time": "2025-10-25T09:30:42.898Z"
   },
   {
    "duration": 257,
    "start_time": "2025-10-25T09:31:23.936Z"
   },
   {
    "duration": 7,
    "start_time": "2025-10-25T09:34:41.345Z"
   },
   {
    "duration": 8,
    "start_time": "2025-10-25T09:34:48.209Z"
   },
   {
    "duration": 7,
    "start_time": "2025-10-25T09:34:50.754Z"
   },
   {
    "duration": 487,
    "start_time": "2025-10-25T09:35:31.735Z"
   },
   {
    "duration": 20,
    "start_time": "2025-10-25T09:35:48.876Z"
   },
   {
    "duration": 31317,
    "start_time": "2025-10-25T09:39:20.680Z"
   },
   {
    "duration": 761,
    "start_time": "2025-10-25T09:40:40.214Z"
   },
   {
    "duration": 0,
    "start_time": "2025-10-25T09:41:53.861Z"
   },
   {
    "duration": 0,
    "start_time": "2025-10-25T09:41:53.861Z"
   },
   {
    "duration": 8748,
    "start_time": "2025-10-25T09:41:58.781Z"
   },
   {
    "duration": 8853,
    "start_time": "2025-10-25T09:42:07.531Z"
   },
   {
    "duration": 4094,
    "start_time": "2025-10-25T09:42:16.386Z"
   },
   {
    "duration": 208,
    "start_time": "2025-10-25T09:42:20.482Z"
   },
   {
    "duration": 18,
    "start_time": "2025-10-25T09:42:20.691Z"
   },
   {
    "duration": 96,
    "start_time": "2025-10-25T09:42:20.710Z"
   },
   {
    "duration": 14,
    "start_time": "2025-10-25T09:42:20.808Z"
   },
   {
    "duration": 73,
    "start_time": "2025-10-25T09:42:20.824Z"
   },
   {
    "duration": 392,
    "start_time": "2025-10-25T09:42:20.899Z"
   },
   {
    "duration": 113,
    "start_time": "2025-10-25T09:42:21.293Z"
   },
   {
    "duration": 5297,
    "start_time": "2025-10-25T09:42:21.408Z"
   },
   {
    "duration": 104,
    "start_time": "2025-10-25T09:42:26.706Z"
   },
   {
    "duration": 36,
    "start_time": "2025-10-25T09:42:26.812Z"
   },
   {
    "duration": 234,
    "start_time": "2025-10-25T09:42:26.852Z"
   },
   {
    "duration": 208,
    "start_time": "2025-10-25T09:42:27.088Z"
   },
   {
    "duration": 12,
    "start_time": "2025-10-25T09:42:27.297Z"
   },
   {
    "duration": 33,
    "start_time": "2025-10-25T09:42:27.311Z"
   },
   {
    "duration": 6,
    "start_time": "2025-10-25T09:42:27.345Z"
   },
   {
    "duration": 66,
    "start_time": "2025-10-25T09:42:27.352Z"
   },
   {
    "duration": 113,
    "start_time": "2025-10-25T09:42:27.420Z"
   },
   {
    "duration": 57,
    "start_time": "2025-10-25T09:42:27.534Z"
   },
   {
    "duration": 23,
    "start_time": "2025-10-25T09:42:27.604Z"
   },
   {
    "duration": 390,
    "start_time": "2025-10-25T09:42:27.629Z"
   },
   {
    "duration": 7,
    "start_time": "2025-10-25T09:42:28.021Z"
   },
   {
    "duration": 13,
    "start_time": "2025-10-25T09:42:28.029Z"
   },
   {
    "duration": 334,
    "start_time": "2025-10-25T09:42:28.044Z"
   },
   {
    "duration": 7,
    "start_time": "2025-10-25T09:42:28.379Z"
   },
   {
    "duration": 261,
    "start_time": "2025-10-25T09:42:28.387Z"
   },
   {
    "duration": 16,
    "start_time": "2025-10-25T09:42:28.650Z"
   },
   {
    "duration": 12,
    "start_time": "2025-10-25T09:42:28.668Z"
   },
   {
    "duration": 94,
    "start_time": "2025-10-25T09:42:28.682Z"
   },
   {
    "duration": 3,
    "start_time": "2025-10-25T09:42:28.778Z"
   },
   {
    "duration": 252,
    "start_time": "2025-10-25T09:42:28.782Z"
   },
   {
    "duration": 74,
    "start_time": "2025-10-25T09:42:29.035Z"
   },
   {
    "duration": 129,
    "start_time": "2025-10-25T09:42:29.111Z"
   },
   {
    "duration": 39,
    "start_time": "2025-10-25T09:42:29.241Z"
   },
   {
    "duration": 290,
    "start_time": "2025-10-25T09:42:29.282Z"
   },
   {
    "duration": 11,
    "start_time": "2025-10-25T09:42:29.573Z"
   },
   {
    "duration": 41,
    "start_time": "2025-10-25T09:42:29.585Z"
   },
   {
    "duration": 3,
    "start_time": "2025-10-25T09:42:29.627Z"
   },
   {
    "duration": 13,
    "start_time": "2025-10-25T09:42:29.635Z"
   },
   {
    "duration": 10,
    "start_time": "2025-10-25T09:42:29.650Z"
   },
   {
    "duration": 9,
    "start_time": "2025-10-25T09:42:29.662Z"
   },
   {
    "duration": 37,
    "start_time": "2025-10-25T09:42:29.672Z"
   },
   {
    "duration": 4,
    "start_time": "2025-10-25T09:42:29.710Z"
   },
   {
    "duration": 5,
    "start_time": "2025-10-25T09:42:29.715Z"
   },
   {
    "duration": 4,
    "start_time": "2025-10-25T09:42:29.721Z"
   },
   {
    "duration": 8,
    "start_time": "2025-10-25T09:42:29.727Z"
   },
   {
    "duration": 23,
    "start_time": "2025-10-25T09:42:29.736Z"
   },
   {
    "duration": 148,
    "start_time": "2025-10-25T09:42:29.761Z"
   },
   {
    "duration": 4,
    "start_time": "2025-10-25T09:42:29.911Z"
   },
   {
    "duration": 208,
    "start_time": "2025-10-25T09:42:29.916Z"
   },
   {
    "duration": 4,
    "start_time": "2025-10-25T09:42:30.126Z"
   },
   {
    "duration": 132,
    "start_time": "2025-10-25T09:42:30.132Z"
   },
   {
    "duration": 209,
    "start_time": "2025-10-25T09:42:30.266Z"
   },
   {
    "duration": 5,
    "start_time": "2025-10-25T09:42:30.477Z"
   },
   {
    "duration": 27,
    "start_time": "2025-10-25T09:42:30.483Z"
   },
   {
    "duration": 103,
    "start_time": "2025-10-25T09:42:30.511Z"
   },
   {
    "duration": 3,
    "start_time": "2025-10-25T09:42:30.616Z"
   },
   {
    "duration": 23,
    "start_time": "2025-10-25T09:42:30.621Z"
   },
   {
    "duration": 20,
    "start_time": "2025-10-25T09:42:30.646Z"
   },
   {
    "duration": 145,
    "start_time": "2025-10-25T09:42:30.668Z"
   },
   {
    "duration": 128,
    "start_time": "2025-10-25T09:42:30.815Z"
   },
   {
    "duration": 19,
    "start_time": "2025-10-25T09:42:30.945Z"
   },
   {
    "duration": 123,
    "start_time": "2025-10-25T09:42:30.966Z"
   },
   {
    "duration": 119,
    "start_time": "2025-10-25T09:42:31.090Z"
   },
   {
    "duration": 24,
    "start_time": "2025-10-25T09:42:31.210Z"
   },
   {
    "duration": 1698,
    "start_time": "2025-10-25T09:42:31.236Z"
   },
   {
    "duration": 1751,
    "start_time": "2025-10-25T09:42:32.935Z"
   },
   {
    "duration": 32,
    "start_time": "2025-10-25T09:42:34.688Z"
   },
   {
    "duration": 337,
    "start_time": "2025-10-25T09:42:34.722Z"
   },
   {
    "duration": 330,
    "start_time": "2025-10-25T09:42:35.061Z"
   },
   {
    "duration": 19,
    "start_time": "2025-10-25T09:42:35.393Z"
   },
   {
    "duration": 84,
    "start_time": "2025-10-25T09:42:35.414Z"
   },
   {
    "duration": 29,
    "start_time": "2025-10-25T09:42:35.499Z"
   },
   {
    "duration": 231,
    "start_time": "2025-10-25T09:42:35.530Z"
   },
   {
    "duration": 45,
    "start_time": "2025-10-25T09:42:35.763Z"
   },
   {
    "duration": 122,
    "start_time": "2025-10-25T09:42:35.809Z"
   },
   {
    "duration": 24,
    "start_time": "2025-10-25T09:42:35.932Z"
   },
   {
    "duration": 13,
    "start_time": "2025-10-25T09:42:35.957Z"
   },
   {
    "duration": 308,
    "start_time": "2025-10-25T09:42:35.972Z"
   },
   {
    "duration": 37,
    "start_time": "2025-10-25T09:42:36.282Z"
   },
   {
    "duration": 16,
    "start_time": "2025-10-25T09:42:36.321Z"
   },
   {
    "duration": 252,
    "start_time": "2025-10-25T09:42:36.339Z"
   },
   {
    "duration": 256,
    "start_time": "2025-10-25T09:42:36.605Z"
   },
   {
    "duration": 346,
    "start_time": "2025-10-25T09:42:36.864Z"
   },
   {
    "duration": 154,
    "start_time": "2025-10-25T09:42:37.212Z"
   },
   {
    "duration": 7,
    "start_time": "2025-10-25T09:42:37.368Z"
   },
   {
    "duration": 117,
    "start_time": "2025-10-25T09:42:37.376Z"
   },
   {
    "duration": 8,
    "start_time": "2025-10-25T09:42:37.495Z"
   },
   {
    "duration": 31,
    "start_time": "2025-10-25T09:42:37.504Z"
   },
   {
    "duration": 7,
    "start_time": "2025-10-25T09:42:37.537Z"
   },
   {
    "duration": 5,
    "start_time": "2025-10-25T09:42:37.545Z"
   },
   {
    "duration": 6,
    "start_time": "2025-10-25T09:42:37.551Z"
   },
   {
    "duration": 13,
    "start_time": "2025-10-25T09:42:37.558Z"
   },
   {
    "duration": 12,
    "start_time": "2025-10-25T09:42:37.573Z"
   },
   {
    "duration": 8,
    "start_time": "2025-10-25T09:42:37.587Z"
   },
   {
    "duration": 167,
    "start_time": "2025-10-25T09:42:37.597Z"
   },
   {
    "duration": 6,
    "start_time": "2025-10-25T09:42:37.766Z"
   },
   {
    "duration": 287,
    "start_time": "2025-10-25T09:42:37.774Z"
   },
   {
    "duration": 8,
    "start_time": "2025-10-25T09:42:38.062Z"
   },
   {
    "duration": 21,
    "start_time": "2025-10-25T09:42:38.071Z"
   },
   {
    "duration": 11,
    "start_time": "2025-10-25T09:42:38.094Z"
   },
   {
    "duration": 5,
    "start_time": "2025-10-25T09:42:38.107Z"
   },
   {
    "duration": 5,
    "start_time": "2025-10-25T09:42:38.113Z"
   },
   {
    "duration": 815,
    "start_time": "2025-10-25T09:42:38.119Z"
   },
   {
    "duration": 246,
    "start_time": "2025-10-25T09:42:38.936Z"
   },
   {
    "duration": 662,
    "start_time": "2025-10-25T09:42:39.183Z"
   },
   {
    "duration": 578,
    "start_time": "2025-10-25T09:42:39.847Z"
   },
   {
    "duration": 9,
    "start_time": "2025-10-25T09:42:40.427Z"
   },
   {
    "duration": 583,
    "start_time": "2025-10-25T09:43:46.089Z"
   },
   {
    "duration": 18,
    "start_time": "2025-10-25T09:55:25.162Z"
   },
   {
    "duration": 801,
    "start_time": "2025-10-25T09:55:38.576Z"
   },
   {
    "duration": 8,
    "start_time": "2025-10-25T09:56:18.001Z"
   },
   {
    "duration": 790,
    "start_time": "2025-10-25T09:56:33.499Z"
   },
   {
    "duration": 831,
    "start_time": "2025-10-25T09:56:45.272Z"
   },
   {
    "duration": 1261,
    "start_time": "2025-10-25T09:56:59.918Z"
   },
   {
    "duration": 11,
    "start_time": "2025-10-25T10:00:29.592Z"
   },
   {
    "duration": 1292,
    "start_time": "2025-10-25T10:01:08.968Z"
   },
   {
    "duration": 507,
    "start_time": "2025-10-25T10:03:12.996Z"
   },
   {
    "duration": 13,
    "start_time": "2025-10-25T10:04:00.601Z"
   },
   {
    "duration": 561,
    "start_time": "2025-10-25T10:04:19.260Z"
   },
   {
    "duration": 4,
    "start_time": "2025-10-25T10:04:26.885Z"
   },
   {
    "duration": 278,
    "start_time": "2025-10-25T10:04:49.120Z"
   },
   {
    "duration": 557,
    "start_time": "2025-10-25T10:04:53.808Z"
   },
   {
    "duration": 222,
    "start_time": "2025-10-25T10:05:03.450Z"
   },
   {
    "duration": 87,
    "start_time": "2025-10-25T10:07:36.815Z"
   },
   {
    "duration": 8952,
    "start_time": "2025-10-25T10:12:10.812Z"
   },
   {
    "duration": 9001,
    "start_time": "2025-10-25T10:12:19.766Z"
   },
   {
    "duration": 4811,
    "start_time": "2025-10-25T10:12:28.770Z"
   },
   {
    "duration": 204,
    "start_time": "2025-10-25T10:12:33.583Z"
   },
   {
    "duration": 17,
    "start_time": "2025-10-25T10:12:33.788Z"
   },
   {
    "duration": 46,
    "start_time": "2025-10-25T10:12:33.807Z"
   },
   {
    "duration": 16,
    "start_time": "2025-10-25T10:12:33.855Z"
   },
   {
    "duration": 53,
    "start_time": "2025-10-25T10:12:33.874Z"
   },
   {
    "duration": 421,
    "start_time": "2025-10-25T10:12:33.930Z"
   },
   {
    "duration": 115,
    "start_time": "2025-10-25T10:12:34.352Z"
   },
   {
    "duration": 5629,
    "start_time": "2025-10-25T10:12:34.469Z"
   },
   {
    "duration": 105,
    "start_time": "2025-10-25T10:12:40.100Z"
   },
   {
    "duration": 40,
    "start_time": "2025-10-25T10:12:40.208Z"
   },
   {
    "duration": 220,
    "start_time": "2025-10-25T10:12:40.249Z"
   },
   {
    "duration": 209,
    "start_time": "2025-10-25T10:12:40.471Z"
   },
   {
    "duration": 6,
    "start_time": "2025-10-25T10:12:40.682Z"
   },
   {
    "duration": 56,
    "start_time": "2025-10-25T10:12:40.689Z"
   },
   {
    "duration": 5,
    "start_time": "2025-10-25T10:12:40.746Z"
   },
   {
    "duration": 62,
    "start_time": "2025-10-25T10:12:40.752Z"
   },
   {
    "duration": 44,
    "start_time": "2025-10-25T10:12:40.817Z"
   },
   {
    "duration": 75,
    "start_time": "2025-10-25T10:12:40.863Z"
   },
   {
    "duration": 41,
    "start_time": "2025-10-25T10:12:40.940Z"
   },
   {
    "duration": 404,
    "start_time": "2025-10-25T10:12:40.986Z"
   },
   {
    "duration": 17,
    "start_time": "2025-10-25T10:12:41.392Z"
   },
   {
    "duration": 14,
    "start_time": "2025-10-25T10:12:41.412Z"
   },
   {
    "duration": 323,
    "start_time": "2025-10-25T10:12:41.428Z"
   },
   {
    "duration": 8,
    "start_time": "2025-10-25T10:12:41.753Z"
   },
   {
    "duration": 271,
    "start_time": "2025-10-25T10:12:41.763Z"
   },
   {
    "duration": 17,
    "start_time": "2025-10-25T10:12:42.036Z"
   },
   {
    "duration": 14,
    "start_time": "2025-10-25T10:12:42.054Z"
   },
   {
    "duration": 104,
    "start_time": "2025-10-25T10:12:42.070Z"
   },
   {
    "duration": 4,
    "start_time": "2025-10-25T10:12:42.176Z"
   },
   {
    "duration": 249,
    "start_time": "2025-10-25T10:12:42.182Z"
   },
   {
    "duration": 85,
    "start_time": "2025-10-25T10:12:42.433Z"
   },
   {
    "duration": 162,
    "start_time": "2025-10-25T10:12:42.520Z"
   },
   {
    "duration": 41,
    "start_time": "2025-10-25T10:12:42.684Z"
   },
   {
    "duration": 289,
    "start_time": "2025-10-25T10:12:42.727Z"
   },
   {
    "duration": 13,
    "start_time": "2025-10-25T10:12:43.018Z"
   },
   {
    "duration": 27,
    "start_time": "2025-10-25T10:12:43.033Z"
   },
   {
    "duration": 3,
    "start_time": "2025-10-25T10:12:43.061Z"
   },
   {
    "duration": 44,
    "start_time": "2025-10-25T10:12:43.065Z"
   },
   {
    "duration": 17,
    "start_time": "2025-10-25T10:12:43.112Z"
   },
   {
    "duration": 9,
    "start_time": "2025-10-25T10:12:43.131Z"
   },
   {
    "duration": 19,
    "start_time": "2025-10-25T10:12:43.142Z"
   },
   {
    "duration": 4,
    "start_time": "2025-10-25T10:12:43.163Z"
   },
   {
    "duration": 4,
    "start_time": "2025-10-25T10:12:43.169Z"
   },
   {
    "duration": 7,
    "start_time": "2025-10-25T10:12:43.207Z"
   },
   {
    "duration": 11,
    "start_time": "2025-10-25T10:12:43.216Z"
   },
   {
    "duration": 23,
    "start_time": "2025-10-25T10:12:43.229Z"
   },
   {
    "duration": 182,
    "start_time": "2025-10-25T10:12:43.254Z"
   },
   {
    "duration": 6,
    "start_time": "2025-10-25T10:12:43.438Z"
   },
   {
    "duration": 239,
    "start_time": "2025-10-25T10:12:43.446Z"
   },
   {
    "duration": 5,
    "start_time": "2025-10-25T10:12:43.686Z"
   },
   {
    "duration": 157,
    "start_time": "2025-10-25T10:12:43.708Z"
   },
   {
    "duration": 227,
    "start_time": "2025-10-25T10:12:43.867Z"
   },
   {
    "duration": 13,
    "start_time": "2025-10-25T10:12:44.096Z"
   },
   {
    "duration": 19,
    "start_time": "2025-10-25T10:12:44.111Z"
   },
   {
    "duration": 6,
    "start_time": "2025-10-25T10:12:44.132Z"
   },
   {
    "duration": 3,
    "start_time": "2025-10-25T10:12:44.140Z"
   },
   {
    "duration": 22,
    "start_time": "2025-10-25T10:12:44.145Z"
   },
   {
    "duration": 57,
    "start_time": "2025-10-25T10:12:44.168Z"
   },
   {
    "duration": 158,
    "start_time": "2025-10-25T10:12:44.228Z"
   },
   {
    "duration": 140,
    "start_time": "2025-10-25T10:12:44.388Z"
   },
   {
    "duration": 19,
    "start_time": "2025-10-25T10:12:44.529Z"
   },
   {
    "duration": 151,
    "start_time": "2025-10-25T10:12:44.550Z"
   },
   {
    "duration": 119,
    "start_time": "2025-10-25T10:12:44.702Z"
   },
   {
    "duration": 21,
    "start_time": "2025-10-25T10:12:44.824Z"
   },
   {
    "duration": 1964,
    "start_time": "2025-10-25T10:12:44.851Z"
   },
   {
    "duration": 1929,
    "start_time": "2025-10-25T10:12:46.817Z"
   },
   {
    "duration": 21,
    "start_time": "2025-10-25T10:12:48.747Z"
   },
   {
    "duration": 377,
    "start_time": "2025-10-25T10:12:48.769Z"
   },
   {
    "duration": 377,
    "start_time": "2025-10-25T10:12:49.148Z"
   },
   {
    "duration": 14,
    "start_time": "2025-10-25T10:12:49.528Z"
   },
   {
    "duration": 90,
    "start_time": "2025-10-25T10:12:49.543Z"
   },
   {
    "duration": 19,
    "start_time": "2025-10-25T10:12:49.635Z"
   },
   {
    "duration": 269,
    "start_time": "2025-10-25T10:12:49.656Z"
   },
   {
    "duration": 21,
    "start_time": "2025-10-25T10:12:49.927Z"
   },
   {
    "duration": 154,
    "start_time": "2025-10-25T10:12:49.950Z"
   },
   {
    "duration": 35,
    "start_time": "2025-10-25T10:12:50.108Z"
   },
   {
    "duration": 14,
    "start_time": "2025-10-25T10:12:50.144Z"
   },
   {
    "duration": 365,
    "start_time": "2025-10-25T10:12:50.160Z"
   },
   {
    "duration": 24,
    "start_time": "2025-10-25T10:12:50.527Z"
   },
   {
    "duration": 23,
    "start_time": "2025-10-25T10:12:50.553Z"
   },
   {
    "duration": 330,
    "start_time": "2025-10-25T10:12:50.578Z"
   },
   {
    "duration": 281,
    "start_time": "2025-10-25T10:12:50.910Z"
   },
   {
    "duration": 390,
    "start_time": "2025-10-25T10:12:51.192Z"
   },
   {
    "duration": 181,
    "start_time": "2025-10-25T10:12:51.584Z"
   },
   {
    "duration": 8,
    "start_time": "2025-10-25T10:12:51.767Z"
   },
   {
    "duration": 10,
    "start_time": "2025-10-25T10:12:51.777Z"
   },
   {
    "duration": 21,
    "start_time": "2025-10-25T10:12:51.789Z"
   },
   {
    "duration": 12,
    "start_time": "2025-10-25T10:12:51.812Z"
   },
   {
    "duration": 9,
    "start_time": "2025-10-25T10:12:51.826Z"
   },
   {
    "duration": 10,
    "start_time": "2025-10-25T10:12:51.836Z"
   },
   {
    "duration": 5,
    "start_time": "2025-10-25T10:12:51.848Z"
   },
   {
    "duration": 4,
    "start_time": "2025-10-25T10:12:51.854Z"
   },
   {
    "duration": 51,
    "start_time": "2025-10-25T10:12:51.860Z"
   },
   {
    "duration": 7,
    "start_time": "2025-10-25T10:12:51.914Z"
   },
   {
    "duration": 189,
    "start_time": "2025-10-25T10:12:51.924Z"
   },
   {
    "duration": 10,
    "start_time": "2025-10-25T10:12:52.116Z"
   },
   {
    "duration": 291,
    "start_time": "2025-10-25T10:12:52.128Z"
   },
   {
    "duration": 9,
    "start_time": "2025-10-25T10:12:52.422Z"
   },
   {
    "duration": 6,
    "start_time": "2025-10-25T10:12:52.433Z"
   },
   {
    "duration": 5,
    "start_time": "2025-10-25T10:12:52.440Z"
   },
   {
    "duration": 7,
    "start_time": "2025-10-25T10:12:52.446Z"
   },
   {
    "duration": 5,
    "start_time": "2025-10-25T10:12:52.454Z"
   },
   {
    "duration": 53,
    "start_time": "2025-10-25T10:12:52.460Z"
   },
   {
    "duration": 58,
    "start_time": "2025-10-25T10:12:52.516Z"
   },
   {
    "duration": 8,
    "start_time": "2025-10-25T10:12:52.576Z"
   },
   {
    "duration": 1141,
    "start_time": "2025-10-25T10:12:52.586Z"
   },
   {
    "duration": 492,
    "start_time": "2025-10-25T10:12:53.728Z"
   },
   {
    "duration": 720,
    "start_time": "2025-10-25T10:12:54.222Z"
   },
   {
    "duration": 246,
    "start_time": "2025-10-25T10:12:54.944Z"
   },
   {
    "duration": 541,
    "start_time": "2025-10-25T10:12:55.192Z"
   },
   {
    "duration": 249,
    "start_time": "2025-10-25T10:12:55.735Z"
   },
   {
    "duration": 112,
    "start_time": "2025-10-25T10:24:14.322Z"
   },
   {
    "duration": 16,
    "start_time": "2025-10-25T10:24:16.746Z"
   },
   {
    "duration": 13,
    "start_time": "2025-10-25T10:24:19.034Z"
   },
   {
    "duration": 93,
    "start_time": "2025-10-25T10:24:25.611Z"
   },
   {
    "duration": 3,
    "start_time": "2025-10-25T10:24:28.300Z"
   },
   {
    "duration": 9266,
    "start_time": "2025-10-25T10:24:53.266Z"
   },
   {
    "duration": 8965,
    "start_time": "2025-10-25T10:25:02.534Z"
   },
   {
    "duration": 5649,
    "start_time": "2025-10-25T10:25:11.500Z"
   },
   {
    "duration": 224,
    "start_time": "2025-10-25T10:25:17.150Z"
   },
   {
    "duration": 9,
    "start_time": "2025-10-25T10:25:17.376Z"
   },
   {
    "duration": 53,
    "start_time": "2025-10-25T10:25:17.387Z"
   },
   {
    "duration": 15,
    "start_time": "2025-10-25T10:25:17.442Z"
   },
   {
    "duration": 62,
    "start_time": "2025-10-25T10:25:17.458Z"
   },
   {
    "duration": 432,
    "start_time": "2025-10-25T10:25:17.522Z"
   },
   {
    "duration": 113,
    "start_time": "2025-10-25T10:25:17.956Z"
   },
   {
    "duration": 5949,
    "start_time": "2025-10-25T10:25:18.071Z"
   },
   {
    "duration": 114,
    "start_time": "2025-10-25T10:25:24.022Z"
   },
   {
    "duration": 37,
    "start_time": "2025-10-25T10:25:24.138Z"
   },
   {
    "duration": 238,
    "start_time": "2025-10-25T10:25:24.178Z"
   },
   {
    "duration": 219,
    "start_time": "2025-10-25T10:25:24.423Z"
   },
   {
    "duration": 4,
    "start_time": "2025-10-25T10:25:24.644Z"
   },
   {
    "duration": 96,
    "start_time": "2025-10-25T10:25:24.649Z"
   },
   {
    "duration": 5,
    "start_time": "2025-10-25T10:25:24.746Z"
   },
   {
    "duration": 45,
    "start_time": "2025-10-25T10:25:24.753Z"
   },
   {
    "duration": 55,
    "start_time": "2025-10-25T10:25:24.799Z"
   },
   {
    "duration": 75,
    "start_time": "2025-10-25T10:25:24.855Z"
   },
   {
    "duration": 67,
    "start_time": "2025-10-25T10:25:24.932Z"
   },
   {
    "duration": 405,
    "start_time": "2025-10-25T10:25:25.000Z"
   },
   {
    "duration": 11,
    "start_time": "2025-10-25T10:25:25.410Z"
   },
   {
    "duration": 14,
    "start_time": "2025-10-25T10:25:25.423Z"
   },
   {
    "duration": 340,
    "start_time": "2025-10-25T10:25:25.439Z"
   },
   {
    "duration": 6,
    "start_time": "2025-10-25T10:25:25.780Z"
   },
   {
    "duration": 292,
    "start_time": "2025-10-25T10:25:25.788Z"
   },
   {
    "duration": 26,
    "start_time": "2025-10-25T10:25:26.082Z"
   },
   {
    "duration": 44,
    "start_time": "2025-10-25T10:25:26.110Z"
   },
   {
    "duration": 83,
    "start_time": "2025-10-25T10:25:26.156Z"
   },
   {
    "duration": 4,
    "start_time": "2025-10-25T10:25:26.240Z"
   },
   {
    "duration": 265,
    "start_time": "2025-10-25T10:25:26.245Z"
   },
   {
    "duration": 78,
    "start_time": "2025-10-25T10:25:26.512Z"
   },
   {
    "duration": 135,
    "start_time": "2025-10-25T10:25:26.605Z"
   },
   {
    "duration": 40,
    "start_time": "2025-10-25T10:25:26.742Z"
   },
   {
    "duration": 349,
    "start_time": "2025-10-25T10:25:26.784Z"
   },
   {
    "duration": 11,
    "start_time": "2025-10-25T10:25:27.134Z"
   },
   {
    "duration": 36,
    "start_time": "2025-10-25T10:25:27.146Z"
   },
   {
    "duration": 3,
    "start_time": "2025-10-25T10:25:27.184Z"
   },
   {
    "duration": 14,
    "start_time": "2025-10-25T10:25:27.213Z"
   },
   {
    "duration": 11,
    "start_time": "2025-10-25T10:25:27.229Z"
   },
   {
    "duration": 36,
    "start_time": "2025-10-25T10:25:27.242Z"
   },
   {
    "duration": 25,
    "start_time": "2025-10-25T10:25:27.280Z"
   },
   {
    "duration": 13,
    "start_time": "2025-10-25T10:25:27.308Z"
   },
   {
    "duration": 4,
    "start_time": "2025-10-25T10:25:27.322Z"
   },
   {
    "duration": 5,
    "start_time": "2025-10-25T10:25:27.328Z"
   },
   {
    "duration": 10,
    "start_time": "2025-10-25T10:25:27.334Z"
   },
   {
    "duration": 65,
    "start_time": "2025-10-25T10:25:27.346Z"
   },
   {
    "duration": 142,
    "start_time": "2025-10-25T10:25:27.413Z"
   },
   {
    "duration": 5,
    "start_time": "2025-10-25T10:25:27.557Z"
   },
   {
    "duration": 311,
    "start_time": "2025-10-25T10:25:27.564Z"
   },
   {
    "duration": 5,
    "start_time": "2025-10-25T10:25:27.876Z"
   },
   {
    "duration": 154,
    "start_time": "2025-10-25T10:25:27.882Z"
   },
   {
    "duration": 252,
    "start_time": "2025-10-25T10:25:28.037Z"
   },
   {
    "duration": 5,
    "start_time": "2025-10-25T10:25:28.291Z"
   },
   {
    "duration": 15,
    "start_time": "2025-10-25T10:25:28.306Z"
   },
   {
    "duration": 8,
    "start_time": "2025-10-25T10:25:28.324Z"
   },
   {
    "duration": 5,
    "start_time": "2025-10-25T10:25:28.334Z"
   },
   {
    "duration": 27,
    "start_time": "2025-10-25T10:25:28.340Z"
   },
   {
    "duration": 65,
    "start_time": "2025-10-25T10:25:28.369Z"
   },
   {
    "duration": 152,
    "start_time": "2025-10-25T10:25:28.436Z"
   },
   {
    "duration": 152,
    "start_time": "2025-10-25T10:25:28.590Z"
   },
   {
    "duration": 21,
    "start_time": "2025-10-25T10:25:28.744Z"
   },
   {
    "duration": 156,
    "start_time": "2025-10-25T10:25:28.767Z"
   },
   {
    "duration": 123,
    "start_time": "2025-10-25T10:25:28.925Z"
   },
   {
    "duration": 26,
    "start_time": "2025-10-25T10:25:29.050Z"
   },
   {
    "duration": 1853,
    "start_time": "2025-10-25T10:25:29.078Z"
   },
   {
    "duration": 1929,
    "start_time": "2025-10-25T10:25:30.933Z"
   },
   {
    "duration": 23,
    "start_time": "2025-10-25T10:25:32.863Z"
   },
   {
    "duration": 469,
    "start_time": "2025-10-25T10:25:32.888Z"
   },
   {
    "duration": 374,
    "start_time": "2025-10-25T10:25:33.359Z"
   },
   {
    "duration": 10,
    "start_time": "2025-10-25T10:25:33.735Z"
   },
   {
    "duration": 3,
    "start_time": "2025-10-25T10:25:33.747Z"
   },
   {
    "duration": 30,
    "start_time": "2025-10-25T10:25:33.752Z"
   },
   {
    "duration": 279,
    "start_time": "2025-10-25T10:25:33.783Z"
   },
   {
    "duration": 18,
    "start_time": "2025-10-25T10:25:34.064Z"
   },
   {
    "duration": 159,
    "start_time": "2025-10-25T10:25:34.084Z"
   },
   {
    "duration": 28,
    "start_time": "2025-10-25T10:25:34.245Z"
   },
   {
    "duration": 7,
    "start_time": "2025-10-25T10:25:34.275Z"
   },
   {
    "duration": 337,
    "start_time": "2025-10-25T10:25:34.283Z"
   },
   {
    "duration": 30,
    "start_time": "2025-10-25T10:25:34.622Z"
   },
   {
    "duration": 91,
    "start_time": "2025-10-25T10:25:34.653Z"
   },
   {
    "duration": 276,
    "start_time": "2025-10-25T10:25:34.746Z"
   },
   {
    "duration": 302,
    "start_time": "2025-10-25T10:25:35.023Z"
   },
   {
    "duration": 394,
    "start_time": "2025-10-25T10:25:35.327Z"
   },
   {
    "duration": 165,
    "start_time": "2025-10-25T10:25:35.723Z"
   },
   {
    "duration": 15,
    "start_time": "2025-10-25T10:25:35.890Z"
   },
   {
    "duration": 14,
    "start_time": "2025-10-25T10:25:35.907Z"
   },
   {
    "duration": 14,
    "start_time": "2025-10-25T10:25:35.923Z"
   },
   {
    "duration": 5,
    "start_time": "2025-10-25T10:25:35.939Z"
   },
   {
    "duration": 10,
    "start_time": "2025-10-25T10:25:35.946Z"
   },
   {
    "duration": 8,
    "start_time": "2025-10-25T10:25:35.957Z"
   },
   {
    "duration": 43,
    "start_time": "2025-10-25T10:25:35.967Z"
   },
   {
    "duration": 6,
    "start_time": "2025-10-25T10:25:36.013Z"
   },
   {
    "duration": 13,
    "start_time": "2025-10-25T10:25:36.023Z"
   },
   {
    "duration": 6,
    "start_time": "2025-10-25T10:25:36.038Z"
   },
   {
    "duration": 254,
    "start_time": "2025-10-25T10:25:36.046Z"
   },
   {
    "duration": 19,
    "start_time": "2025-10-25T10:25:36.303Z"
   },
   {
    "duration": 300,
    "start_time": "2025-10-25T10:25:36.324Z"
   },
   {
    "duration": 8,
    "start_time": "2025-10-25T10:25:36.626Z"
   },
   {
    "duration": 7,
    "start_time": "2025-10-25T10:25:36.636Z"
   },
   {
    "duration": 85,
    "start_time": "2025-10-25T10:25:36.644Z"
   },
   {
    "duration": 11,
    "start_time": "2025-10-25T10:25:36.730Z"
   },
   {
    "duration": 6,
    "start_time": "2025-10-25T10:25:36.743Z"
   },
   {
    "duration": 14,
    "start_time": "2025-10-25T10:25:36.750Z"
   },
   {
    "duration": 11,
    "start_time": "2025-10-25T10:25:36.765Z"
   },
   {
    "duration": 8,
    "start_time": "2025-10-25T10:25:36.778Z"
   },
   {
    "duration": 1620,
    "start_time": "2025-10-25T10:25:36.787Z"
   },
   {
    "duration": 535,
    "start_time": "2025-10-25T10:25:38.409Z"
   },
   {
    "duration": 702,
    "start_time": "2025-10-25T10:25:38.945Z"
   },
   {
    "duration": 251,
    "start_time": "2025-10-25T10:25:39.649Z"
   },
   {
    "duration": 569,
    "start_time": "2025-10-25T10:25:39.906Z"
   },
   {
    "duration": 298,
    "start_time": "2025-10-25T10:25:40.477Z"
   },
   {
    "duration": 74,
    "start_time": "2025-10-25T10:28:58.314Z"
   },
   {
    "duration": 10847,
    "start_time": "2025-10-25T13:42:08.033Z"
   },
   {
    "duration": 7487,
    "start_time": "2025-10-25T13:42:18.882Z"
   },
   {
    "duration": 4921,
    "start_time": "2025-10-25T13:42:26.370Z"
   },
   {
    "duration": 192,
    "start_time": "2025-10-25T13:42:31.292Z"
   },
   {
    "duration": 12,
    "start_time": "2025-10-25T13:42:31.487Z"
   },
   {
    "duration": 88,
    "start_time": "2025-10-25T13:42:31.501Z"
   },
   {
    "duration": 16,
    "start_time": "2025-10-25T13:42:31.591Z"
   },
   {
    "duration": 47,
    "start_time": "2025-10-25T13:42:31.610Z"
   },
   {
    "duration": 379,
    "start_time": "2025-10-25T13:42:31.659Z"
   },
   {
    "duration": 116,
    "start_time": "2025-10-25T13:42:32.039Z"
   },
   {
    "duration": 5923,
    "start_time": "2025-10-25T13:42:32.157Z"
   },
   {
    "duration": 87,
    "start_time": "2025-10-25T13:42:38.082Z"
   },
   {
    "duration": 35,
    "start_time": "2025-10-25T13:42:38.170Z"
   },
   {
    "duration": 182,
    "start_time": "2025-10-25T13:42:38.208Z"
   },
   {
    "duration": 172,
    "start_time": "2025-10-25T13:42:38.392Z"
   },
   {
    "duration": 5,
    "start_time": "2025-10-25T13:42:38.565Z"
   },
   {
    "duration": 29,
    "start_time": "2025-10-25T13:42:38.571Z"
   },
   {
    "duration": 4,
    "start_time": "2025-10-25T13:42:38.602Z"
   },
   {
    "duration": 54,
    "start_time": "2025-10-25T13:42:38.608Z"
   },
   {
    "duration": 37,
    "start_time": "2025-10-25T13:42:38.663Z"
   },
   {
    "duration": 65,
    "start_time": "2025-10-25T13:42:38.702Z"
   },
   {
    "duration": 18,
    "start_time": "2025-10-25T13:42:38.769Z"
   },
   {
    "duration": 404,
    "start_time": "2025-10-25T13:42:38.788Z"
   },
   {
    "duration": 9,
    "start_time": "2025-10-25T13:42:39.194Z"
   },
   {
    "duration": 46,
    "start_time": "2025-10-25T13:42:39.205Z"
   },
   {
    "duration": 310,
    "start_time": "2025-10-25T13:42:39.252Z"
   },
   {
    "duration": 8,
    "start_time": "2025-10-25T13:42:39.563Z"
   },
   {
    "duration": 261,
    "start_time": "2025-10-25T13:42:39.573Z"
   },
   {
    "duration": 18,
    "start_time": "2025-10-25T13:42:39.836Z"
   },
   {
    "duration": 50,
    "start_time": "2025-10-25T13:42:39.856Z"
   },
   {
    "duration": 97,
    "start_time": "2025-10-25T13:42:39.908Z"
   },
   {
    "duration": 3,
    "start_time": "2025-10-25T13:42:40.007Z"
   },
   {
    "duration": 211,
    "start_time": "2025-10-25T13:42:40.012Z"
   },
   {
    "duration": 70,
    "start_time": "2025-10-25T13:42:40.228Z"
   },
   {
    "duration": 123,
    "start_time": "2025-10-25T13:42:40.300Z"
   },
   {
    "duration": 35,
    "start_time": "2025-10-25T13:42:40.428Z"
   },
   {
    "duration": 281,
    "start_time": "2025-10-25T13:42:40.465Z"
   },
   {
    "duration": 10,
    "start_time": "2025-10-25T13:42:40.748Z"
   },
   {
    "duration": 47,
    "start_time": "2025-10-25T13:42:40.760Z"
   },
   {
    "duration": 4,
    "start_time": "2025-10-25T13:42:40.808Z"
   },
   {
    "duration": 37,
    "start_time": "2025-10-25T13:42:40.818Z"
   },
   {
    "duration": 28,
    "start_time": "2025-10-25T13:42:40.856Z"
   },
   {
    "duration": 24,
    "start_time": "2025-10-25T13:42:40.886Z"
   },
   {
    "duration": 41,
    "start_time": "2025-10-25T13:42:40.912Z"
   },
   {
    "duration": 19,
    "start_time": "2025-10-25T13:42:40.956Z"
   },
   {
    "duration": 26,
    "start_time": "2025-10-25T13:42:40.976Z"
   },
   {
    "duration": 23,
    "start_time": "2025-10-25T13:42:41.004Z"
   },
   {
    "duration": 9,
    "start_time": "2025-10-25T13:42:41.029Z"
   },
   {
    "duration": 35,
    "start_time": "2025-10-25T13:42:41.040Z"
   },
   {
    "duration": 132,
    "start_time": "2025-10-25T13:42:41.077Z"
   },
   {
    "duration": 5,
    "start_time": "2025-10-25T13:42:41.210Z"
   },
   {
    "duration": 215,
    "start_time": "2025-10-25T13:42:41.216Z"
   },
   {
    "duration": 5,
    "start_time": "2025-10-25T13:42:41.433Z"
   },
   {
    "duration": 159,
    "start_time": "2025-10-25T13:42:41.439Z"
   },
   {
    "duration": 198,
    "start_time": "2025-10-25T13:42:41.600Z"
   },
   {
    "duration": 5,
    "start_time": "2025-10-25T13:42:41.800Z"
   },
   {
    "duration": 25,
    "start_time": "2025-10-25T13:42:41.806Z"
   },
   {
    "duration": 29,
    "start_time": "2025-10-25T13:42:41.833Z"
   },
   {
    "duration": 16,
    "start_time": "2025-10-25T13:42:41.864Z"
   },
   {
    "duration": 46,
    "start_time": "2025-10-25T13:42:41.881Z"
   },
   {
    "duration": 20,
    "start_time": "2025-10-25T13:42:41.928Z"
   },
   {
    "duration": 146,
    "start_time": "2025-10-25T13:42:41.949Z"
   },
   {
    "duration": 136,
    "start_time": "2025-10-25T13:42:42.097Z"
   },
   {
    "duration": 19,
    "start_time": "2025-10-25T13:42:42.235Z"
   },
   {
    "duration": 131,
    "start_time": "2025-10-25T13:42:42.255Z"
   },
   {
    "duration": 115,
    "start_time": "2025-10-25T13:42:42.387Z"
   },
   {
    "duration": 34,
    "start_time": "2025-10-25T13:42:42.503Z"
   },
   {
    "duration": 1831,
    "start_time": "2025-10-25T13:42:42.538Z"
   },
   {
    "duration": 1887,
    "start_time": "2025-10-25T13:42:44.370Z"
   },
   {
    "duration": 24,
    "start_time": "2025-10-25T13:42:46.258Z"
   },
   {
    "duration": 359,
    "start_time": "2025-10-25T13:42:46.284Z"
   },
   {
    "duration": 346,
    "start_time": "2025-10-25T13:42:46.645Z"
   },
   {
    "duration": 10,
    "start_time": "2025-10-25T13:42:46.993Z"
   },
   {
    "duration": 4,
    "start_time": "2025-10-25T13:42:47.004Z"
   },
   {
    "duration": 36,
    "start_time": "2025-10-25T13:42:47.010Z"
   },
   {
    "duration": 328,
    "start_time": "2025-10-25T13:42:47.048Z"
   },
   {
    "duration": 25,
    "start_time": "2025-10-25T13:42:47.378Z"
   },
   {
    "duration": 153,
    "start_time": "2025-10-25T13:42:47.405Z"
   },
   {
    "duration": 24,
    "start_time": "2025-10-25T13:42:47.559Z"
   },
   {
    "duration": 8,
    "start_time": "2025-10-25T13:42:47.586Z"
   },
   {
    "duration": 323,
    "start_time": "2025-10-25T13:42:47.596Z"
   },
   {
    "duration": 26,
    "start_time": "2025-10-25T13:42:47.927Z"
   },
   {
    "duration": 16,
    "start_time": "2025-10-25T13:42:47.955Z"
   },
   {
    "duration": 293,
    "start_time": "2025-10-25T13:42:47.972Z"
   },
   {
    "duration": 267,
    "start_time": "2025-10-25T13:42:48.267Z"
   },
   {
    "duration": 366,
    "start_time": "2025-10-25T13:42:48.537Z"
   },
   {
    "duration": 159,
    "start_time": "2025-10-25T13:42:48.905Z"
   },
   {
    "duration": 8,
    "start_time": "2025-10-25T13:42:49.066Z"
   },
   {
    "duration": 4,
    "start_time": "2025-10-25T13:42:49.075Z"
   },
   {
    "duration": 8,
    "start_time": "2025-10-25T13:42:49.081Z"
   },
   {
    "duration": 3,
    "start_time": "2025-10-25T13:42:49.091Z"
   },
   {
    "duration": 34,
    "start_time": "2025-10-25T13:42:49.096Z"
   },
   {
    "duration": 5,
    "start_time": "2025-10-25T13:42:49.131Z"
   },
   {
    "duration": 6,
    "start_time": "2025-10-25T13:42:49.137Z"
   },
   {
    "duration": 6,
    "start_time": "2025-10-25T13:42:49.145Z"
   },
   {
    "duration": 14,
    "start_time": "2025-10-25T13:42:49.153Z"
   },
   {
    "duration": 5,
    "start_time": "2025-10-25T13:42:49.168Z"
   },
   {
    "duration": 185,
    "start_time": "2025-10-25T13:42:49.174Z"
   },
   {
    "duration": 7,
    "start_time": "2025-10-25T13:42:49.361Z"
   },
   {
    "duration": 277,
    "start_time": "2025-10-25T13:42:49.369Z"
   },
   {
    "duration": 6,
    "start_time": "2025-10-25T13:42:49.648Z"
   },
   {
    "duration": 14,
    "start_time": "2025-10-25T13:42:49.656Z"
   },
   {
    "duration": 7,
    "start_time": "2025-10-25T13:42:49.672Z"
   },
   {
    "duration": 4,
    "start_time": "2025-10-25T13:42:49.680Z"
   },
   {
    "duration": 5,
    "start_time": "2025-10-25T13:42:49.686Z"
   },
   {
    "duration": 9,
    "start_time": "2025-10-25T13:42:49.692Z"
   },
   {
    "duration": 36,
    "start_time": "2025-10-25T13:42:49.702Z"
   },
   {
    "duration": 12,
    "start_time": "2025-10-25T13:42:49.739Z"
   },
   {
    "duration": 1230,
    "start_time": "2025-10-25T13:42:49.753Z"
   },
   {
    "duration": 481,
    "start_time": "2025-10-25T13:42:50.984Z"
   },
   {
    "duration": 653,
    "start_time": "2025-10-25T13:42:51.466Z"
   },
   {
    "duration": 277,
    "start_time": "2025-10-25T13:42:52.120Z"
   },
   {
    "duration": 537,
    "start_time": "2025-10-25T13:42:52.399Z"
   },
   {
    "duration": 281,
    "start_time": "2025-10-25T13:42:52.938Z"
   },
   {
    "duration": 94,
    "start_time": "2025-10-25T14:14:59.388Z"
   },
   {
    "duration": 3,
    "start_time": "2025-10-25T14:15:43.077Z"
   },
   {
    "duration": 44,
    "start_time": "2025-10-25T14:16:05.153Z"
   },
   {
    "duration": 8692,
    "start_time": "2025-10-25T14:31:57.567Z"
   },
   {
    "duration": 8527,
    "start_time": "2025-10-25T14:32:06.261Z"
   },
   {
    "duration": 4192,
    "start_time": "2025-10-25T14:32:14.790Z"
   },
   {
    "duration": 198,
    "start_time": "2025-10-25T14:32:18.984Z"
   },
   {
    "duration": 9,
    "start_time": "2025-10-25T14:32:19.184Z"
   },
   {
    "duration": 43,
    "start_time": "2025-10-25T14:32:19.206Z"
   },
   {
    "duration": 14,
    "start_time": "2025-10-25T14:32:19.251Z"
   },
   {
    "duration": 78,
    "start_time": "2025-10-25T14:32:19.267Z"
   },
   {
    "duration": 375,
    "start_time": "2025-10-25T14:32:19.347Z"
   },
   {
    "duration": 112,
    "start_time": "2025-10-25T14:32:19.725Z"
   },
   {
    "duration": 5355,
    "start_time": "2025-10-25T14:32:19.838Z"
   },
   {
    "duration": 98,
    "start_time": "2025-10-25T14:32:25.195Z"
   },
   {
    "duration": 45,
    "start_time": "2025-10-25T14:32:25.295Z"
   },
   {
    "duration": 201,
    "start_time": "2025-10-25T14:32:25.342Z"
   },
   {
    "duration": 230,
    "start_time": "2025-10-25T14:32:25.544Z"
   },
   {
    "duration": 5,
    "start_time": "2025-10-25T14:32:25.776Z"
   },
   {
    "duration": 42,
    "start_time": "2025-10-25T14:32:25.783Z"
   },
   {
    "duration": 5,
    "start_time": "2025-10-25T14:32:25.827Z"
   },
   {
    "duration": 40,
    "start_time": "2025-10-25T14:32:25.833Z"
   },
   {
    "duration": 58,
    "start_time": "2025-10-25T14:32:25.874Z"
   },
   {
    "duration": 49,
    "start_time": "2025-10-25T14:32:25.933Z"
   },
   {
    "duration": 33,
    "start_time": "2025-10-25T14:32:25.984Z"
   },
   {
    "duration": 382,
    "start_time": "2025-10-25T14:32:26.019Z"
   },
   {
    "duration": 6,
    "start_time": "2025-10-25T14:32:26.403Z"
   },
   {
    "duration": 13,
    "start_time": "2025-10-25T14:32:26.410Z"
   },
   {
    "duration": 411,
    "start_time": "2025-10-25T14:32:26.425Z"
   },
   {
    "duration": 7,
    "start_time": "2025-10-25T14:32:26.837Z"
   },
   {
    "duration": 261,
    "start_time": "2025-10-25T14:32:26.849Z"
   },
   {
    "duration": 17,
    "start_time": "2025-10-25T14:32:27.112Z"
   },
   {
    "duration": 13,
    "start_time": "2025-10-25T14:32:27.130Z"
   },
   {
    "duration": 99,
    "start_time": "2025-10-25T14:32:27.144Z"
   },
   {
    "duration": 3,
    "start_time": "2025-10-25T14:32:27.244Z"
   },
   {
    "duration": 255,
    "start_time": "2025-10-25T14:32:27.249Z"
   },
   {
    "duration": 72,
    "start_time": "2025-10-25T14:32:27.506Z"
   },
   {
    "duration": 167,
    "start_time": "2025-10-25T14:32:27.579Z"
   },
   {
    "duration": 37,
    "start_time": "2025-10-25T14:32:27.748Z"
   },
   {
    "duration": 290,
    "start_time": "2025-10-25T14:32:27.787Z"
   },
   {
    "duration": 10,
    "start_time": "2025-10-25T14:32:28.079Z"
   },
   {
    "duration": 41,
    "start_time": "2025-10-25T14:32:28.091Z"
   },
   {
    "duration": 3,
    "start_time": "2025-10-25T14:32:28.134Z"
   },
   {
    "duration": 20,
    "start_time": "2025-10-25T14:32:28.139Z"
   },
   {
    "duration": 13,
    "start_time": "2025-10-25T14:32:28.160Z"
   },
   {
    "duration": 32,
    "start_time": "2025-10-25T14:32:28.175Z"
   },
   {
    "duration": 21,
    "start_time": "2025-10-25T14:32:28.208Z"
   },
   {
    "duration": 6,
    "start_time": "2025-10-25T14:32:28.230Z"
   },
   {
    "duration": 4,
    "start_time": "2025-10-25T14:32:28.237Z"
   },
   {
    "duration": 4,
    "start_time": "2025-10-25T14:32:28.243Z"
   },
   {
    "duration": 21,
    "start_time": "2025-10-25T14:32:28.248Z"
   },
   {
    "duration": 46,
    "start_time": "2025-10-25T14:32:28.271Z"
   },
   {
    "duration": 134,
    "start_time": "2025-10-25T14:32:28.319Z"
   },
   {
    "duration": 6,
    "start_time": "2025-10-25T14:32:28.455Z"
   },
   {
    "duration": 144,
    "start_time": "2025-10-25T14:32:28.463Z"
   },
   {
    "duration": 6,
    "start_time": "2025-10-25T14:32:28.609Z"
   },
   {
    "duration": 147,
    "start_time": "2025-10-25T14:32:28.617Z"
   },
   {
    "duration": 210,
    "start_time": "2025-10-25T14:32:28.766Z"
   },
   {
    "duration": 6,
    "start_time": "2025-10-25T14:32:28.979Z"
   },
   {
    "duration": 60,
    "start_time": "2025-10-25T14:32:28.986Z"
   },
   {
    "duration": 8,
    "start_time": "2025-10-25T14:32:29.048Z"
   },
   {
    "duration": 5,
    "start_time": "2025-10-25T14:32:29.058Z"
   },
   {
    "duration": 24,
    "start_time": "2025-10-25T14:32:29.065Z"
   },
   {
    "duration": 18,
    "start_time": "2025-10-25T14:32:29.091Z"
   },
   {
    "duration": 146,
    "start_time": "2025-10-25T14:32:29.111Z"
   },
   {
    "duration": 142,
    "start_time": "2025-10-25T14:32:29.259Z"
   },
   {
    "duration": 18,
    "start_time": "2025-10-25T14:32:29.402Z"
   },
   {
    "duration": 136,
    "start_time": "2025-10-25T14:32:29.421Z"
   },
   {
    "duration": 120,
    "start_time": "2025-10-25T14:32:29.559Z"
   },
   {
    "duration": 29,
    "start_time": "2025-10-25T14:32:29.681Z"
   },
   {
    "duration": 1922,
    "start_time": "2025-10-25T14:32:29.712Z"
   },
   {
    "duration": 1738,
    "start_time": "2025-10-25T14:32:31.636Z"
   },
   {
    "duration": 37,
    "start_time": "2025-10-25T14:32:33.376Z"
   },
   {
    "duration": 345,
    "start_time": "2025-10-25T14:32:33.415Z"
   },
   {
    "duration": 349,
    "start_time": "2025-10-25T14:32:33.762Z"
   },
   {
    "duration": 12,
    "start_time": "2025-10-25T14:32:34.113Z"
   },
   {
    "duration": 4,
    "start_time": "2025-10-25T14:32:34.126Z"
   },
   {
    "duration": 25,
    "start_time": "2025-10-25T14:32:34.131Z"
   },
   {
    "duration": 286,
    "start_time": "2025-10-25T14:32:34.158Z"
   },
   {
    "duration": 21,
    "start_time": "2025-10-25T14:32:34.446Z"
   },
   {
    "duration": 140,
    "start_time": "2025-10-25T14:32:34.468Z"
   },
   {
    "duration": 21,
    "start_time": "2025-10-25T14:32:34.610Z"
   },
   {
    "duration": 9,
    "start_time": "2025-10-25T14:32:34.633Z"
   },
   {
    "duration": 372,
    "start_time": "2025-10-25T14:32:34.644Z"
   },
   {
    "duration": 26,
    "start_time": "2025-10-25T14:32:35.023Z"
   },
   {
    "duration": 16,
    "start_time": "2025-10-25T14:32:35.051Z"
   },
   {
    "duration": 406,
    "start_time": "2025-10-25T14:32:35.069Z"
   },
   {
    "duration": 276,
    "start_time": "2025-10-25T14:32:35.477Z"
   },
   {
    "duration": 266,
    "start_time": "2025-10-25T14:32:35.756Z"
   },
   {
    "duration": 3,
    "start_time": "2025-10-25T14:32:36.024Z"
   },
   {
    "duration": 19,
    "start_time": "2025-10-25T14:32:36.028Z"
   },
   {
    "duration": 4,
    "start_time": "2025-10-25T14:32:36.049Z"
   },
   {
    "duration": 9,
    "start_time": "2025-10-25T14:32:36.054Z"
   },
   {
    "duration": 4,
    "start_time": "2025-10-25T14:32:36.065Z"
   },
   {
    "duration": 13,
    "start_time": "2025-10-25T14:32:36.070Z"
   },
   {
    "duration": 22,
    "start_time": "2025-10-25T14:32:36.085Z"
   },
   {
    "duration": 6,
    "start_time": "2025-10-25T14:32:36.109Z"
   },
   {
    "duration": 5,
    "start_time": "2025-10-25T14:32:36.116Z"
   },
   {
    "duration": 9,
    "start_time": "2025-10-25T14:32:36.122Z"
   },
   {
    "duration": 4,
    "start_time": "2025-10-25T14:32:36.133Z"
   },
   {
    "duration": 182,
    "start_time": "2025-10-25T14:32:36.138Z"
   },
   {
    "duration": 7,
    "start_time": "2025-10-25T14:32:36.322Z"
   },
   {
    "duration": 285,
    "start_time": "2025-10-25T14:32:36.330Z"
   },
   {
    "duration": 6,
    "start_time": "2025-10-25T14:32:36.617Z"
   },
   {
    "duration": 6,
    "start_time": "2025-10-25T14:32:36.625Z"
   },
   {
    "duration": 6,
    "start_time": "2025-10-25T14:32:36.632Z"
   },
   {
    "duration": 5,
    "start_time": "2025-10-25T14:32:36.639Z"
   },
   {
    "duration": 116,
    "start_time": "2025-10-25T14:32:36.646Z"
   },
   {
    "duration": 14,
    "start_time": "2025-10-25T14:32:36.764Z"
   },
   {
    "duration": 10,
    "start_time": "2025-10-25T14:32:36.780Z"
   },
   {
    "duration": 9,
    "start_time": "2025-10-25T14:32:36.791Z"
   },
   {
    "duration": 1348,
    "start_time": "2025-10-25T14:32:36.801Z"
   },
   {
    "duration": 504,
    "start_time": "2025-10-25T14:32:38.152Z"
   },
   {
    "duration": 554,
    "start_time": "2025-10-25T14:32:38.657Z"
   },
   {
    "duration": 262,
    "start_time": "2025-10-25T14:32:39.212Z"
   },
   {
    "duration": 616,
    "start_time": "2025-10-25T14:32:39.475Z"
   },
   {
    "duration": 342,
    "start_time": "2025-10-25T14:32:40.093Z"
   },
   {
    "duration": 285,
    "start_time": "2025-10-25T14:36:07.427Z"
   },
   {
    "duration": 17,
    "start_time": "2025-10-25T14:39:38.509Z"
   },
   {
    "duration": 86,
    "start_time": "2025-10-25T14:40:13.337Z"
   },
   {
    "duration": 82,
    "start_time": "2025-10-25T14:52:24.734Z"
   },
   {
    "duration": 7578,
    "start_time": "2025-10-25T14:53:06.356Z"
   },
   {
    "duration": 10612,
    "start_time": "2025-10-25T14:53:52.346Z"
   },
   {
    "duration": 191,
    "start_time": "2025-10-25T14:58:54.888Z"
   },
   {
    "duration": 18,
    "start_time": "2025-10-25T14:58:57.648Z"
   },
   {
    "duration": 11,
    "start_time": "2025-10-25T15:01:09.401Z"
   },
   {
    "duration": 584,
    "start_time": "2025-10-25T15:02:47.722Z"
   },
   {
    "duration": 50,
    "start_time": "2025-10-25T15:03:03.607Z"
   },
   {
    "duration": 61,
    "start_time": "2025-10-25T15:03:43.577Z"
   },
   {
    "duration": 289,
    "start_time": "2025-10-25T15:06:15.630Z"
   },
   {
    "duration": 327,
    "start_time": "2025-10-25T15:07:21.225Z"
   },
   {
    "duration": 372,
    "start_time": "2025-10-25T15:07:47.804Z"
   },
   {
    "duration": 414,
    "start_time": "2025-10-25T15:09:01.884Z"
   },
   {
    "duration": 373,
    "start_time": "2025-10-25T15:10:42.233Z"
   },
   {
    "duration": 507,
    "start_time": "2025-10-25T15:12:15.101Z"
   },
   {
    "duration": 526,
    "start_time": "2025-10-25T15:12:20.054Z"
   },
   {
    "duration": 191,
    "start_time": "2025-10-25T15:12:24.758Z"
   },
   {
    "duration": 187,
    "start_time": "2025-10-25T15:12:28.830Z"
   },
   {
    "duration": 51,
    "start_time": "2025-10-25T15:13:03.203Z"
   },
   {
    "duration": 113,
    "start_time": "2025-10-25T15:14:48.672Z"
   },
   {
    "duration": 88,
    "start_time": "2025-10-25T15:14:49.111Z"
   },
   {
    "duration": 15,
    "start_time": "2025-10-25T15:18:42.350Z"
   },
   {
    "duration": 431,
    "start_time": "2025-10-25T15:20:13.322Z"
   },
   {
    "duration": 82,
    "start_time": "2025-10-25T15:20:50.310Z"
   },
   {
    "duration": 114,
    "start_time": "2025-10-25T15:24:14.527Z"
   },
   {
    "duration": 246,
    "start_time": "2025-10-25T15:24:23.336Z"
   },
   {
    "duration": 434,
    "start_time": "2025-10-25T15:26:15.687Z"
   },
   {
    "duration": 3,
    "start_time": "2025-10-25T15:26:20.032Z"
   },
   {
    "duration": 11,
    "start_time": "2025-10-25T15:26:20.521Z"
   },
   {
    "duration": 11,
    "start_time": "2025-10-25T15:26:22.455Z"
   },
   {
    "duration": 9,
    "start_time": "2025-10-25T15:26:23.399Z"
   },
   {
    "duration": 14,
    "start_time": "2025-10-25T15:26:32.777Z"
   },
   {
    "duration": 102,
    "start_time": "2025-10-25T15:27:16.190Z"
   },
   {
    "duration": 78,
    "start_time": "2025-10-25T15:29:12.069Z"
   },
   {
    "duration": 11241,
    "start_time": "2025-10-25T15:30:26.029Z"
   },
   {
    "duration": 107,
    "start_time": "2025-10-25T15:30:37.272Z"
   },
   {
    "duration": 0,
    "start_time": "2025-10-25T15:30:37.383Z"
   },
   {
    "duration": 0,
    "start_time": "2025-10-25T15:30:37.384Z"
   },
   {
    "duration": 0,
    "start_time": "2025-10-25T15:30:37.385Z"
   },
   {
    "duration": 0,
    "start_time": "2025-10-25T15:30:37.386Z"
   },
   {
    "duration": 0,
    "start_time": "2025-10-25T15:30:37.388Z"
   },
   {
    "duration": 0,
    "start_time": "2025-10-25T15:30:37.388Z"
   },
   {
    "duration": 0,
    "start_time": "2025-10-25T15:30:37.389Z"
   },
   {
    "duration": 0,
    "start_time": "2025-10-25T15:30:37.390Z"
   },
   {
    "duration": 0,
    "start_time": "2025-10-25T15:30:37.391Z"
   },
   {
    "duration": 0,
    "start_time": "2025-10-25T15:30:37.393Z"
   },
   {
    "duration": 0,
    "start_time": "2025-10-25T15:30:37.393Z"
   },
   {
    "duration": 0,
    "start_time": "2025-10-25T15:30:37.405Z"
   },
   {
    "duration": 0,
    "start_time": "2025-10-25T15:30:37.406Z"
   },
   {
    "duration": 0,
    "start_time": "2025-10-25T15:30:37.407Z"
   },
   {
    "duration": 0,
    "start_time": "2025-10-25T15:30:37.408Z"
   },
   {
    "duration": 0,
    "start_time": "2025-10-25T15:30:37.409Z"
   },
   {
    "duration": 0,
    "start_time": "2025-10-25T15:30:37.411Z"
   },
   {
    "duration": 0,
    "start_time": "2025-10-25T15:30:37.411Z"
   },
   {
    "duration": 0,
    "start_time": "2025-10-25T15:30:37.412Z"
   },
   {
    "duration": 0,
    "start_time": "2025-10-25T15:30:37.414Z"
   },
   {
    "duration": 0,
    "start_time": "2025-10-25T15:30:37.415Z"
   },
   {
    "duration": 0,
    "start_time": "2025-10-25T15:30:37.416Z"
   },
   {
    "duration": 0,
    "start_time": "2025-10-25T15:30:37.417Z"
   },
   {
    "duration": 0,
    "start_time": "2025-10-25T15:30:37.418Z"
   },
   {
    "duration": 0,
    "start_time": "2025-10-25T15:30:37.419Z"
   },
   {
    "duration": 0,
    "start_time": "2025-10-25T15:30:37.420Z"
   },
   {
    "duration": 0,
    "start_time": "2025-10-25T15:30:37.421Z"
   },
   {
    "duration": 0,
    "start_time": "2025-10-25T15:30:37.422Z"
   },
   {
    "duration": 0,
    "start_time": "2025-10-25T15:30:37.423Z"
   },
   {
    "duration": 0,
    "start_time": "2025-10-25T15:30:37.424Z"
   },
   {
    "duration": 0,
    "start_time": "2025-10-25T15:30:37.425Z"
   },
   {
    "duration": 0,
    "start_time": "2025-10-25T15:30:37.426Z"
   },
   {
    "duration": 0,
    "start_time": "2025-10-25T15:30:37.428Z"
   },
   {
    "duration": 0,
    "start_time": "2025-10-25T15:30:37.429Z"
   },
   {
    "duration": 0,
    "start_time": "2025-10-25T15:30:37.430Z"
   },
   {
    "duration": 0,
    "start_time": "2025-10-25T15:30:37.431Z"
   },
   {
    "duration": 0,
    "start_time": "2025-10-25T15:30:37.432Z"
   },
   {
    "duration": 0,
    "start_time": "2025-10-25T15:30:37.433Z"
   },
   {
    "duration": 0,
    "start_time": "2025-10-25T15:30:37.434Z"
   },
   {
    "duration": 0,
    "start_time": "2025-10-25T15:30:37.435Z"
   },
   {
    "duration": 0,
    "start_time": "2025-10-25T15:30:37.436Z"
   },
   {
    "duration": 0,
    "start_time": "2025-10-25T15:30:37.437Z"
   },
   {
    "duration": 0,
    "start_time": "2025-10-25T15:30:37.438Z"
   },
   {
    "duration": 0,
    "start_time": "2025-10-25T15:30:37.439Z"
   },
   {
    "duration": 0,
    "start_time": "2025-10-25T15:30:37.505Z"
   },
   {
    "duration": 0,
    "start_time": "2025-10-25T15:30:37.506Z"
   },
   {
    "duration": 0,
    "start_time": "2025-10-25T15:30:37.508Z"
   },
   {
    "duration": 0,
    "start_time": "2025-10-25T15:30:37.509Z"
   },
   {
    "duration": 0,
    "start_time": "2025-10-25T15:30:37.510Z"
   },
   {
    "duration": 0,
    "start_time": "2025-10-25T15:30:37.511Z"
   },
   {
    "duration": 0,
    "start_time": "2025-10-25T15:30:37.512Z"
   },
   {
    "duration": 0,
    "start_time": "2025-10-25T15:30:37.513Z"
   },
   {
    "duration": 0,
    "start_time": "2025-10-25T15:30:37.514Z"
   },
   {
    "duration": 0,
    "start_time": "2025-10-25T15:30:37.515Z"
   },
   {
    "duration": 0,
    "start_time": "2025-10-25T15:30:37.516Z"
   },
   {
    "duration": 0,
    "start_time": "2025-10-25T15:30:37.517Z"
   },
   {
    "duration": 0,
    "start_time": "2025-10-25T15:30:37.518Z"
   },
   {
    "duration": 0,
    "start_time": "2025-10-25T15:30:37.519Z"
   },
   {
    "duration": 0,
    "start_time": "2025-10-25T15:30:37.520Z"
   },
   {
    "duration": 0,
    "start_time": "2025-10-25T15:30:37.522Z"
   },
   {
    "duration": 0,
    "start_time": "2025-10-25T15:30:37.522Z"
   },
   {
    "duration": 0,
    "start_time": "2025-10-25T15:30:37.523Z"
   },
   {
    "duration": 0,
    "start_time": "2025-10-25T15:30:37.524Z"
   },
   {
    "duration": 0,
    "start_time": "2025-10-25T15:30:37.525Z"
   },
   {
    "duration": 0,
    "start_time": "2025-10-25T15:30:37.526Z"
   },
   {
    "duration": 0,
    "start_time": "2025-10-25T15:30:37.527Z"
   },
   {
    "duration": 0,
    "start_time": "2025-10-25T15:30:37.528Z"
   },
   {
    "duration": 0,
    "start_time": "2025-10-25T15:30:37.529Z"
   },
   {
    "duration": 0,
    "start_time": "2025-10-25T15:30:37.530Z"
   },
   {
    "duration": 0,
    "start_time": "2025-10-25T15:30:37.531Z"
   },
   {
    "duration": 0,
    "start_time": "2025-10-25T15:30:37.532Z"
   },
   {
    "duration": 0,
    "start_time": "2025-10-25T15:30:37.533Z"
   },
   {
    "duration": 0,
    "start_time": "2025-10-25T15:30:37.534Z"
   },
   {
    "duration": 0,
    "start_time": "2025-10-25T15:30:37.535Z"
   },
   {
    "duration": 0,
    "start_time": "2025-10-25T15:30:37.536Z"
   },
   {
    "duration": 0,
    "start_time": "2025-10-25T15:30:37.537Z"
   },
   {
    "duration": 0,
    "start_time": "2025-10-25T15:30:37.538Z"
   },
   {
    "duration": 0,
    "start_time": "2025-10-25T15:30:37.539Z"
   },
   {
    "duration": 0,
    "start_time": "2025-10-25T15:30:37.541Z"
   },
   {
    "duration": 0,
    "start_time": "2025-10-25T15:30:37.611Z"
   },
   {
    "duration": 0,
    "start_time": "2025-10-25T15:30:37.612Z"
   },
   {
    "duration": 0,
    "start_time": "2025-10-25T15:30:37.614Z"
   },
   {
    "duration": 0,
    "start_time": "2025-10-25T15:30:37.615Z"
   },
   {
    "duration": 0,
    "start_time": "2025-10-25T15:30:37.616Z"
   },
   {
    "duration": 0,
    "start_time": "2025-10-25T15:30:37.618Z"
   },
   {
    "duration": 0,
    "start_time": "2025-10-25T15:30:37.620Z"
   },
   {
    "duration": 0,
    "start_time": "2025-10-25T15:30:37.622Z"
   },
   {
    "duration": 0,
    "start_time": "2025-10-25T15:30:37.624Z"
   },
   {
    "duration": 0,
    "start_time": "2025-10-25T15:30:37.625Z"
   },
   {
    "duration": 0,
    "start_time": "2025-10-25T15:30:37.627Z"
   },
   {
    "duration": 0,
    "start_time": "2025-10-25T15:30:37.628Z"
   },
   {
    "duration": 0,
    "start_time": "2025-10-25T15:30:37.628Z"
   },
   {
    "duration": 0,
    "start_time": "2025-10-25T15:30:37.629Z"
   },
   {
    "duration": 0,
    "start_time": "2025-10-25T15:30:37.630Z"
   },
   {
    "duration": 0,
    "start_time": "2025-10-25T15:30:37.631Z"
   },
   {
    "duration": 0,
    "start_time": "2025-10-25T15:30:37.632Z"
   },
   {
    "duration": 0,
    "start_time": "2025-10-25T15:30:37.634Z"
   },
   {
    "duration": 0,
    "start_time": "2025-10-25T15:30:37.636Z"
   },
   {
    "duration": 0,
    "start_time": "2025-10-25T15:30:37.637Z"
   },
   {
    "duration": 0,
    "start_time": "2025-10-25T15:30:37.638Z"
   },
   {
    "duration": 0,
    "start_time": "2025-10-25T15:30:37.640Z"
   },
   {
    "duration": 0,
    "start_time": "2025-10-25T15:30:37.641Z"
   },
   {
    "duration": 0,
    "start_time": "2025-10-25T15:30:37.643Z"
   },
   {
    "duration": 0,
    "start_time": "2025-10-25T15:30:37.644Z"
   },
   {
    "duration": 0,
    "start_time": "2025-10-25T15:30:37.646Z"
   },
   {
    "duration": 0,
    "start_time": "2025-10-25T15:30:37.706Z"
   },
   {
    "duration": 0,
    "start_time": "2025-10-25T15:30:37.706Z"
   },
   {
    "duration": 0,
    "start_time": "2025-10-25T15:30:37.708Z"
   },
   {
    "duration": 0,
    "start_time": "2025-10-25T15:30:37.709Z"
   },
   {
    "duration": 0,
    "start_time": "2025-10-25T15:30:37.710Z"
   },
   {
    "duration": 0,
    "start_time": "2025-10-25T15:30:37.711Z"
   },
   {
    "duration": 0,
    "start_time": "2025-10-25T15:30:37.712Z"
   },
   {
    "duration": 0,
    "start_time": "2025-10-25T15:30:37.714Z"
   },
   {
    "duration": 0,
    "start_time": "2025-10-25T15:30:37.714Z"
   },
   {
    "duration": 0,
    "start_time": "2025-10-25T15:30:37.716Z"
   },
   {
    "duration": 0,
    "start_time": "2025-10-25T15:30:37.717Z"
   },
   {
    "duration": 0,
    "start_time": "2025-10-25T15:30:37.718Z"
   },
   {
    "duration": 0,
    "start_time": "2025-10-25T15:30:37.719Z"
   },
   {
    "duration": 0,
    "start_time": "2025-10-25T15:30:37.720Z"
   },
   {
    "duration": 8581,
    "start_time": "2025-10-25T15:31:25.739Z"
   },
   {
    "duration": 11422,
    "start_time": "2025-10-25T15:31:47.775Z"
   },
   {
    "duration": 8638,
    "start_time": "2025-10-25T15:31:59.199Z"
   },
   {
    "duration": 118682,
    "start_time": "2025-10-25T15:32:07.839Z"
   },
   {
    "duration": 214,
    "start_time": "2025-10-25T15:34:06.523Z"
   },
   {
    "duration": 18,
    "start_time": "2025-10-25T15:34:06.739Z"
   },
   {
    "duration": 141,
    "start_time": "2025-10-25T15:34:06.758Z"
   },
   {
    "duration": 15,
    "start_time": "2025-10-25T15:34:06.901Z"
   },
   {
    "duration": 116,
    "start_time": "2025-10-25T15:34:06.917Z"
   },
   {
    "duration": 403,
    "start_time": "2025-10-25T15:34:07.035Z"
   },
   {
    "duration": 113,
    "start_time": "2025-10-25T15:34:07.441Z"
   },
   {
    "duration": 5444,
    "start_time": "2025-10-25T15:34:07.556Z"
   },
   {
    "duration": 110,
    "start_time": "2025-10-25T15:34:13.005Z"
   },
   {
    "duration": 38,
    "start_time": "2025-10-25T15:34:13.117Z"
   },
   {
    "duration": 536,
    "start_time": "2025-10-25T15:34:13.156Z"
   },
   {
    "duration": 28,
    "start_time": "2025-10-25T15:34:13.694Z"
   },
   {
    "duration": 386,
    "start_time": "2025-10-25T15:34:13.723Z"
   },
   {
    "duration": 429,
    "start_time": "2025-10-25T15:34:14.111Z"
   },
   {
    "duration": 558,
    "start_time": "2025-10-25T15:34:14.541Z"
   },
   {
    "duration": 77,
    "start_time": "2025-10-25T15:34:15.102Z"
   },
   {
    "duration": 194,
    "start_time": "2025-10-25T15:34:15.181Z"
   },
   {
    "duration": 195,
    "start_time": "2025-10-25T15:34:15.376Z"
   },
   {
    "duration": 5,
    "start_time": "2025-10-25T15:34:15.573Z"
   },
   {
    "duration": 40,
    "start_time": "2025-10-25T15:34:15.579Z"
   },
   {
    "duration": 5,
    "start_time": "2025-10-25T15:34:15.621Z"
   },
   {
    "duration": 43,
    "start_time": "2025-10-25T15:34:15.627Z"
   },
   {
    "duration": 63,
    "start_time": "2025-10-25T15:34:15.671Z"
   },
   {
    "duration": 98,
    "start_time": "2025-10-25T15:34:15.735Z"
   },
   {
    "duration": 15,
    "start_time": "2025-10-25T15:34:15.838Z"
   },
   {
    "duration": 401,
    "start_time": "2025-10-25T15:34:15.855Z"
   },
   {
    "duration": 8,
    "start_time": "2025-10-25T15:34:16.258Z"
   },
   {
    "duration": 13,
    "start_time": "2025-10-25T15:34:16.268Z"
   },
   {
    "duration": 297,
    "start_time": "2025-10-25T15:34:16.305Z"
   },
   {
    "duration": 7,
    "start_time": "2025-10-25T15:34:16.604Z"
   },
   {
    "duration": 156,
    "start_time": "2025-10-25T15:34:16.613Z"
   },
   {
    "duration": 65,
    "start_time": "2025-10-25T15:34:16.771Z"
   },
   {
    "duration": 14,
    "start_time": "2025-10-25T15:34:16.838Z"
   },
   {
    "duration": 11,
    "start_time": "2025-10-25T15:34:16.853Z"
   },
   {
    "duration": 65,
    "start_time": "2025-10-25T15:34:16.866Z"
   },
   {
    "duration": 43,
    "start_time": "2025-10-25T15:34:16.933Z"
   },
   {
    "duration": 206,
    "start_time": "2025-10-25T15:34:16.978Z"
   },
   {
    "duration": 377,
    "start_time": "2025-10-25T15:34:17.186Z"
   },
   {
    "duration": 435,
    "start_time": "2025-10-25T15:34:17.564Z"
   },
   {
    "duration": 2,
    "start_time": "2025-10-25T15:34:18.001Z"
   },
   {
    "duration": 26,
    "start_time": "2025-10-25T15:34:18.004Z"
   },
   {
    "duration": 3,
    "start_time": "2025-10-25T15:34:18.032Z"
   },
   {
    "duration": 3,
    "start_time": "2025-10-25T15:34:18.037Z"
   },
   {
    "duration": 14,
    "start_time": "2025-10-25T15:34:18.041Z"
   },
   {
    "duration": 11,
    "start_time": "2025-10-25T15:34:18.057Z"
   },
   {
    "duration": 14,
    "start_time": "2025-10-25T15:34:18.070Z"
   },
   {
    "duration": 15,
    "start_time": "2025-10-25T15:34:18.087Z"
   },
   {
    "duration": 31,
    "start_time": "2025-10-25T15:34:18.105Z"
   },
   {
    "duration": 5,
    "start_time": "2025-10-25T15:34:18.138Z"
   },
   {
    "duration": 10,
    "start_time": "2025-10-25T15:34:18.145Z"
   },
   {
    "duration": 4,
    "start_time": "2025-10-25T15:34:18.157Z"
   },
   {
    "duration": 11,
    "start_time": "2025-10-25T15:34:18.163Z"
   },
   {
    "duration": 58,
    "start_time": "2025-10-25T15:34:18.176Z"
   },
   {
    "duration": 146,
    "start_time": "2025-10-25T15:34:18.237Z"
   },
   {
    "duration": 6,
    "start_time": "2025-10-25T15:34:18.385Z"
   },
   {
    "duration": 133,
    "start_time": "2025-10-25T15:34:18.392Z"
   },
   {
    "duration": 6,
    "start_time": "2025-10-25T15:34:18.527Z"
   },
   {
    "duration": 150,
    "start_time": "2025-10-25T15:34:18.535Z"
   },
   {
    "duration": 214,
    "start_time": "2025-10-25T15:34:18.687Z"
   },
   {
    "duration": 5,
    "start_time": "2025-10-25T15:34:18.905Z"
   },
   {
    "duration": 79,
    "start_time": "2025-10-25T15:34:18.911Z"
   },
   {
    "duration": 8,
    "start_time": "2025-10-25T15:34:18.992Z"
   },
   {
    "duration": 4,
    "start_time": "2025-10-25T15:34:19.002Z"
   },
   {
    "duration": 23,
    "start_time": "2025-10-25T15:34:19.008Z"
   },
   {
    "duration": 18,
    "start_time": "2025-10-25T15:34:19.032Z"
   },
   {
    "duration": 147,
    "start_time": "2025-10-25T15:34:19.051Z"
   },
   {
    "duration": 137,
    "start_time": "2025-10-25T15:34:19.199Z"
   },
   {
    "duration": 18,
    "start_time": "2025-10-25T15:34:19.338Z"
   },
   {
    "duration": 132,
    "start_time": "2025-10-25T15:34:19.357Z"
   },
   {
    "duration": 106,
    "start_time": "2025-10-25T15:34:19.490Z"
   },
   {
    "duration": 30,
    "start_time": "2025-10-25T15:34:19.598Z"
   },
   {
    "duration": 1916,
    "start_time": "2025-10-25T15:34:19.630Z"
   },
   {
    "duration": 1724,
    "start_time": "2025-10-25T15:34:21.547Z"
   },
   {
    "duration": 34,
    "start_time": "2025-10-25T15:34:23.273Z"
   },
   {
    "duration": 371,
    "start_time": "2025-10-25T15:34:23.309Z"
   },
   {
    "duration": 350,
    "start_time": "2025-10-25T15:34:23.682Z"
   },
   {
    "duration": 12,
    "start_time": "2025-10-25T15:34:24.034Z"
   },
   {
    "duration": 4,
    "start_time": "2025-10-25T15:34:24.047Z"
   },
   {
    "duration": 22,
    "start_time": "2025-10-25T15:34:24.057Z"
   },
   {
    "duration": 246,
    "start_time": "2025-10-25T15:34:24.105Z"
   },
   {
    "duration": 18,
    "start_time": "2025-10-25T15:34:24.353Z"
   },
   {
    "duration": 134,
    "start_time": "2025-10-25T15:34:24.373Z"
   },
   {
    "duration": 22,
    "start_time": "2025-10-25T15:34:24.508Z"
   },
   {
    "duration": 10,
    "start_time": "2025-10-25T15:34:24.531Z"
   },
   {
    "duration": 435,
    "start_time": "2025-10-25T15:34:24.543Z"
   },
   {
    "duration": 42,
    "start_time": "2025-10-25T15:34:24.979Z"
   },
   {
    "duration": 7,
    "start_time": "2025-10-25T15:34:25.023Z"
   },
   {
    "duration": 266,
    "start_time": "2025-10-25T15:34:25.032Z"
   },
   {
    "duration": 278,
    "start_time": "2025-10-25T15:34:25.304Z"
   },
   {
    "duration": 256,
    "start_time": "2025-10-25T15:34:25.584Z"
   },
   {
    "duration": 3,
    "start_time": "2025-10-25T15:34:25.841Z"
   },
   {
    "duration": 11,
    "start_time": "2025-10-25T15:34:25.845Z"
   },
   {
    "duration": 5,
    "start_time": "2025-10-25T15:34:25.857Z"
   },
   {
    "duration": 10,
    "start_time": "2025-10-25T15:34:25.863Z"
   },
   {
    "duration": 32,
    "start_time": "2025-10-25T15:34:25.874Z"
   },
   {
    "duration": 11,
    "start_time": "2025-10-25T15:34:25.908Z"
   },
   {
    "duration": 5,
    "start_time": "2025-10-25T15:34:25.920Z"
   },
   {
    "duration": 7,
    "start_time": "2025-10-25T15:34:25.927Z"
   },
   {
    "duration": 5,
    "start_time": "2025-10-25T15:34:25.936Z"
   },
   {
    "duration": 12,
    "start_time": "2025-10-25T15:34:25.943Z"
   },
   {
    "duration": 50,
    "start_time": "2025-10-25T15:34:25.957Z"
   },
   {
    "duration": 170,
    "start_time": "2025-10-25T15:34:26.009Z"
   },
   {
    "duration": 6,
    "start_time": "2025-10-25T15:34:26.181Z"
   },
   {
    "duration": 295,
    "start_time": "2025-10-25T15:34:26.189Z"
   },
   {
    "duration": 22,
    "start_time": "2025-10-25T15:34:26.486Z"
   },
   {
    "duration": 7,
    "start_time": "2025-10-25T15:34:26.511Z"
   },
   {
    "duration": 6,
    "start_time": "2025-10-25T15:34:26.519Z"
   },
   {
    "duration": 4,
    "start_time": "2025-10-25T15:34:26.526Z"
   },
   {
    "duration": 4,
    "start_time": "2025-10-25T15:34:26.532Z"
   },
   {
    "duration": 9,
    "start_time": "2025-10-25T15:34:26.537Z"
   },
   {
    "duration": 10,
    "start_time": "2025-10-25T15:34:26.547Z"
   },
   {
    "duration": 8,
    "start_time": "2025-10-25T15:34:26.559Z"
   },
   {
    "duration": 1245,
    "start_time": "2025-10-25T15:34:26.605Z"
   },
   {
    "duration": 474,
    "start_time": "2025-10-25T15:34:27.852Z"
   },
   {
    "duration": 557,
    "start_time": "2025-10-25T15:34:28.327Z"
   },
   {
    "duration": 297,
    "start_time": "2025-10-25T15:34:28.885Z"
   },
   {
    "duration": 517,
    "start_time": "2025-10-25T15:34:29.184Z"
   },
   {
    "duration": 267,
    "start_time": "2025-10-25T15:34:29.705Z"
   }
  ],
  "colab": {
   "provenance": [],
   "toc_visible": true
  },
  "kernelspec": {
   "display_name": "Python 3 (ipykernel)",
   "language": "python",
   "name": "python3"
  },
  "language_info": {
   "codemirror_mode": {
    "name": "ipython",
    "version": 3
   },
   "file_extension": ".py",
   "mimetype": "text/x-python",
   "name": "python",
   "nbconvert_exporter": "python",
   "pygments_lexer": "ipython3",
   "version": "3.9.5"
  },
  "toc": {
   "base_numbering": 1,
   "nav_menu": {},
   "number_sections": true,
   "sideBar": true,
   "skip_h1_title": true,
   "title_cell": "Table of Contents",
   "title_sidebar": "Contents",
   "toc_cell": false,
   "toc_position": {},
   "toc_section_display": true,
   "toc_window_display": true
  }
 },
 "nbformat": 4,
 "nbformat_minor": 5
}
